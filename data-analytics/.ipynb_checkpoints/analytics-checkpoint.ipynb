{
 "cells": [
  {
   "cell_type": "code",
   "execution_count": 4,
   "metadata": {},
   "outputs": [],
   "source": [
    "from numpy import NaN\n",
    "import datetime\n",
    "import numpy as np\n",
    "import pandas as pd\n",
    "from typing import List, Dict, Any\n",
    "import operator\n",
    "import os\n",
    "import socket\n",
    "import matplotlib.pyplot as plt\n",
    "import plotly.graph_objects as go\n",
    "import plotly.express as px\n",
    "import plotly.graph_objects as go\n",
    "import warnings\n",
    "warnings.filterwarnings('ignore')"
   ]
  },
  {
   "cell_type": "code",
   "execution_count": 5,
   "metadata": {
    "colab": {
     "base_uri": "https://localhost:8080/",
     "height": 1000
    },
    "id": "-6ZeOtIe5otK",
    "outputId": "5c81df67-b1be-4657-914e-f80fdc78ed72"
   },
   "outputs": [],
   "source": [
    "class analytics:\n",
    "\n",
    "    def __init__(self):\n",
    "        pass\n",
    "\n",
    "    def get_slippage(self, start_time: str , end_time:str, notional: int, exchange: str, inst_type: str, symbol: str, interval: str='8h') -> pd.DataFrame():\n",
    "        interval = int(interval)*1000\n",
    "        filepaths = [f for f in os.listdir(\".\") if f.endswith('.csv')]\n",
    "        df = pd.concat(map(pd.read_csv, filepaths))\n",
    "        df.drop(columns = [\"Unnamed: 0\"], inplace = True)\n",
    "        df = df.sort_values(by = \"timestamp\", ascending = True)\n",
    "        df.reset_index(inplace = True,drop = True)\n",
    "        df = df.dropna()\n",
    "        df[\"timestamp\"] = df[\"timestamp\"].astype(int)\n",
    "        print(df.dtypes)\n",
    "        dol = notional\n",
    "        df_slip = pd.DataFrame(columns = [\"timestamp\",\"buy_slippage\",\"sell_slippage\"])\n",
    "        for i in range(int(df[\"timestamp\"].min()),int(df[\"timestamp\"].max()),interval):\n",
    "            df_8 = df.loc[(df[\"timestamp\"]>i)&(df[\"timestamp\"]<i+interval)]\n",
    "            df_8 = df_8.sort_values(by = \"timestamp\")\n",
    "            if(not df_8.empty):\n",
    "                l = list(df_8[\"timestamp\"])\n",
    "                l1 = [0]+l\n",
    "                l2 = list(map(operator.sub, l, l1))[1:]\n",
    "                l2.append(i+interval-l[-1])\n",
    "\n",
    "                slipl=[]\n",
    "                sliplb=[]\n",
    "\n",
    "                for index, row in df_8.iterrows():\n",
    "\n",
    "                    n = 0\n",
    "                    k = 0\n",
    "                    tot = 0\n",
    "                    la = \"\"\n",
    "                    totb = 0\n",
    "                    lb = \"\"\n",
    "                    nb = 0\n",
    "                    kb = 0\n",
    "                    for j in range(0,20):\n",
    "                        if(tot<dol):\n",
    "                            tot += row[\"ask_\"+str(j)+\"_px\"]*row[\"ask_\"+str(j)+\"_qty\"]\n",
    "                            k += row[\"ask_\"+str(j)+\"_px\"]*row[\"ask_\"+str(j)+\"_qty\"]\n",
    "                            n += row[\"ask_\"+str(j)+\"_qty\"]\n",
    "                            la = str(j)\n",
    "                        if(totb<dol):\n",
    "                            totb += row[\"bid_\"+str(j)+\"_px\"]*row[\"bid_\"+str(j)+\"_qty\"]\n",
    "                            kb += row[\"bid_\"+str(j)+\"_px\"]*row[\"bid_\"+str(j)+\"_qty\"]\n",
    "                            nb += row[\"bid_\"+str(j)+\"_qty\"]\n",
    "                            lb = str(j)\n",
    "                    extra = abs(tot-dol)\n",
    "                    k = k-extra\n",
    "                    n = n-extra/row[\"ask_\"+la+\"_px\"]\n",
    "                    mid = (row[\"ask_0_px\"] + row[\"bid_0_px\"]) /2.0\n",
    "                    avg_buy = k/n\n",
    "                    slip = (abs(avg_buy - mid) / mid) *100\n",
    "                    extrab = abs(totb-dol)\n",
    "                    kb = kb-extrab\n",
    "                    nb = nb-extrab/row[\"bid_\"+lb+\"_px\"]\n",
    "                    avg_buyb = kb/nb\n",
    "                    slipb = (abs(avg_buyb - mid) / mid) *100\n",
    "                    slipl.append(slip)\n",
    "                    sliplb.append(slipb)\n",
    "\n",
    "                l3 = list(map(operator.mul, slipl, l2))\n",
    "                l3b = list(map(operator.mul, sliplb, l2))\n",
    "                df_slip = df_slip.append(pd.DataFrame([[i+interval,sum(l3)/sum(l2),sum(l3b)/sum(l2)]], columns = [\"timestamp\",\"buy_slippage\",\"sell_slippage\"]))\n",
    "            else:\n",
    "                df_slip = df_slip.append(pd.DataFrame([[i+interval,NaN,NaN]], columns = [\"timestamp\",\"buy_slippage\",\"sell_slippage\"]))\n",
    "\n",
    "        df_slip['datetime_HKT']=pd.to_datetime(df_slip['timestamp'], unit='ms')\\\n",
    "                                            .dt.tz_localize('UTC' )\\\n",
    "                                            .dt.tz_convert('Asia/Hong_Kong')\n",
    "\n",
    "        df_slip['datetime_GMT']=pd.to_datetime(df_slip['timestamp'], unit='ms')\\\n",
    "                        .dt.tz_localize('UTC' )\\\n",
    "                        .dt.tz_convert('Etc/GMT')\n",
    "        df_slip['datetime_HKT'] = pd.to_datetime(df_slip.datetime_HKT).dt.tz_localize(None)\n",
    "        df_slip['datetime_GMT'] = pd.to_datetime(df_slip.datetime_GMT).dt.tz_localize(None)\n",
    "        total = 0\n",
    "        n = 1\n",
    "        mean = []\n",
    "        totalb = 0\n",
    "        meanb=[]\n",
    "        for index,row in df_slip.iterrows():\n",
    "            total+=row[\"buy_slippage\"]\n",
    "            mean.append(total/n)\n",
    "            totalb+=row[\"sell_slippage\"]\n",
    "            meanb.append(totalb/n)\n",
    "            n+=1\n",
    "        df_slip[\"mean_buy_slippage\"] = mean\n",
    "        df_slip[\"mean_sell_slippage\"] = meanb\n",
    "        \n",
    "        return df_slip\n",
    "\n",
    "    def get_spread(self, exchange: str, inst_type: str, symbol: str, interval: str='8h',start_time: str=\"\" , end_time:str=\"\") -> pd.DataFrame():\n",
    "        interval = int(interval)*1000\n",
    "        filepaths = [f for f in os.listdir(\".\") if f.endswith('.csv')]\n",
    "        df = pd.concat(map(pd.read_csv, filepaths))\n",
    "        df.drop(columns = [\"Unnamed: 0\"], inplace = True)\n",
    "        df = df.sort_values(by = \"timestamp\", ascending = True)\n",
    "        df.reset_index(inplace = True,drop = True)\n",
    "        df = df.dropna()\n",
    "        df[\"timestamp\"] = df[\"timestamp\"].astype(int)\n",
    "        df = df.dropna()\n",
    "        s = pd.DataFrame(columns=[\"timestamp\",\"spread\"])\n",
    "        for i in range(int(df[\"timestamp\"].min()),int(df[\"timestamp\"].max()),interval):\n",
    "            df_8 = df.loc[(df[\"timestamp\"]>i)&(df[\"timestamp\"]<i+interval)]\n",
    "            df_8 = df_8.sort_values(by = \"timestamp\")\n",
    "            if(not df_8.empty):\n",
    "                l = list(df_8[\"timestamp\"])\n",
    "                l1 = [0]+l\n",
    "                l2 = list(map(operator.sub, l, l1))[1:]\n",
    "                l2.append(i+interval-l[-1])\n",
    "                spread = []\n",
    "\n",
    "                for index, row in df_8.iterrows():\n",
    "                    mid = (row[\"ask_0_px\"] + row[\"bid_0_px\"]) /2.0\n",
    "                    sp = ((row[\"ask_0_px\"] - row[\"bid_0_px\"]) / mid) *100\n",
    "                    spread.append(sp)\n",
    "                l3 = list(map(operator.mul, spread, l2))\n",
    "                s = s.append(pd.DataFrame([[i+interval,sum(l3)/sum(l2)]], columns = [\"timestamp\",\"spread\"]))\n",
    "            else:\n",
    "                # print(i)\n",
    "                s = s.append(pd.DataFrame([[i+interval,NaN]], columns = [\"timestamp\",\"spread\"]))\n",
    "        s['datetime_HKT']=pd.to_datetime(s['timestamp'], unit='ms')\\\n",
    "                                            .dt.tz_localize('UTC' )\\\n",
    "                                            .dt.tz_convert('Asia/Hong_Kong')\n",
    "\n",
    "        s['datetime_GMT']=pd.to_datetime(s['timestamp'], unit='ms')\\\n",
    "                        .dt.tz_localize('UTC' )\\\n",
    "                        .dt.tz_convert('Etc/GMT')\n",
    "        s['datetime_HKT'] = pd.to_datetime(s.datetime_HKT).dt.tz_localize(None)\n",
    "        s['datetime_GMT'] = pd.to_datetime(s.datetime_GMT).dt.tz_localize(None)\n",
    "        total = 0\n",
    "        n = 1\n",
    "        mean = []\n",
    "        for index,row in s.iterrows():\n",
    "            total+=row[\"spread\"]\n",
    "            mean.append(total/n)\n",
    "            n+=1\n",
    "        s[\"mean_spread\"] = mean\n",
    "\n",
    "        return s\n",
    "\n",
    "    def get_depth(self, exchange: str, inst_type: str, symbol: str, interval: str='8h',start_time: str=\"\" , end_time:str=\"\") -> pd.DataFrame():\n",
    "        def bps_calculator(row, bps):\n",
    "            tot_ask = 0\n",
    "            tot_bid = 0\n",
    "            mid = (row[\"ask_0_px\"] + row[\"bid_0_px\"]) /2.0\n",
    "            upper = row[\"ask_0_px\"]+row[\"ask_0_px\"]*bps/10000\n",
    "            lower = row[\"bid_0_px\"]- row[\"bid_0_px\"]*bps/10000\n",
    "            for j in range(0,20):\n",
    "                if(row[\"ask_\"+str(j)+\"_px\"]<=upper):\n",
    "                    tot_ask+=row[\"ask_\"+str(j)+\"_qty\"]*row[\"ask_\"+str(j)+\"_px\"]\n",
    "                if(row[\"bid_\"+str(j)+\"_px\"]>=lower):\n",
    "                    tot_bid+=row[\"bid_\"+str(j)+\"_qty\"]*row[\"bid_\"+str(j)+\"_px\"]\n",
    "            tot = tot_ask+tot_bid\n",
    "            return tot_ask,tot_bid,tot\n",
    "        \n",
    "        interval = int(interval)*1000\n",
    "        filepaths = [f for f in os.listdir(\".\") if f.endswith('.csv')]\n",
    "        df = pd.concat(map(pd.read_csv, filepaths))\n",
    "        df.drop(columns = [\"Unnamed: 0\"], inplace = True)\n",
    "        df = df.sort_values(by = \"timestamp\", ascending = True)\n",
    "        df.reset_index(inplace = True,drop = True)\n",
    "        df = df.dropna()\n",
    "        df[\"timestamp\"] = df[\"timestamp\"].astype(int)\n",
    "        depth = pd.DataFrame(columns=[\"timestamp\",\"total_volume50\",\"total_volume100\",\"total_volume200\",\"ask_volume50\",\"ask_volume100\",\"ask_volume200\",\"bid_volume50\",\"bid_volume100\",\"bid_volume200\"])\n",
    "        for i in range(int(df[\"timestamp\"].min()),int(df[\"timestamp\"].max()),interval):\n",
    "            df_8 = df.loc[(df[\"timestamp\"]>i)&(df[\"timestamp\"]<i+interval)]\n",
    "            df_8 = df_8.sort_values(by = \"timestamp\")\n",
    "            # print(df_8)\n",
    "            if(not df_8.empty):\n",
    "                l = list(df_8[\"timestamp\"])\n",
    "                l1 = [0]+l\n",
    "                l2 = list(map(operator.sub, l, l1))[1:]\n",
    "                l2.append(i+interval-l[-1])\n",
    "                depthlask50, depthlbid50, depthltot50  =  [],[],[]\n",
    "                depthlask100,depthlbid100, depthltot100 = [],[],[]\n",
    "                depthlask200, depthlbid200, depthltot200 =  [],[],[]            \n",
    "                for index, row in df_8.iterrows():\n",
    "                    totask50,totbid50,tottot50 = bps_calculator(row,50)\n",
    "                    depthlask50.append(totask50)\n",
    "                    depthlbid50.append(totbid50)\n",
    "                    depthltot50.append(tottot50)\n",
    "                    totask100,totbid100,tottot100 = bps_calculator(row,100)\n",
    "                    depthlask100.append(totask100)\n",
    "                    depthlbid100.append(totbid100)\n",
    "                    depthltot100.append(tottot100)\n",
    "                    totask200,totbid200,tottot200 = bps_calculator(row,200)\n",
    "                    depthlask200.append(totask200)\n",
    "                    depthlbid200.append(totbid200)\n",
    "                    depthltot200.append(tottot200)\n",
    "                l3a = list(map(operator.mul, depthltot50, l2))\n",
    "                l3b = list(map(operator.mul, depthltot100, l2))\n",
    "                l3t = list(map(operator.mul, depthltot200, l2))\n",
    "                l3aa = list(map(operator.mul, depthlask50, l2))\n",
    "                l3ba = list(map(operator.mul, depthlask100, l2))\n",
    "                l3ta = list(map(operator.mul, depthlask200, l2))\n",
    "                l3ab = list(map(operator.mul, depthlbid50, l2))\n",
    "                l3bb = list(map(operator.mul, depthlbid100, l2))\n",
    "                l3tb = list(map(operator.mul, depthlbid200, l2))\n",
    "                \n",
    "                depth = depth.append(pd.DataFrame([[i+interval,sum(l3a)/sum(l2),sum(l3b)/sum(l2),sum(l3t)/sum(l2),sum(l3aa)/sum(l2),sum(l3ba)/sum(l2),sum(l3ta)/sum(l2),sum(l3ab)/sum(l2),sum(l3bb)/sum(l2),sum(l3tb)/sum(l2)]], columns = [\"timestamp\",\"total_volume50\",\"total_volume100\",\"total_volume200\",\"ask_volume50\",\"ask_volume100\",\"ask_volume200\",\"bid_volume50\",\"bid_volume100\",\"bid_volume200\"]))\n",
    "            else:\n",
    "                # print(i)\n",
    "                depth = depth.append(pd.DataFrame([[i+interval,NaN,NaN,NaN,NaN,NaN,NaN,NaN,NaN,NaN]], columns = [\"timestamp\",\"total_volume50\",\"total_volume100\",\"total_volume200\",\"ask_volume50\",\"ask_volume100\",\"ask_volume200\",\"bid_volume50\",\"bid_volume100\",\"bid_volume200\"]))\n",
    "\n",
    "        depth['datetime_HKT']=pd.to_datetime(depth['timestamp'], unit='ms')\\\n",
    "                                            .dt.tz_localize('UTC' )\\\n",
    "                                            .dt.tz_convert('Asia/Hong_Kong')\n",
    "\n",
    "        depth['datetime_GMT']=pd.to_datetime(depth['timestamp'], unit='ms')\\\n",
    "                        .dt.tz_localize('UTC' )\\\n",
    "                        .dt.tz_convert('Etc/GMT')\n",
    "        depth['datetime_HKT'] = pd.to_datetime(depth.datetime_HKT).dt.tz_localize(None)\n",
    "        depth['datetime_GMT'] = pd.to_datetime(depth.datetime_GMT).dt.tz_localize(None)\n",
    "        total50 = 0\n",
    "        total100 = 0\n",
    "        total200 = 0\n",
    "        n = 1\n",
    "        mean50 = []\n",
    "        mean100=[]\n",
    "        mean200=[]\n",
    "        for index,row in depth.iterrows():\n",
    "            total50+=row[\"total_volume50\"]\n",
    "            mean50.append(total50/n)\n",
    "            total100+=row[\"total_volume100\"]\n",
    "            mean100.append(total100/n)\n",
    "            total200+=row[\"total_volume200\"]\n",
    "            mean200.append(total200/n)\n",
    "            n+=1\n",
    "        depth[\"mean_vol50\"] = mean50\n",
    "        depth[\"mean_vol100\"] = mean100\n",
    "        depth[\"mean_vol200\"] = mean200\n",
    "\n",
    "        return depth\n",
    "\n",
    "    def price_levels(self, exchange: str, inst_type: str, symbol: str,start_time: str=\"\" , end_time:str=\"\") -> pd.DataFrame():\n",
    "        def bps_calculator(row, bps):\n",
    "            tot_ask = 0\n",
    "            tot_bid = 0\n",
    "            mid = (row[\"ask_0_px\"] + row[\"bid_0_px\"]) /2.0\n",
    "            upper = mid+mid*bps/10000\n",
    "            lower = mid- mid*bps/10000\n",
    "            for j in range(0,20):\n",
    "                if(row[\"ask_\"+str(j)+\"_px\"]<=upper):\n",
    "                    tot_ask+=row[\"ask_\"+str(j)+\"_qty\"]*row[\"ask_\"+str(j)+\"_px\"]\n",
    "                if(row[\"bid_\"+str(j)+\"_px\"]>=lower):\n",
    "                    tot_bid+=row[\"bid_\"+str(j)+\"_qty\"]*row[\"bid_\"+str(j)+\"_px\"]\n",
    "            tot = tot_ask+tot_bid\n",
    "            return tot_ask,tot_bid,tot\n",
    "        \n",
    "        interval = int(interval)*1000\n",
    "        filepaths = [f for f in os.listdir(\".\") if f.endswith('.csv')]\n",
    "        df = pd.concat(map(pd.read_csv, filepaths))\n",
    "        df.drop(columns = [\"Unnamed: 0\"], inplace = True)\n",
    "        df = df.sort_values(by = \"timestamp\", ascending = True)\n",
    "        df.reset_index(inplace = True,drop = True)\n",
    "        df = df.dropna()\n",
    "        df[\"timestamp\"] = df[\"timestamp\"].astype(int)\n",
    "        df = df.dropna()\n",
    "        c = [\"timestamp\"] + [i+\"_\"+str(k)+\"_\"+j for i in [\"ask\",\"bid\"] for j in [\"px\",\"notional\"] for k in range(0,20)]\n",
    "        s = pd.DataFrame(columns=c)\n",
    "        for i in range(int(df[\"timestamp\"].min()),int(df[\"timestamp\"].max()),interval):\n",
    "            df_8 = df.loc[(df[\"timestamp\"]>i)&(df[\"timestamp\"]<i+interval)]\n",
    "            df_8 = df_8.sort_values(by = \"timestamp\")\n",
    "            if(not df_8.empty):\n",
    "                l = list(df_8[\"timestamp\"])\n",
    "                l1 = [0]+l\n",
    "                l2 = list(map(operator.sub, l, l1))[1:]\n",
    "                l2.append(i+interval-l[-1])\n",
    "                # spread = []\n",
    "                temp_db = pd.DataFrame(columns = [i+\"_\"+str(k)+\"_\"+j for i in [\"ask\",\"bid\"] for j in [\"px\",\"notional\"] for k in range(0,20)])\n",
    "                for index, row in df_8.iterrows():\n",
    "                    ask_not = []\n",
    "                    bid_not = []\n",
    "                    ask_px = []\n",
    "                    bid_px = []\n",
    "                    bipsa = []\n",
    "                    bipsb = []\n",
    "                    for ti in range(100,2100,100):\n",
    "                        ask_t,bid_t,_ = bps_calculator(row, ti)\n",
    "                        bipsa.append(ask_t)\n",
    "                        bipsb.append(bid_t)\n",
    "                        bid_px.append(-ti/100)\n",
    "                        ask_px.append(ti/100)\n",
    "                    bips1a = [0] + bipsa\n",
    "                    bips2a = list(map(operator.sub, bipsa, bips1a))\n",
    "                    bips1b = [0] + bipsb\n",
    "                    bips2b = list(map(operator.sub, bipsb, bips1b))\n",
    "                    l = ask_px + bips2a + bid_px + bips2b\n",
    "                    temp_db.loc[len(temp_db)] = l\n",
    "                    \n",
    "                la = list(map(lambda x: sum(list(map(operator.mul, x, l2)))/sum(l2), temp_db.transpose().values.tolist()))\n",
    "                fl = [i+interval] + la\n",
    "                s = s.append(pd.DataFrame([fl], columns = c))\n",
    "            else:\n",
    "                fl = [i+interval] + 80*[NaN]\n",
    "                s = s.append(pd.DataFrame([fl], columns = c))\n",
    "        s['datetime_HKT']=pd.to_datetime(s['timestamp'], unit='ms')\\\n",
    "                                            .dt.tz_localize('UTC' )\\\n",
    "                                            .dt.tz_convert('Asia/Hong_Kong')\n",
    "\n",
    "        s['datetime_GMT']=pd.to_datetime(s['timestamp'], unit='ms')\\\n",
    "                        .dt.tz_localize('UTC' )\\\n",
    "                        .dt.tz_convert('Etc/GMT')\n",
    "        s['datetime_HKT'] = pd.to_datetime(s.datetime_HKT).dt.tz_localize(None)\n",
    "        s['datetime_GMT'] = pd.to_datetime(s.datetime_GMT).dt.tz_localize(None)\n",
    "\n",
    "        return s\n",
    "\n",
    "    def get_spread_notional(self, exchange: str, inst_type: str, symbol: str, notional:int, interval: str='8h',start_time: str=\"\" , end_time:str=\"\") -> pd.DataFrame():\n",
    "        interval = int(interval)*60*60*1000\n",
    "        filepaths = [f for f in os.listdir(\".\") if f.endswith('.csv')]\n",
    "        df = pd.concat(map(pd.read_csv, filepaths))\n",
    "        df.drop(columns = [\"Unnamed: 0\"], inplace = True)\n",
    "        df = df.sort_values(by = \"timestamp\", ascending = True)\n",
    "        df.reset_index(inplace = True,drop = True)\n",
    "        df = df.dropna()\n",
    "        df[\"timestamp\"] = df[\"timestamp\"].astype(int)\n",
    "        df = df.dropna()\n",
    "        s = pd.DataFrame(columns=[\"timestamp\",\"spread\"])\n",
    "        for i in range(int(df[\"timestamp\"].min()),int(df[\"timestamp\"].max()),interval):\n",
    "            df_8 = df.loc[(df[\"timestamp\"]>i)&(df[\"timestamp\"]<i+interval)]\n",
    "            df_8 = df_8.sort_values(by = \"timestamp\")\n",
    "            if(not df_8.empty):\n",
    "                l = list(df_8[\"timestamp\"])\n",
    "                l1 = [0]+l\n",
    "                l2 = list(map(operator.sub, l, l1))[1:]\n",
    "                l2.append(i+interval-l[-1])\n",
    "                spread = []\n",
    "\n",
    "                for index, row in df_8.iterrows():\n",
    "                    n = 0\n",
    "                    k = 0\n",
    "                    tot = 0\n",
    "                    la = \"\"\n",
    "                    totb = 0\n",
    "                    lb = \"\"\n",
    "                    nb = 0\n",
    "                    kb = 0\n",
    "                    for j in range(0,20):\n",
    "                        if(tot<dol):\n",
    "                            tot += row[\"ask_\"+str(j)+\"_px\"]*row[\"ask_\"+str(j)+\"_qty\"]\n",
    "                            k += row[\"ask_\"+str(j)+\"_px\"]*row[\"ask_\"+str(j)+\"_qty\"]\n",
    "                            n += row[\"ask_\"+str(j)+\"_qty\"]\n",
    "                            la = str(j)\n",
    "                        if(totb<dol):\n",
    "                            totb += row[\"bid_\"+str(j)+\"_px\"]*row[\"bid_\"+str(j)+\"_qty\"]\n",
    "                            kb += row[\"bid_\"+str(j)+\"_px\"]*row[\"bid_\"+str(j)+\"_qty\"]\n",
    "                            nb += row[\"bid_\"+str(j)+\"_qty\"]\n",
    "                            lb = str(j)\n",
    "                    extra = tot-dol\n",
    "                    if(extra>0):\n",
    "                        k = k-extra\n",
    "                        n = n-extra/row[\"ask_\"+la+\"_px\"]\n",
    "                    mid = (row[\"ask_0_px\"] + row[\"bid_0_px\"]) /2.0\n",
    "                    avg_buy = k/n\n",
    "                    extrab = totb-dol\n",
    "                    if(extrab>0):\n",
    "                        kb = kb-extrab\n",
    "                        nb = nb-extrab/row[\"bid_\"+lb+\"_px\"]\n",
    "                    avg_buyb = kb/nb\n",
    "                    mid = (row[\"ask_0_px\"]+ row[\"bid_0_px\"]) /2.0\n",
    "                    print(avg_buy,avg_buyb)\n",
    "                    sp = ((avg_buy - avg_buyb) / mid) *100\n",
    "                    spread.append(sp)\n",
    "                l3 = list(map(operator.mul, spread, l2))\n",
    "                s = s.append(pd.DataFrame([[i+interval,sum(l3)/sum(l2)]], columns = [\"timestamp\",\"spread\"]))\n",
    "            else:\n",
    "                # print(i)\n",
    "                s = s.append(pd.DataFrame([[i+interval,NaN]], columns = [\"timestamp\",\"spread\"]))\n",
    "        s['datetime_HKT']=pd.to_datetime(s['timestamp'], unit='ms')\\\n",
    "                                            .dt.tz_localize('UTC' )\\\n",
    "                                            .dt.tz_convert('Asia/Hong_Kong')\n",
    "\n",
    "        s['datetime_GMT']=pd.to_datetime(s['timestamp'], unit='ms')\\\n",
    "                        .dt.tz_localize('UTC' )\\\n",
    "                        .dt.tz_convert('Etc/GMT')\n",
    "        s['datetime_HKT'] = pd.to_datetime(s.datetime_HKT).dt.tz_localize(None)\n",
    "        s['datetime_GMT'] = pd.to_datetime(s.datetime_GMT).dt.tz_localize(None)\n",
    "        total = 0\n",
    "        n = 1\n",
    "        mean = []\n",
    "        for index,row in s.iterrows():\n",
    "            total+=row[\"spread\"]\n",
    "            mean.append(total/n)\n",
    "            n+=1\n",
    "        s[\"mean_spread\"] = mean\n",
    "\n",
    "        return s\n",
    "    \n",
    "    def volatility(self, exchange: str, inst_type: str,time_period, symbol: str,vol_interval, interval: str='8h',start_time: str=\"\" , end_time:str=\"\") -> pd.DataFrame():\n",
    "        \n",
    "        if start_time:\n",
    "            CheckUtil.check_start_end_time(start_time)\n",
    "            if isinstance(start_time, datetime.datetime):  # start time in datetime format\n",
    "                start_time = datetime_to_timestamp(date_time=start_time)\n",
    "            else:  # start time in string\n",
    "                start_time = datetime_to_timestamp(string_to_standard_datetime(date_str=start_time))\n",
    "        if end_time:\n",
    "            CheckUtil.check_start_end_time(end_time)\n",
    "            if isinstance(end_time, datetime.datetime):  # start time in datetime format\n",
    "                end_time = datetime_to_timestamp(date_time=end_time)\n",
    "            else: \n",
    "                end_time = datetime_to_timestamp(string_to_standard_datetime(date_str=end_time))\n",
    "        symbol = AnalyticsUtil.check_symbol(symbol)\n",
    "        interval = AnalyticsUtil.check_param_bar(interval)\n",
    "        if(exchange.lower() in consts.MARKETS):\n",
    "            sql_str = \"select * from \\\"spot_candles_1m_\"+exchange.lower()+\"\\\" where symbol='\"+symbol+\"' and timestamp>=\"+str(start_time*1000)+\" and timestamp <= \"+str(end_time*1000)\n",
    "        else:\n",
    "            print(\"Development ongoing!\")\n",
    "            return\n",
    "        df = pd.read_sql(sql_str, self.postgre_client.engine)\n",
    "        df = df.dropna()\n",
    "        df.sort_values(by = \"timestamp\", ascending=False, inplace=True)\n",
    "        df.reset_index(drop=True, inplace=True)\n",
    "        m = vol_interval\n",
    "        close = list(map(float,df[\"close\"].values.tolist()))\n",
    "        t = df[\"timestamp\"].values.tolist()\n",
    "        c = []\n",
    "        t1 = []\n",
    "        for i in range(0,len(close),m):\n",
    "            c.append(close[i])\n",
    "            t1.append(datetime.datetime.fromtimestamp(int(t[i])/1000))\n",
    "        close1 = c[1:]\n",
    "        l2 = list(map(operator.truediv, c,close1))\n",
    "        l3 = list(map(lambda x: x-1, l2)) + [0]\n",
    "        l4=[]\n",
    "        k = int(time_period/m)\n",
    "        for i in range(0,len(l3),k):\n",
    "            v = np.std(l3[i:i+k])*np.sqrt(k)*100\n",
    "            l4.append(v)\n",
    "        \n",
    "        return l4"
   ]
  },
  {
   "cell_type": "code",
   "execution_count": 6,
   "metadata": {},
   "outputs": [
    {
     "name": "stdout",
     "output_type": "stream",
     "text": [
      "timestamp       int64\n",
      "market_id       int64\n",
      "market         object\n",
      "symbol         object\n",
      "ask_0_px      float64\n",
      "               ...   \n",
      "bid_16_qty    float64\n",
      "bid_17_qty    float64\n",
      "bid_18_qty    float64\n",
      "bid_19_qty    float64\n",
      "date            int64\n",
      "Length: 85, dtype: object\n"
     ]
    },
    {
     "data": {
      "application/vnd.plotly.v1+json": {
       "config": {
        "plotlyServerURL": "https://plot.ly"
       },
       "data": [
        {
         "line": {
          "color": "firebrick"
         },
         "name": "buy_slippage",
         "type": "scatter",
         "x": [
          "2023-04-18T08:00:20.700000",
          "2023-04-18T08:00:40.700000",
          "2023-04-18T08:01:00.700000",
          "2023-04-18T08:01:20.700000",
          "2023-04-18T08:01:40.700000",
          "2023-04-18T08:02:00.700000",
          "2023-04-18T08:02:20.700000",
          "2023-04-18T08:02:40.700000",
          "2023-04-18T08:03:00.700000",
          "2023-04-18T08:03:20.700000",
          "2023-04-18T08:03:40.700000",
          "2023-04-18T08:04:00.700000",
          "2023-04-18T08:04:20.700000",
          "2023-04-18T08:04:40.700000",
          "2023-04-18T08:05:00.700000",
          "2023-04-18T08:05:20.700000",
          "2023-04-18T08:05:40.700000",
          "2023-04-18T08:06:00.700000",
          "2023-04-18T08:06:20.700000",
          "2023-04-18T08:06:40.700000",
          "2023-04-18T08:07:00.700000",
          "2023-04-18T08:07:20.700000",
          "2023-04-18T08:07:40.700000",
          "2023-04-18T08:08:00.700000",
          "2023-04-18T08:08:20.700000",
          "2023-04-18T08:08:40.700000",
          "2023-04-18T08:09:00.700000",
          "2023-04-18T08:09:20.700000",
          "2023-04-18T08:09:40.700000",
          "2023-04-18T08:10:00.700000",
          "2023-04-18T08:10:20.700000",
          "2023-04-18T08:10:40.700000",
          "2023-04-18T08:11:00.700000",
          "2023-04-18T08:11:20.700000",
          "2023-04-18T08:11:40.700000",
          "2023-04-18T08:12:00.700000",
          "2023-04-18T08:12:20.700000",
          "2023-04-18T08:12:40.700000",
          "2023-04-18T08:13:00.700000",
          "2023-04-18T08:13:20.700000",
          "2023-04-18T08:13:40.700000",
          "2023-04-18T08:14:00.700000",
          "2023-04-18T08:14:20.700000",
          "2023-04-18T08:14:40.700000",
          "2023-04-18T08:15:00.700000",
          "2023-04-18T08:15:20.700000",
          "2023-04-18T08:15:40.700000",
          "2023-04-18T08:16:00.700000",
          "2023-04-18T08:16:20.700000",
          "2023-04-18T08:16:40.700000",
          "2023-04-18T08:17:00.700000",
          "2023-04-18T08:17:20.700000",
          "2023-04-18T08:17:40.700000",
          "2023-04-18T08:18:00.700000",
          "2023-04-18T08:18:20.700000",
          "2023-04-18T08:18:40.700000",
          "2023-04-18T08:19:00.700000",
          "2023-04-18T08:19:20.700000",
          "2023-04-18T08:19:40.700000",
          "2023-04-18T08:20:00.700000",
          "2023-04-18T08:20:20.700000",
          "2023-04-18T08:20:40.700000",
          "2023-04-18T08:21:00.700000",
          "2023-04-18T08:21:20.700000",
          "2023-04-18T08:21:40.700000",
          "2023-04-18T08:22:00.700000",
          "2023-04-18T08:22:20.700000",
          "2023-04-18T08:22:40.700000",
          "2023-04-18T08:23:00.700000",
          "2023-04-18T08:23:20.700000",
          "2023-04-18T08:23:40.700000",
          "2023-04-18T08:24:00.700000",
          "2023-04-18T08:24:20.700000",
          "2023-04-18T08:24:40.700000",
          "2023-04-18T08:25:00.700000",
          "2023-04-18T08:25:20.700000",
          "2023-04-18T08:25:40.700000",
          "2023-04-18T08:26:00.700000",
          "2023-04-18T08:26:20.700000",
          "2023-04-18T08:26:40.700000",
          "2023-04-18T08:27:00.700000",
          "2023-04-18T08:27:20.700000",
          "2023-04-18T08:27:40.700000",
          "2023-04-18T08:28:00.700000",
          "2023-04-18T08:28:20.700000",
          "2023-04-18T08:28:40.700000",
          "2023-04-18T08:29:00.700000",
          "2023-04-18T08:29:20.700000",
          "2023-04-18T08:29:40.700000",
          "2023-04-18T08:30:00.700000",
          "2023-04-18T08:30:20.700000",
          "2023-04-18T08:30:40.700000",
          "2023-04-18T08:31:00.700000",
          "2023-04-18T08:31:20.700000",
          "2023-04-18T08:31:40.700000",
          "2023-04-18T08:32:00.700000",
          "2023-04-18T08:32:20.700000",
          "2023-04-18T08:32:40.700000",
          "2023-04-18T08:33:00.700000",
          "2023-04-18T08:33:20.700000",
          "2023-04-18T08:33:40.700000",
          "2023-04-18T08:34:00.700000",
          "2023-04-18T08:34:20.700000",
          "2023-04-18T08:34:40.700000",
          "2023-04-18T08:35:00.700000",
          "2023-04-18T08:35:20.700000",
          "2023-04-18T08:35:40.700000",
          "2023-04-18T08:36:00.700000",
          "2023-04-18T08:36:20.700000",
          "2023-04-18T08:36:40.700000",
          "2023-04-18T08:37:00.700000",
          "2023-04-18T08:37:20.700000",
          "2023-04-18T08:37:40.700000",
          "2023-04-18T08:38:00.700000",
          "2023-04-18T08:38:20.700000",
          "2023-04-18T08:38:40.700000",
          "2023-04-18T08:39:00.700000",
          "2023-04-18T08:39:20.700000",
          "2023-04-18T08:39:40.700000",
          "2023-04-18T08:40:00.700000",
          "2023-04-18T08:40:20.700000",
          "2023-04-18T08:40:40.700000",
          "2023-04-18T08:41:00.700000",
          "2023-04-18T08:41:20.700000",
          "2023-04-18T08:41:40.700000",
          "2023-04-18T08:42:00.700000",
          "2023-04-18T08:42:20.700000",
          "2023-04-18T08:42:40.700000",
          "2023-04-18T08:43:00.700000",
          "2023-04-18T08:43:20.700000",
          "2023-04-18T08:43:40.700000",
          "2023-04-18T08:44:00.700000",
          "2023-04-18T08:44:20.700000",
          "2023-04-18T08:44:40.700000",
          "2023-04-18T08:45:00.700000",
          "2023-04-18T08:45:20.700000",
          "2023-04-18T08:45:40.700000",
          "2023-04-18T08:46:00.700000",
          "2023-04-18T08:46:20.700000",
          "2023-04-18T08:46:40.700000",
          "2023-04-18T08:47:00.700000",
          "2023-04-18T08:47:20.700000",
          "2023-04-18T08:47:40.700000",
          "2023-04-18T08:48:00.700000",
          "2023-04-18T08:48:20.700000",
          "2023-04-18T08:48:40.700000",
          "2023-04-18T08:49:00.700000",
          "2023-04-18T08:49:20.700000",
          "2023-04-18T08:49:40.700000",
          "2023-04-18T08:50:00.700000",
          "2023-04-18T08:50:20.700000",
          "2023-04-18T08:50:40.700000",
          "2023-04-18T08:51:00.700000",
          "2023-04-18T08:51:20.700000",
          "2023-04-18T08:51:40.700000",
          "2023-04-18T08:52:00.700000",
          "2023-04-18T08:52:20.700000",
          "2023-04-18T08:52:40.700000",
          "2023-04-18T08:53:00.700000",
          "2023-04-18T08:53:20.700000",
          "2023-04-18T08:53:40.700000",
          "2023-04-18T08:54:00.700000",
          "2023-04-18T08:54:20.700000",
          "2023-04-18T08:54:40.700000",
          "2023-04-18T08:55:00.700000",
          "2023-04-18T08:55:20.700000",
          "2023-04-18T08:55:40.700000",
          "2023-04-18T08:56:00.700000",
          "2023-04-18T08:56:20.700000",
          "2023-04-18T08:56:40.700000",
          "2023-04-18T08:57:00.700000",
          "2023-04-18T08:57:20.700000",
          "2023-04-18T08:57:40.700000",
          "2023-04-18T08:58:00.700000",
          "2023-04-18T08:58:20.700000",
          "2023-04-18T08:58:40.700000",
          "2023-04-18T08:59:00.700000",
          "2023-04-18T08:59:20.700000",
          "2023-04-18T08:59:40.700000",
          "2023-04-18T09:00:00.700000"
         ],
         "y": [
          0.6177771365885074,
          0.6130524411873687,
          0.6055774155043405,
          0.6062833791579985,
          0.6036930273810107,
          0.6027737838597097,
          0.5965855783862741,
          0.5925033568790251,
          0.5841674614816921,
          0.5856929187880332,
          0.582648410942882,
          0.5787152461805228,
          0.5746756107970012,
          0.5663490909238159,
          0.5621834007128467,
          0.5581130581781304,
          0.5538089340311366,
          0.5507625256899323,
          0.5473277878990126,
          0.543243701916522,
          0.5439664026249547,
          0.5406132772676683,
          0.5335052978076531,
          0.5346645413729944,
          0.5266770843168027,
          0.5342032701689041,
          0.5208474404917681,
          0.5243292358551033,
          0.5132274276317016,
          0.5093614118500541,
          0.5120734099927625,
          0.5080804074954681,
          0.49938866045902713,
          0.49603441915638175,
          0.49957583928882376,
          0.4975559099584755,
          0.4889717749536723,
          null,
          null,
          0.48763632960143993,
          0.49310491740319073,
          0.4888971010405782,
          0.34767284838993784,
          0.19112871156927116,
          0.2045199290245449,
          0.20878794299941703,
          0.48484876522211606,
          0.7695172813366349,
          0.7654196719358008,
          0.7643477984233771,
          0.7607143481450411,
          0.7536841869848725,
          0.75282132162651,
          0.7464962085422272,
          0.7423484172680683,
          0.452252860403697,
          0.4478896693491931,
          0.4460911417519404,
          0.4613605814406843,
          0.38624486182821055,
          0.6207123069746906,
          0.7144625817079745,
          0.5012379951166566,
          0.4510468324534232,
          0.4488987921184051,
          0.3645362733504369,
          0.43974189446423434,
          0.41717977952340995,
          0.43781999454832715,
          1.1309494857783349,
          0.9545404651909294,
          0.9438063183255431,
          0.9465292685167864,
          0.9420937895800017,
          0.9381384257596386,
          0.9318565663919047,
          0.9283946101621876,
          0.8980241899696871,
          0.8920607796255655,
          0.8878918491999488,
          0.883985385121695,
          0.877910818673261,
          0.8739772884690336,
          0.8719524930427961,
          0.8664616762355093,
          0.8623118678632061,
          0.8592368267600452,
          0.8551622916886631,
          0.8511082292975886,
          0.8472290774222447,
          0.8433440854541753,
          0.8392584681483858,
          0.8365753528577836,
          0.833194822077774,
          0.8290520147996143,
          0.8256374711564062,
          0.8213932767905134,
          0.8174395168157622,
          0.8130523023003433,
          0.8101068732505765,
          0.8067387740782523,
          0.8022920904158879,
          0.7983256329461358,
          0.794263907984866,
          0.7904130466230732,
          0.7870562161531602,
          0.7822547546550969,
          0.778380450543337,
          0.7749257258109324,
          0.770356269850003,
          0.3987696644782164,
          0.19254165872336804,
          1.1753921461108159,
          1.39339057264597,
          1.389020283369736,
          1.385244773965951,
          1.4367430908521703,
          1.3099177995549447,
          1.3057324280877927,
          1.3031307033772124,
          1.2985787817554666,
          1.2970019881824506,
          1.2481787407814415,
          1.2214443255917602,
          1.218727754424766,
          1.2152107295092895,
          1.2093261194089686,
          1.2119514496298265,
          1.1668952398661265,
          1.140785855904145,
          1.1348005862926038,
          1.1343764097841562,
          1.1357455002657562,
          1.1069000245311211,
          1.0658549245304196,
          1.0646135233486211,
          1.0578148625531958,
          1.0580322630419117,
          1.0275207229519958,
          0.9946155632654089,
          0.9944374407631802,
          0.9926220560272146,
          0.9882363968435228,
          0.9807650870815215,
          0.9775318391409004,
          0.9743641924515108,
          0.9702713886659722,
          0.970769828291379,
          0.9633602915547453,
          0.959998917489764,
          0.9622798923530447,
          0.9589540706289706,
          0.9678333764004936,
          1.0139115251691844,
          1.1058060028154448,
          1.101583393842607,
          1.100956574008583,
          1.0936199185316897,
          1.0938762789323597,
          1.089693510976504,
          1.083235280408341,
          1.0794554425943068,
          1.078821338638953,
          1.070831554356068,
          1.0770861750948797,
          1.0628442164005838,
          1.0685241496772986,
          1.056196750015474,
          0.9248106874706218,
          0.6056046326346073,
          0.6156340013434027,
          0.6662569324425168,
          0.660504982851858,
          0.5010957763533375,
          0.6288846487994387,
          0.6587080949892343,
          0.5479456188641447,
          0.6013941648900059,
          0.6567892117668279,
          0.6301492041926267
         ]
        },
        {
         "line": {
          "color": "firebrick",
          "dash": "dash"
         },
         "name": "mean_buy_slippage",
         "type": "scatter",
         "x": [
          "2023-04-18T08:00:20.700000",
          "2023-04-18T08:00:40.700000",
          "2023-04-18T08:01:00.700000",
          "2023-04-18T08:01:20.700000",
          "2023-04-18T08:01:40.700000",
          "2023-04-18T08:02:00.700000",
          "2023-04-18T08:02:20.700000",
          "2023-04-18T08:02:40.700000",
          "2023-04-18T08:03:00.700000",
          "2023-04-18T08:03:20.700000",
          "2023-04-18T08:03:40.700000",
          "2023-04-18T08:04:00.700000",
          "2023-04-18T08:04:20.700000",
          "2023-04-18T08:04:40.700000",
          "2023-04-18T08:05:00.700000",
          "2023-04-18T08:05:20.700000",
          "2023-04-18T08:05:40.700000",
          "2023-04-18T08:06:00.700000",
          "2023-04-18T08:06:20.700000",
          "2023-04-18T08:06:40.700000",
          "2023-04-18T08:07:00.700000",
          "2023-04-18T08:07:20.700000",
          "2023-04-18T08:07:40.700000",
          "2023-04-18T08:08:00.700000",
          "2023-04-18T08:08:20.700000",
          "2023-04-18T08:08:40.700000",
          "2023-04-18T08:09:00.700000",
          "2023-04-18T08:09:20.700000",
          "2023-04-18T08:09:40.700000",
          "2023-04-18T08:10:00.700000",
          "2023-04-18T08:10:20.700000",
          "2023-04-18T08:10:40.700000",
          "2023-04-18T08:11:00.700000",
          "2023-04-18T08:11:20.700000",
          "2023-04-18T08:11:40.700000",
          "2023-04-18T08:12:00.700000",
          "2023-04-18T08:12:20.700000",
          "2023-04-18T08:12:40.700000",
          "2023-04-18T08:13:00.700000",
          "2023-04-18T08:13:20.700000",
          "2023-04-18T08:13:40.700000",
          "2023-04-18T08:14:00.700000",
          "2023-04-18T08:14:20.700000",
          "2023-04-18T08:14:40.700000",
          "2023-04-18T08:15:00.700000",
          "2023-04-18T08:15:20.700000",
          "2023-04-18T08:15:40.700000",
          "2023-04-18T08:16:00.700000",
          "2023-04-18T08:16:20.700000",
          "2023-04-18T08:16:40.700000",
          "2023-04-18T08:17:00.700000",
          "2023-04-18T08:17:20.700000",
          "2023-04-18T08:17:40.700000",
          "2023-04-18T08:18:00.700000",
          "2023-04-18T08:18:20.700000",
          "2023-04-18T08:18:40.700000",
          "2023-04-18T08:19:00.700000",
          "2023-04-18T08:19:20.700000",
          "2023-04-18T08:19:40.700000",
          "2023-04-18T08:20:00.700000",
          "2023-04-18T08:20:20.700000",
          "2023-04-18T08:20:40.700000",
          "2023-04-18T08:21:00.700000",
          "2023-04-18T08:21:20.700000",
          "2023-04-18T08:21:40.700000",
          "2023-04-18T08:22:00.700000",
          "2023-04-18T08:22:20.700000",
          "2023-04-18T08:22:40.700000",
          "2023-04-18T08:23:00.700000",
          "2023-04-18T08:23:20.700000",
          "2023-04-18T08:23:40.700000",
          "2023-04-18T08:24:00.700000",
          "2023-04-18T08:24:20.700000",
          "2023-04-18T08:24:40.700000",
          "2023-04-18T08:25:00.700000",
          "2023-04-18T08:25:20.700000",
          "2023-04-18T08:25:40.700000",
          "2023-04-18T08:26:00.700000",
          "2023-04-18T08:26:20.700000",
          "2023-04-18T08:26:40.700000",
          "2023-04-18T08:27:00.700000",
          "2023-04-18T08:27:20.700000",
          "2023-04-18T08:27:40.700000",
          "2023-04-18T08:28:00.700000",
          "2023-04-18T08:28:20.700000",
          "2023-04-18T08:28:40.700000",
          "2023-04-18T08:29:00.700000",
          "2023-04-18T08:29:20.700000",
          "2023-04-18T08:29:40.700000",
          "2023-04-18T08:30:00.700000",
          "2023-04-18T08:30:20.700000",
          "2023-04-18T08:30:40.700000",
          "2023-04-18T08:31:00.700000",
          "2023-04-18T08:31:20.700000",
          "2023-04-18T08:31:40.700000",
          "2023-04-18T08:32:00.700000",
          "2023-04-18T08:32:20.700000",
          "2023-04-18T08:32:40.700000",
          "2023-04-18T08:33:00.700000",
          "2023-04-18T08:33:20.700000",
          "2023-04-18T08:33:40.700000",
          "2023-04-18T08:34:00.700000",
          "2023-04-18T08:34:20.700000",
          "2023-04-18T08:34:40.700000",
          "2023-04-18T08:35:00.700000",
          "2023-04-18T08:35:20.700000",
          "2023-04-18T08:35:40.700000",
          "2023-04-18T08:36:00.700000",
          "2023-04-18T08:36:20.700000",
          "2023-04-18T08:36:40.700000",
          "2023-04-18T08:37:00.700000",
          "2023-04-18T08:37:20.700000",
          "2023-04-18T08:37:40.700000",
          "2023-04-18T08:38:00.700000",
          "2023-04-18T08:38:20.700000",
          "2023-04-18T08:38:40.700000",
          "2023-04-18T08:39:00.700000",
          "2023-04-18T08:39:20.700000",
          "2023-04-18T08:39:40.700000",
          "2023-04-18T08:40:00.700000",
          "2023-04-18T08:40:20.700000",
          "2023-04-18T08:40:40.700000",
          "2023-04-18T08:41:00.700000",
          "2023-04-18T08:41:20.700000",
          "2023-04-18T08:41:40.700000",
          "2023-04-18T08:42:00.700000",
          "2023-04-18T08:42:20.700000",
          "2023-04-18T08:42:40.700000",
          "2023-04-18T08:43:00.700000",
          "2023-04-18T08:43:20.700000",
          "2023-04-18T08:43:40.700000",
          "2023-04-18T08:44:00.700000",
          "2023-04-18T08:44:20.700000",
          "2023-04-18T08:44:40.700000",
          "2023-04-18T08:45:00.700000",
          "2023-04-18T08:45:20.700000",
          "2023-04-18T08:45:40.700000",
          "2023-04-18T08:46:00.700000",
          "2023-04-18T08:46:20.700000",
          "2023-04-18T08:46:40.700000",
          "2023-04-18T08:47:00.700000",
          "2023-04-18T08:47:20.700000",
          "2023-04-18T08:47:40.700000",
          "2023-04-18T08:48:00.700000",
          "2023-04-18T08:48:20.700000",
          "2023-04-18T08:48:40.700000",
          "2023-04-18T08:49:00.700000",
          "2023-04-18T08:49:20.700000",
          "2023-04-18T08:49:40.700000",
          "2023-04-18T08:50:00.700000",
          "2023-04-18T08:50:20.700000",
          "2023-04-18T08:50:40.700000",
          "2023-04-18T08:51:00.700000",
          "2023-04-18T08:51:20.700000",
          "2023-04-18T08:51:40.700000",
          "2023-04-18T08:52:00.700000",
          "2023-04-18T08:52:20.700000",
          "2023-04-18T08:52:40.700000",
          "2023-04-18T08:53:00.700000",
          "2023-04-18T08:53:20.700000",
          "2023-04-18T08:53:40.700000",
          "2023-04-18T08:54:00.700000",
          "2023-04-18T08:54:20.700000",
          "2023-04-18T08:54:40.700000",
          "2023-04-18T08:55:00.700000",
          "2023-04-18T08:55:20.700000",
          "2023-04-18T08:55:40.700000",
          "2023-04-18T08:56:00.700000",
          "2023-04-18T08:56:20.700000",
          "2023-04-18T08:56:40.700000",
          "2023-04-18T08:57:00.700000",
          "2023-04-18T08:57:20.700000",
          "2023-04-18T08:57:40.700000",
          "2023-04-18T08:58:00.700000",
          "2023-04-18T08:58:20.700000",
          "2023-04-18T08:58:40.700000",
          "2023-04-18T08:59:00.700000",
          "2023-04-18T08:59:20.700000",
          "2023-04-18T08:59:40.700000",
          "2023-04-18T09:00:00.700000"
         ],
         "y": [
          0.6177771365885074,
          0.615414788887938,
          0.6121356644267388,
          0.6106725931095538,
          0.6092766799638452,
          0.6081928639464892,
          0.6065346802950299,
          0.6047807648680292,
          0.6024903978251028,
          0.6008106499213959,
          0.5991595372869856,
          0.597455846361447,
          0.5957035205487974,
          0.5936067755755844,
          0.5915118839180685,
          0.5894244573093224,
          0.5873294265282526,
          0.5852979320372349,
          0.5832995033983811,
          0.5812967133242881,
          0.5795190794814628,
          0.5777506339262902,
          0.5758269236602626,
          0.574111824398293,
          0.5722144347950333,
          0.5707524669247976,
          0.5689041326124632,
          0.5673121720139861,
          0.5654471808283901,
          0.5635776551957788,
          0.5619162279311654,
          0.5602338585425499,
          0.558390064661231,
          0.5565560750875589,
          0.5549280683504522,
          0.5533343972840084,
          0.5515948669507561,
          null,
          null,
          null,
          null,
          null,
          null,
          null,
          null,
          null,
          null,
          null,
          null,
          null,
          null,
          null,
          null,
          null,
          null,
          null,
          null,
          null,
          null,
          null,
          null,
          null,
          null,
          null,
          null,
          null,
          null,
          null,
          null,
          null,
          null,
          null,
          null,
          null,
          null,
          null,
          null,
          null,
          null,
          null,
          null,
          null,
          null,
          null,
          null,
          null,
          null,
          null,
          null,
          null,
          null,
          null,
          null,
          null,
          null,
          null,
          null,
          null,
          null,
          null,
          null,
          null,
          null,
          null,
          null,
          null,
          null,
          null,
          null,
          null,
          null,
          null,
          null,
          null,
          null,
          null,
          null,
          null,
          null,
          null,
          null,
          null,
          null,
          null,
          null,
          null,
          null,
          null,
          null,
          null,
          null,
          null,
          null,
          null,
          null,
          null,
          null,
          null,
          null,
          null,
          null,
          null,
          null,
          null,
          null,
          null,
          null,
          null,
          null,
          null,
          null,
          null,
          null,
          null,
          null,
          null,
          null,
          null,
          null,
          null,
          null,
          null,
          null,
          null,
          null,
          null,
          null,
          null,
          null,
          null,
          null,
          null,
          null,
          null,
          null,
          null,
          null,
          null,
          null,
          null
         ]
        },
        {
         "line": {
          "color": "blue"
         },
         "name": "sell_slippage",
         "type": "scatter",
         "x": [
          "2023-04-18T08:00:20.700000",
          "2023-04-18T08:00:40.700000",
          "2023-04-18T08:01:00.700000",
          "2023-04-18T08:01:20.700000",
          "2023-04-18T08:01:40.700000",
          "2023-04-18T08:02:00.700000",
          "2023-04-18T08:02:20.700000",
          "2023-04-18T08:02:40.700000",
          "2023-04-18T08:03:00.700000",
          "2023-04-18T08:03:20.700000",
          "2023-04-18T08:03:40.700000",
          "2023-04-18T08:04:00.700000",
          "2023-04-18T08:04:20.700000",
          "2023-04-18T08:04:40.700000",
          "2023-04-18T08:05:00.700000",
          "2023-04-18T08:05:20.700000",
          "2023-04-18T08:05:40.700000",
          "2023-04-18T08:06:00.700000",
          "2023-04-18T08:06:20.700000",
          "2023-04-18T08:06:40.700000",
          "2023-04-18T08:07:00.700000",
          "2023-04-18T08:07:20.700000",
          "2023-04-18T08:07:40.700000",
          "2023-04-18T08:08:00.700000",
          "2023-04-18T08:08:20.700000",
          "2023-04-18T08:08:40.700000",
          "2023-04-18T08:09:00.700000",
          "2023-04-18T08:09:20.700000",
          "2023-04-18T08:09:40.700000",
          "2023-04-18T08:10:00.700000",
          "2023-04-18T08:10:20.700000",
          "2023-04-18T08:10:40.700000",
          "2023-04-18T08:11:00.700000",
          "2023-04-18T08:11:20.700000",
          "2023-04-18T08:11:40.700000",
          "2023-04-18T08:12:00.700000",
          "2023-04-18T08:12:20.700000",
          "2023-04-18T08:12:40.700000",
          "2023-04-18T08:13:00.700000",
          "2023-04-18T08:13:20.700000",
          "2023-04-18T08:13:40.700000",
          "2023-04-18T08:14:00.700000",
          "2023-04-18T08:14:20.700000",
          "2023-04-18T08:14:40.700000",
          "2023-04-18T08:15:00.700000",
          "2023-04-18T08:15:20.700000",
          "2023-04-18T08:15:40.700000",
          "2023-04-18T08:16:00.700000",
          "2023-04-18T08:16:20.700000",
          "2023-04-18T08:16:40.700000",
          "2023-04-18T08:17:00.700000",
          "2023-04-18T08:17:20.700000",
          "2023-04-18T08:17:40.700000",
          "2023-04-18T08:18:00.700000",
          "2023-04-18T08:18:20.700000",
          "2023-04-18T08:18:40.700000",
          "2023-04-18T08:19:00.700000",
          "2023-04-18T08:19:20.700000",
          "2023-04-18T08:19:40.700000",
          "2023-04-18T08:20:00.700000",
          "2023-04-18T08:20:20.700000",
          "2023-04-18T08:20:40.700000",
          "2023-04-18T08:21:00.700000",
          "2023-04-18T08:21:20.700000",
          "2023-04-18T08:21:40.700000",
          "2023-04-18T08:22:00.700000",
          "2023-04-18T08:22:20.700000",
          "2023-04-18T08:22:40.700000",
          "2023-04-18T08:23:00.700000",
          "2023-04-18T08:23:20.700000",
          "2023-04-18T08:23:40.700000",
          "2023-04-18T08:24:00.700000",
          "2023-04-18T08:24:20.700000",
          "2023-04-18T08:24:40.700000",
          "2023-04-18T08:25:00.700000",
          "2023-04-18T08:25:20.700000",
          "2023-04-18T08:25:40.700000",
          "2023-04-18T08:26:00.700000",
          "2023-04-18T08:26:20.700000",
          "2023-04-18T08:26:40.700000",
          "2023-04-18T08:27:00.700000",
          "2023-04-18T08:27:20.700000",
          "2023-04-18T08:27:40.700000",
          "2023-04-18T08:28:00.700000",
          "2023-04-18T08:28:20.700000",
          "2023-04-18T08:28:40.700000",
          "2023-04-18T08:29:00.700000",
          "2023-04-18T08:29:20.700000",
          "2023-04-18T08:29:40.700000",
          "2023-04-18T08:30:00.700000",
          "2023-04-18T08:30:20.700000",
          "2023-04-18T08:30:40.700000",
          "2023-04-18T08:31:00.700000",
          "2023-04-18T08:31:20.700000",
          "2023-04-18T08:31:40.700000",
          "2023-04-18T08:32:00.700000",
          "2023-04-18T08:32:20.700000",
          "2023-04-18T08:32:40.700000",
          "2023-04-18T08:33:00.700000",
          "2023-04-18T08:33:20.700000",
          "2023-04-18T08:33:40.700000",
          "2023-04-18T08:34:00.700000",
          "2023-04-18T08:34:20.700000",
          "2023-04-18T08:34:40.700000",
          "2023-04-18T08:35:00.700000",
          "2023-04-18T08:35:20.700000",
          "2023-04-18T08:35:40.700000",
          "2023-04-18T08:36:00.700000",
          "2023-04-18T08:36:20.700000",
          "2023-04-18T08:36:40.700000",
          "2023-04-18T08:37:00.700000",
          "2023-04-18T08:37:20.700000",
          "2023-04-18T08:37:40.700000",
          "2023-04-18T08:38:00.700000",
          "2023-04-18T08:38:20.700000",
          "2023-04-18T08:38:40.700000",
          "2023-04-18T08:39:00.700000",
          "2023-04-18T08:39:20.700000",
          "2023-04-18T08:39:40.700000",
          "2023-04-18T08:40:00.700000",
          "2023-04-18T08:40:20.700000",
          "2023-04-18T08:40:40.700000",
          "2023-04-18T08:41:00.700000",
          "2023-04-18T08:41:20.700000",
          "2023-04-18T08:41:40.700000",
          "2023-04-18T08:42:00.700000",
          "2023-04-18T08:42:20.700000",
          "2023-04-18T08:42:40.700000",
          "2023-04-18T08:43:00.700000",
          "2023-04-18T08:43:20.700000",
          "2023-04-18T08:43:40.700000",
          "2023-04-18T08:44:00.700000",
          "2023-04-18T08:44:20.700000",
          "2023-04-18T08:44:40.700000",
          "2023-04-18T08:45:00.700000",
          "2023-04-18T08:45:20.700000",
          "2023-04-18T08:45:40.700000",
          "2023-04-18T08:46:00.700000",
          "2023-04-18T08:46:20.700000",
          "2023-04-18T08:46:40.700000",
          "2023-04-18T08:47:00.700000",
          "2023-04-18T08:47:20.700000",
          "2023-04-18T08:47:40.700000",
          "2023-04-18T08:48:00.700000",
          "2023-04-18T08:48:20.700000",
          "2023-04-18T08:48:40.700000",
          "2023-04-18T08:49:00.700000",
          "2023-04-18T08:49:20.700000",
          "2023-04-18T08:49:40.700000",
          "2023-04-18T08:50:00.700000",
          "2023-04-18T08:50:20.700000",
          "2023-04-18T08:50:40.700000",
          "2023-04-18T08:51:00.700000",
          "2023-04-18T08:51:20.700000",
          "2023-04-18T08:51:40.700000",
          "2023-04-18T08:52:00.700000",
          "2023-04-18T08:52:20.700000",
          "2023-04-18T08:52:40.700000",
          "2023-04-18T08:53:00.700000",
          "2023-04-18T08:53:20.700000",
          "2023-04-18T08:53:40.700000",
          "2023-04-18T08:54:00.700000",
          "2023-04-18T08:54:20.700000",
          "2023-04-18T08:54:40.700000",
          "2023-04-18T08:55:00.700000",
          "2023-04-18T08:55:20.700000",
          "2023-04-18T08:55:40.700000",
          "2023-04-18T08:56:00.700000",
          "2023-04-18T08:56:20.700000",
          "2023-04-18T08:56:40.700000",
          "2023-04-18T08:57:00.700000",
          "2023-04-18T08:57:20.700000",
          "2023-04-18T08:57:40.700000",
          "2023-04-18T08:58:00.700000",
          "2023-04-18T08:58:20.700000",
          "2023-04-18T08:58:40.700000",
          "2023-04-18T08:59:00.700000",
          "2023-04-18T08:59:20.700000",
          "2023-04-18T08:59:40.700000",
          "2023-04-18T09:00:00.700000"
         ],
         "y": [
          1.9538381865986536,
          1.943751233654937,
          1.9396932687219526,
          1.9399860744981707,
          1.9343329170537211,
          1.9315234011540665,
          1.929752238331778,
          1.9257108320965834,
          1.9209283337360286,
          1.918762552431051,
          1.89246819673415,
          1.9043027630916731,
          1.907013764773902,
          1.901488659969521,
          1.8916163372642862,
          1.8650335984372968,
          1.8716953292835106,
          1.8533221767074226,
          1.8705928540346823,
          1.8866696652945734,
          1.882755420465451,
          1.8745272170993397,
          1.8740484843499772,
          1.8667781863123476,
          1.8586740914497095,
          1.8644294418467797,
          1.851333071659698,
          1.8487676806687772,
          1.8429735619743155,
          1.8532279001812126,
          1.8386770062988034,
          1.779512360469713,
          1.7972216814436075,
          1.7984526062349473,
          1.7999001305358313,
          1.7941406041835053,
          1.7748616786971358,
          null,
          null,
          1.7609489184549756,
          1.7174737934103952,
          1.716860570147093,
          1.7514373855491943,
          1.7925327474947768,
          1.7842464514863468,
          1.7819929571645894,
          1.9187213957974767,
          2.0221627820391217,
          2.018153697333945,
          2.0135511018784684,
          2.009829174402142,
          2.0054868578019005,
          2.0015379782505254,
          1.9948712909791804,
          1.9876754429890533,
          2.1808609097967246,
          2.1793871000926495,
          2.1259389774391,
          2.150354921855016,
          2.2576540141819104,
          2.0098421770927217,
          1.9626484716423922,
          2.024850299537675,
          1.9738928528189776,
          2.0004193183214687,
          2.023871624822761,
          1.9906933267909077,
          1.9838997717244153,
          1.9889931535493022,
          2.203182016804681,
          2.1908778483262674,
          2.1626492461000173,
          2.1577526099488886,
          2.1280521144608597,
          2.079907157596772,
          2.1207456088240004,
          2.1296650092300817,
          2.082608227636331,
          2.0137807427755523,
          2.008994173510018,
          2.048940555220139,
          2.3206121616108675,
          2.277569235715677,
          2.2141012455905393,
          2.2075979597960185,
          2.2004143294428165,
          2.1946351507989514,
          2.1881943461905866,
          2.1813011616217297,
          2.1744214783548097,
          2.1678306145465784,
          2.1608522436269353,
          2.156641055904069,
          2.150516442946426,
          2.143790174082516,
          2.137267287396429,
          2.130337684796543,
          2.123865801511949,
          2.1178422497670453,
          2.1122505545647314,
          2.1063440009101835,
          2.099143610592661,
          2.120519826644506,
          2.187086712480408,
          2.1828957977828045,
          2.1782759435193504,
          2.174166339576242,
          2.169038790630093,
          2.1634094675560576,
          2.156696953157491,
          1.57286309061227,
          1.3886432295105762,
          1.5308077317973205,
          1.6948277485386143,
          1.6901306059945043,
          1.6856525965411735,
          1.5095425540870169,
          1.6106865078433998,
          1.60595402825297,
          1.6012820047780547,
          1.5969285596362564,
          1.5875597688564345,
          1.5246101637109981,
          1.5192411377128852,
          1.5048738748521608,
          1.5055260659740186,
          1.5026495134317819,
          1.4932167951888513,
          1.4374754631917048,
          1.4362309762309133,
          1.429480464603194,
          1.4203349919940504,
          1.40269740254233,
          1.3600665046339384,
          1.3600278974600533,
          1.3555616241447335,
          1.3510679956890879,
          1.3467433848230945,
          1.3128750167925447,
          1.3081575817917628,
          1.304223661422261,
          1.3004253101206154,
          1.2903012637871742,
          1.2946603063245752,
          1.2914525182363137,
          1.2856716845042082,
          1.2831418960041605,
          1.280395439257447,
          1.2768205525228173,
          1.2738838515129618,
          1.2717835491405676,
          1.2683539925895642,
          1.2639447090235811,
          1.203163821946617,
          1.1040255132319898,
          1.09999462027591,
          1.0958165366944814,
          1.0923877459688454,
          1.0886273779146372,
          1.0847173272107906,
          1.0814694607768105,
          1.0774591256696637,
          1.0732099253719194,
          1.0690504380803463,
          1.06531775539876,
          1.0612597018732275,
          1.0582392985312616,
          1.0546316427661688,
          1.1346017520620792,
          1.3331106105171955,
          1.319511324005742,
          1.291474319575634,
          1.274655179810208,
          1.375610919844865,
          1.2881012378959096,
          1.2634855358212687,
          1.3284892824452308,
          1.2874216748335536,
          1.2542574783756422,
          1.2629132173632966
         ]
        },
        {
         "line": {
          "color": "blue",
          "dash": "dash"
         },
         "name": "mean_sell_slippage",
         "type": "scatter",
         "x": [
          "2023-04-18T08:00:20.700000",
          "2023-04-18T08:00:40.700000",
          "2023-04-18T08:01:00.700000",
          "2023-04-18T08:01:20.700000",
          "2023-04-18T08:01:40.700000",
          "2023-04-18T08:02:00.700000",
          "2023-04-18T08:02:20.700000",
          "2023-04-18T08:02:40.700000",
          "2023-04-18T08:03:00.700000",
          "2023-04-18T08:03:20.700000",
          "2023-04-18T08:03:40.700000",
          "2023-04-18T08:04:00.700000",
          "2023-04-18T08:04:20.700000",
          "2023-04-18T08:04:40.700000",
          "2023-04-18T08:05:00.700000",
          "2023-04-18T08:05:20.700000",
          "2023-04-18T08:05:40.700000",
          "2023-04-18T08:06:00.700000",
          "2023-04-18T08:06:20.700000",
          "2023-04-18T08:06:40.700000",
          "2023-04-18T08:07:00.700000",
          "2023-04-18T08:07:20.700000",
          "2023-04-18T08:07:40.700000",
          "2023-04-18T08:08:00.700000",
          "2023-04-18T08:08:20.700000",
          "2023-04-18T08:08:40.700000",
          "2023-04-18T08:09:00.700000",
          "2023-04-18T08:09:20.700000",
          "2023-04-18T08:09:40.700000",
          "2023-04-18T08:10:00.700000",
          "2023-04-18T08:10:20.700000",
          "2023-04-18T08:10:40.700000",
          "2023-04-18T08:11:00.700000",
          "2023-04-18T08:11:20.700000",
          "2023-04-18T08:11:40.700000",
          "2023-04-18T08:12:00.700000",
          "2023-04-18T08:12:20.700000",
          "2023-04-18T08:12:40.700000",
          "2023-04-18T08:13:00.700000",
          "2023-04-18T08:13:20.700000",
          "2023-04-18T08:13:40.700000",
          "2023-04-18T08:14:00.700000",
          "2023-04-18T08:14:20.700000",
          "2023-04-18T08:14:40.700000",
          "2023-04-18T08:15:00.700000",
          "2023-04-18T08:15:20.700000",
          "2023-04-18T08:15:40.700000",
          "2023-04-18T08:16:00.700000",
          "2023-04-18T08:16:20.700000",
          "2023-04-18T08:16:40.700000",
          "2023-04-18T08:17:00.700000",
          "2023-04-18T08:17:20.700000",
          "2023-04-18T08:17:40.700000",
          "2023-04-18T08:18:00.700000",
          "2023-04-18T08:18:20.700000",
          "2023-04-18T08:18:40.700000",
          "2023-04-18T08:19:00.700000",
          "2023-04-18T08:19:20.700000",
          "2023-04-18T08:19:40.700000",
          "2023-04-18T08:20:00.700000",
          "2023-04-18T08:20:20.700000",
          "2023-04-18T08:20:40.700000",
          "2023-04-18T08:21:00.700000",
          "2023-04-18T08:21:20.700000",
          "2023-04-18T08:21:40.700000",
          "2023-04-18T08:22:00.700000",
          "2023-04-18T08:22:20.700000",
          "2023-04-18T08:22:40.700000",
          "2023-04-18T08:23:00.700000",
          "2023-04-18T08:23:20.700000",
          "2023-04-18T08:23:40.700000",
          "2023-04-18T08:24:00.700000",
          "2023-04-18T08:24:20.700000",
          "2023-04-18T08:24:40.700000",
          "2023-04-18T08:25:00.700000",
          "2023-04-18T08:25:20.700000",
          "2023-04-18T08:25:40.700000",
          "2023-04-18T08:26:00.700000",
          "2023-04-18T08:26:20.700000",
          "2023-04-18T08:26:40.700000",
          "2023-04-18T08:27:00.700000",
          "2023-04-18T08:27:20.700000",
          "2023-04-18T08:27:40.700000",
          "2023-04-18T08:28:00.700000",
          "2023-04-18T08:28:20.700000",
          "2023-04-18T08:28:40.700000",
          "2023-04-18T08:29:00.700000",
          "2023-04-18T08:29:20.700000",
          "2023-04-18T08:29:40.700000",
          "2023-04-18T08:30:00.700000",
          "2023-04-18T08:30:20.700000",
          "2023-04-18T08:30:40.700000",
          "2023-04-18T08:31:00.700000",
          "2023-04-18T08:31:20.700000",
          "2023-04-18T08:31:40.700000",
          "2023-04-18T08:32:00.700000",
          "2023-04-18T08:32:20.700000",
          "2023-04-18T08:32:40.700000",
          "2023-04-18T08:33:00.700000",
          "2023-04-18T08:33:20.700000",
          "2023-04-18T08:33:40.700000",
          "2023-04-18T08:34:00.700000",
          "2023-04-18T08:34:20.700000",
          "2023-04-18T08:34:40.700000",
          "2023-04-18T08:35:00.700000",
          "2023-04-18T08:35:20.700000",
          "2023-04-18T08:35:40.700000",
          "2023-04-18T08:36:00.700000",
          "2023-04-18T08:36:20.700000",
          "2023-04-18T08:36:40.700000",
          "2023-04-18T08:37:00.700000",
          "2023-04-18T08:37:20.700000",
          "2023-04-18T08:37:40.700000",
          "2023-04-18T08:38:00.700000",
          "2023-04-18T08:38:20.700000",
          "2023-04-18T08:38:40.700000",
          "2023-04-18T08:39:00.700000",
          "2023-04-18T08:39:20.700000",
          "2023-04-18T08:39:40.700000",
          "2023-04-18T08:40:00.700000",
          "2023-04-18T08:40:20.700000",
          "2023-04-18T08:40:40.700000",
          "2023-04-18T08:41:00.700000",
          "2023-04-18T08:41:20.700000",
          "2023-04-18T08:41:40.700000",
          "2023-04-18T08:42:00.700000",
          "2023-04-18T08:42:20.700000",
          "2023-04-18T08:42:40.700000",
          "2023-04-18T08:43:00.700000",
          "2023-04-18T08:43:20.700000",
          "2023-04-18T08:43:40.700000",
          "2023-04-18T08:44:00.700000",
          "2023-04-18T08:44:20.700000",
          "2023-04-18T08:44:40.700000",
          "2023-04-18T08:45:00.700000",
          "2023-04-18T08:45:20.700000",
          "2023-04-18T08:45:40.700000",
          "2023-04-18T08:46:00.700000",
          "2023-04-18T08:46:20.700000",
          "2023-04-18T08:46:40.700000",
          "2023-04-18T08:47:00.700000",
          "2023-04-18T08:47:20.700000",
          "2023-04-18T08:47:40.700000",
          "2023-04-18T08:48:00.700000",
          "2023-04-18T08:48:20.700000",
          "2023-04-18T08:48:40.700000",
          "2023-04-18T08:49:00.700000",
          "2023-04-18T08:49:20.700000",
          "2023-04-18T08:49:40.700000",
          "2023-04-18T08:50:00.700000",
          "2023-04-18T08:50:20.700000",
          "2023-04-18T08:50:40.700000",
          "2023-04-18T08:51:00.700000",
          "2023-04-18T08:51:20.700000",
          "2023-04-18T08:51:40.700000",
          "2023-04-18T08:52:00.700000",
          "2023-04-18T08:52:20.700000",
          "2023-04-18T08:52:40.700000",
          "2023-04-18T08:53:00.700000",
          "2023-04-18T08:53:20.700000",
          "2023-04-18T08:53:40.700000",
          "2023-04-18T08:54:00.700000",
          "2023-04-18T08:54:20.700000",
          "2023-04-18T08:54:40.700000",
          "2023-04-18T08:55:00.700000",
          "2023-04-18T08:55:20.700000",
          "2023-04-18T08:55:40.700000",
          "2023-04-18T08:56:00.700000",
          "2023-04-18T08:56:20.700000",
          "2023-04-18T08:56:40.700000",
          "2023-04-18T08:57:00.700000",
          "2023-04-18T08:57:20.700000",
          "2023-04-18T08:57:40.700000",
          "2023-04-18T08:58:00.700000",
          "2023-04-18T08:58:20.700000",
          "2023-04-18T08:58:40.700000",
          "2023-04-18T08:59:00.700000",
          "2023-04-18T08:59:20.700000",
          "2023-04-18T08:59:40.700000",
          "2023-04-18T09:00:00.700000"
         ],
         "y": [
          1.9538381865986536,
          1.9487947101267953,
          1.9457608963251811,
          1.9443171908684285,
          1.942320336105487,
          1.940520846946917,
          1.9389824742876114,
          1.937323519013733,
          1.9355018317606547,
          1.9338279038276944,
          1.930067930455554,
          1.9279208331752307,
          1.9263125971443595,
          1.924539458774728,
          1.9223445840073652,
          1.9187626474092359,
          1.9159939816371343,
          1.9125122146965947,
          1.9103059325564942,
          1.909124119193398,
          1.9078684668730197,
          1.9063529555196708,
          1.9049484132949015,
          1.9033579871706283,
          1.9015706313417915,
          1.9001421240535217,
          1.8983343813722688,
          1.89656414206143,
          1.8947161910239434,
          1.8933332479958522,
          1.8915701434249796,
          1.8880683377076275,
          1.88531540872993,
          1.882760620421254,
          1.8803931778530991,
          1.8779972730289438,
          1.8752098245334896,
          null,
          null,
          null,
          null,
          null,
          null,
          null,
          null,
          null,
          null,
          null,
          null,
          null,
          null,
          null,
          null,
          null,
          null,
          null,
          null,
          null,
          null,
          null,
          null,
          null,
          null,
          null,
          null,
          null,
          null,
          null,
          null,
          null,
          null,
          null,
          null,
          null,
          null,
          null,
          null,
          null,
          null,
          null,
          null,
          null,
          null,
          null,
          null,
          null,
          null,
          null,
          null,
          null,
          null,
          null,
          null,
          null,
          null,
          null,
          null,
          null,
          null,
          null,
          null,
          null,
          null,
          null,
          null,
          null,
          null,
          null,
          null,
          null,
          null,
          null,
          null,
          null,
          null,
          null,
          null,
          null,
          null,
          null,
          null,
          null,
          null,
          null,
          null,
          null,
          null,
          null,
          null,
          null,
          null,
          null,
          null,
          null,
          null,
          null,
          null,
          null,
          null,
          null,
          null,
          null,
          null,
          null,
          null,
          null,
          null,
          null,
          null,
          null,
          null,
          null,
          null,
          null,
          null,
          null,
          null,
          null,
          null,
          null,
          null,
          null,
          null,
          null,
          null,
          null,
          null,
          null,
          null,
          null,
          null,
          null,
          null,
          null,
          null,
          null,
          null,
          null,
          null,
          null
         ]
        }
       ],
       "layout": {
        "template": {
         "data": {
          "bar": [
           {
            "error_x": {
             "color": "#2a3f5f"
            },
            "error_y": {
             "color": "#2a3f5f"
            },
            "marker": {
             "line": {
              "color": "#E5ECF6",
              "width": 0.5
             },
             "pattern": {
              "fillmode": "overlay",
              "size": 10,
              "solidity": 0.2
             }
            },
            "type": "bar"
           }
          ],
          "barpolar": [
           {
            "marker": {
             "line": {
              "color": "#E5ECF6",
              "width": 0.5
             },
             "pattern": {
              "fillmode": "overlay",
              "size": 10,
              "solidity": 0.2
             }
            },
            "type": "barpolar"
           }
          ],
          "carpet": [
           {
            "aaxis": {
             "endlinecolor": "#2a3f5f",
             "gridcolor": "white",
             "linecolor": "white",
             "minorgridcolor": "white",
             "startlinecolor": "#2a3f5f"
            },
            "baxis": {
             "endlinecolor": "#2a3f5f",
             "gridcolor": "white",
             "linecolor": "white",
             "minorgridcolor": "white",
             "startlinecolor": "#2a3f5f"
            },
            "type": "carpet"
           }
          ],
          "choropleth": [
           {
            "colorbar": {
             "outlinewidth": 0,
             "ticks": ""
            },
            "type": "choropleth"
           }
          ],
          "contour": [
           {
            "colorbar": {
             "outlinewidth": 0,
             "ticks": ""
            },
            "colorscale": [
             [
              0,
              "#0d0887"
             ],
             [
              0.1111111111111111,
              "#46039f"
             ],
             [
              0.2222222222222222,
              "#7201a8"
             ],
             [
              0.3333333333333333,
              "#9c179e"
             ],
             [
              0.4444444444444444,
              "#bd3786"
             ],
             [
              0.5555555555555556,
              "#d8576b"
             ],
             [
              0.6666666666666666,
              "#ed7953"
             ],
             [
              0.7777777777777778,
              "#fb9f3a"
             ],
             [
              0.8888888888888888,
              "#fdca26"
             ],
             [
              1,
              "#f0f921"
             ]
            ],
            "type": "contour"
           }
          ],
          "contourcarpet": [
           {
            "colorbar": {
             "outlinewidth": 0,
             "ticks": ""
            },
            "type": "contourcarpet"
           }
          ],
          "heatmap": [
           {
            "colorbar": {
             "outlinewidth": 0,
             "ticks": ""
            },
            "colorscale": [
             [
              0,
              "#0d0887"
             ],
             [
              0.1111111111111111,
              "#46039f"
             ],
             [
              0.2222222222222222,
              "#7201a8"
             ],
             [
              0.3333333333333333,
              "#9c179e"
             ],
             [
              0.4444444444444444,
              "#bd3786"
             ],
             [
              0.5555555555555556,
              "#d8576b"
             ],
             [
              0.6666666666666666,
              "#ed7953"
             ],
             [
              0.7777777777777778,
              "#fb9f3a"
             ],
             [
              0.8888888888888888,
              "#fdca26"
             ],
             [
              1,
              "#f0f921"
             ]
            ],
            "type": "heatmap"
           }
          ],
          "heatmapgl": [
           {
            "colorbar": {
             "outlinewidth": 0,
             "ticks": ""
            },
            "colorscale": [
             [
              0,
              "#0d0887"
             ],
             [
              0.1111111111111111,
              "#46039f"
             ],
             [
              0.2222222222222222,
              "#7201a8"
             ],
             [
              0.3333333333333333,
              "#9c179e"
             ],
             [
              0.4444444444444444,
              "#bd3786"
             ],
             [
              0.5555555555555556,
              "#d8576b"
             ],
             [
              0.6666666666666666,
              "#ed7953"
             ],
             [
              0.7777777777777778,
              "#fb9f3a"
             ],
             [
              0.8888888888888888,
              "#fdca26"
             ],
             [
              1,
              "#f0f921"
             ]
            ],
            "type": "heatmapgl"
           }
          ],
          "histogram": [
           {
            "marker": {
             "pattern": {
              "fillmode": "overlay",
              "size": 10,
              "solidity": 0.2
             }
            },
            "type": "histogram"
           }
          ],
          "histogram2d": [
           {
            "colorbar": {
             "outlinewidth": 0,
             "ticks": ""
            },
            "colorscale": [
             [
              0,
              "#0d0887"
             ],
             [
              0.1111111111111111,
              "#46039f"
             ],
             [
              0.2222222222222222,
              "#7201a8"
             ],
             [
              0.3333333333333333,
              "#9c179e"
             ],
             [
              0.4444444444444444,
              "#bd3786"
             ],
             [
              0.5555555555555556,
              "#d8576b"
             ],
             [
              0.6666666666666666,
              "#ed7953"
             ],
             [
              0.7777777777777778,
              "#fb9f3a"
             ],
             [
              0.8888888888888888,
              "#fdca26"
             ],
             [
              1,
              "#f0f921"
             ]
            ],
            "type": "histogram2d"
           }
          ],
          "histogram2dcontour": [
           {
            "colorbar": {
             "outlinewidth": 0,
             "ticks": ""
            },
            "colorscale": [
             [
              0,
              "#0d0887"
             ],
             [
              0.1111111111111111,
              "#46039f"
             ],
             [
              0.2222222222222222,
              "#7201a8"
             ],
             [
              0.3333333333333333,
              "#9c179e"
             ],
             [
              0.4444444444444444,
              "#bd3786"
             ],
             [
              0.5555555555555556,
              "#d8576b"
             ],
             [
              0.6666666666666666,
              "#ed7953"
             ],
             [
              0.7777777777777778,
              "#fb9f3a"
             ],
             [
              0.8888888888888888,
              "#fdca26"
             ],
             [
              1,
              "#f0f921"
             ]
            ],
            "type": "histogram2dcontour"
           }
          ],
          "mesh3d": [
           {
            "colorbar": {
             "outlinewidth": 0,
             "ticks": ""
            },
            "type": "mesh3d"
           }
          ],
          "parcoords": [
           {
            "line": {
             "colorbar": {
              "outlinewidth": 0,
              "ticks": ""
             }
            },
            "type": "parcoords"
           }
          ],
          "pie": [
           {
            "automargin": true,
            "type": "pie"
           }
          ],
          "scatter": [
           {
            "fillpattern": {
             "fillmode": "overlay",
             "size": 10,
             "solidity": 0.2
            },
            "type": "scatter"
           }
          ],
          "scatter3d": [
           {
            "line": {
             "colorbar": {
              "outlinewidth": 0,
              "ticks": ""
             }
            },
            "marker": {
             "colorbar": {
              "outlinewidth": 0,
              "ticks": ""
             }
            },
            "type": "scatter3d"
           }
          ],
          "scattercarpet": [
           {
            "marker": {
             "colorbar": {
              "outlinewidth": 0,
              "ticks": ""
             }
            },
            "type": "scattercarpet"
           }
          ],
          "scattergeo": [
           {
            "marker": {
             "colorbar": {
              "outlinewidth": 0,
              "ticks": ""
             }
            },
            "type": "scattergeo"
           }
          ],
          "scattergl": [
           {
            "marker": {
             "colorbar": {
              "outlinewidth": 0,
              "ticks": ""
             }
            },
            "type": "scattergl"
           }
          ],
          "scattermapbox": [
           {
            "marker": {
             "colorbar": {
              "outlinewidth": 0,
              "ticks": ""
             }
            },
            "type": "scattermapbox"
           }
          ],
          "scatterpolar": [
           {
            "marker": {
             "colorbar": {
              "outlinewidth": 0,
              "ticks": ""
             }
            },
            "type": "scatterpolar"
           }
          ],
          "scatterpolargl": [
           {
            "marker": {
             "colorbar": {
              "outlinewidth": 0,
              "ticks": ""
             }
            },
            "type": "scatterpolargl"
           }
          ],
          "scatterternary": [
           {
            "marker": {
             "colorbar": {
              "outlinewidth": 0,
              "ticks": ""
             }
            },
            "type": "scatterternary"
           }
          ],
          "surface": [
           {
            "colorbar": {
             "outlinewidth": 0,
             "ticks": ""
            },
            "colorscale": [
             [
              0,
              "#0d0887"
             ],
             [
              0.1111111111111111,
              "#46039f"
             ],
             [
              0.2222222222222222,
              "#7201a8"
             ],
             [
              0.3333333333333333,
              "#9c179e"
             ],
             [
              0.4444444444444444,
              "#bd3786"
             ],
             [
              0.5555555555555556,
              "#d8576b"
             ],
             [
              0.6666666666666666,
              "#ed7953"
             ],
             [
              0.7777777777777778,
              "#fb9f3a"
             ],
             [
              0.8888888888888888,
              "#fdca26"
             ],
             [
              1,
              "#f0f921"
             ]
            ],
            "type": "surface"
           }
          ],
          "table": [
           {
            "cells": {
             "fill": {
              "color": "#EBF0F8"
             },
             "line": {
              "color": "white"
             }
            },
            "header": {
             "fill": {
              "color": "#C8D4E3"
             },
             "line": {
              "color": "white"
             }
            },
            "type": "table"
           }
          ]
         },
         "layout": {
          "annotationdefaults": {
           "arrowcolor": "#2a3f5f",
           "arrowhead": 0,
           "arrowwidth": 1
          },
          "autotypenumbers": "strict",
          "coloraxis": {
           "colorbar": {
            "outlinewidth": 0,
            "ticks": ""
           }
          },
          "colorscale": {
           "diverging": [
            [
             0,
             "#8e0152"
            ],
            [
             0.1,
             "#c51b7d"
            ],
            [
             0.2,
             "#de77ae"
            ],
            [
             0.3,
             "#f1b6da"
            ],
            [
             0.4,
             "#fde0ef"
            ],
            [
             0.5,
             "#f7f7f7"
            ],
            [
             0.6,
             "#e6f5d0"
            ],
            [
             0.7,
             "#b8e186"
            ],
            [
             0.8,
             "#7fbc41"
            ],
            [
             0.9,
             "#4d9221"
            ],
            [
             1,
             "#276419"
            ]
           ],
           "sequential": [
            [
             0,
             "#0d0887"
            ],
            [
             0.1111111111111111,
             "#46039f"
            ],
            [
             0.2222222222222222,
             "#7201a8"
            ],
            [
             0.3333333333333333,
             "#9c179e"
            ],
            [
             0.4444444444444444,
             "#bd3786"
            ],
            [
             0.5555555555555556,
             "#d8576b"
            ],
            [
             0.6666666666666666,
             "#ed7953"
            ],
            [
             0.7777777777777778,
             "#fb9f3a"
            ],
            [
             0.8888888888888888,
             "#fdca26"
            ],
            [
             1,
             "#f0f921"
            ]
           ],
           "sequentialminus": [
            [
             0,
             "#0d0887"
            ],
            [
             0.1111111111111111,
             "#46039f"
            ],
            [
             0.2222222222222222,
             "#7201a8"
            ],
            [
             0.3333333333333333,
             "#9c179e"
            ],
            [
             0.4444444444444444,
             "#bd3786"
            ],
            [
             0.5555555555555556,
             "#d8576b"
            ],
            [
             0.6666666666666666,
             "#ed7953"
            ],
            [
             0.7777777777777778,
             "#fb9f3a"
            ],
            [
             0.8888888888888888,
             "#fdca26"
            ],
            [
             1,
             "#f0f921"
            ]
           ]
          },
          "colorway": [
           "#636efa",
           "#EF553B",
           "#00cc96",
           "#ab63fa",
           "#FFA15A",
           "#19d3f3",
           "#FF6692",
           "#B6E880",
           "#FF97FF",
           "#FECB52"
          ],
          "font": {
           "color": "#2a3f5f"
          },
          "geo": {
           "bgcolor": "white",
           "lakecolor": "white",
           "landcolor": "#E5ECF6",
           "showlakes": true,
           "showland": true,
           "subunitcolor": "white"
          },
          "hoverlabel": {
           "align": "left"
          },
          "hovermode": "closest",
          "mapbox": {
           "style": "light"
          },
          "paper_bgcolor": "white",
          "plot_bgcolor": "#E5ECF6",
          "polar": {
           "angularaxis": {
            "gridcolor": "white",
            "linecolor": "white",
            "ticks": ""
           },
           "bgcolor": "#E5ECF6",
           "radialaxis": {
            "gridcolor": "white",
            "linecolor": "white",
            "ticks": ""
           }
          },
          "scene": {
           "xaxis": {
            "backgroundcolor": "#E5ECF6",
            "gridcolor": "white",
            "gridwidth": 2,
            "linecolor": "white",
            "showbackground": true,
            "ticks": "",
            "zerolinecolor": "white"
           },
           "yaxis": {
            "backgroundcolor": "#E5ECF6",
            "gridcolor": "white",
            "gridwidth": 2,
            "linecolor": "white",
            "showbackground": true,
            "ticks": "",
            "zerolinecolor": "white"
           },
           "zaxis": {
            "backgroundcolor": "#E5ECF6",
            "gridcolor": "white",
            "gridwidth": 2,
            "linecolor": "white",
            "showbackground": true,
            "ticks": "",
            "zerolinecolor": "white"
           }
          },
          "shapedefaults": {
           "line": {
            "color": "#2a3f5f"
           }
          },
          "ternary": {
           "aaxis": {
            "gridcolor": "white",
            "linecolor": "white",
            "ticks": ""
           },
           "baxis": {
            "gridcolor": "white",
            "linecolor": "white",
            "ticks": ""
           },
           "bgcolor": "#E5ECF6",
           "caxis": {
            "gridcolor": "white",
            "linecolor": "white",
            "ticks": ""
           }
          },
          "title": {
           "x": 0.05
          },
          "xaxis": {
           "automargin": true,
           "gridcolor": "white",
           "linecolor": "white",
           "ticks": "",
           "title": {
            "standoff": 15
           },
           "zerolinecolor": "white",
           "zerolinewidth": 2
          },
          "yaxis": {
           "automargin": true,
           "gridcolor": "white",
           "linecolor": "white",
           "ticks": "",
           "title": {
            "standoff": 15
           },
           "zerolinecolor": "white",
           "zerolinewidth": 2
          }
         }
        },
        "title": {
         "text": "Price Slippage GRAIL-USDT on Gate.io"
        },
        "xaxis": {
         "dtick": 60000,
         "ticklabelmode": "period",
         "title": {
          "text": "Datetime_HKT"
         }
        },
        "yaxis": {
         "title": {
          "text": "Slippage(%)"
         }
        }
       }
      },
      "text/html": [
       "<div>                            <div id=\"e7bbbb5c-d3a8-4617-832c-b5dfe8cc3487\" class=\"plotly-graph-div\" style=\"height:525px; width:100%;\"></div>            <script type=\"text/javascript\">                require([\"plotly\"], function(Plotly) {                    window.PLOTLYENV=window.PLOTLYENV || {};                                    if (document.getElementById(\"e7bbbb5c-d3a8-4617-832c-b5dfe8cc3487\")) {                    Plotly.newPlot(                        \"e7bbbb5c-d3a8-4617-832c-b5dfe8cc3487\",                        [{\"line\":{\"color\":\"firebrick\"},\"name\":\"buy_slippage\",\"x\":[\"2023-04-18T08:00:20.700000\",\"2023-04-18T08:00:40.700000\",\"2023-04-18T08:01:00.700000\",\"2023-04-18T08:01:20.700000\",\"2023-04-18T08:01:40.700000\",\"2023-04-18T08:02:00.700000\",\"2023-04-18T08:02:20.700000\",\"2023-04-18T08:02:40.700000\",\"2023-04-18T08:03:00.700000\",\"2023-04-18T08:03:20.700000\",\"2023-04-18T08:03:40.700000\",\"2023-04-18T08:04:00.700000\",\"2023-04-18T08:04:20.700000\",\"2023-04-18T08:04:40.700000\",\"2023-04-18T08:05:00.700000\",\"2023-04-18T08:05:20.700000\",\"2023-04-18T08:05:40.700000\",\"2023-04-18T08:06:00.700000\",\"2023-04-18T08:06:20.700000\",\"2023-04-18T08:06:40.700000\",\"2023-04-18T08:07:00.700000\",\"2023-04-18T08:07:20.700000\",\"2023-04-18T08:07:40.700000\",\"2023-04-18T08:08:00.700000\",\"2023-04-18T08:08:20.700000\",\"2023-04-18T08:08:40.700000\",\"2023-04-18T08:09:00.700000\",\"2023-04-18T08:09:20.700000\",\"2023-04-18T08:09:40.700000\",\"2023-04-18T08:10:00.700000\",\"2023-04-18T08:10:20.700000\",\"2023-04-18T08:10:40.700000\",\"2023-04-18T08:11:00.700000\",\"2023-04-18T08:11:20.700000\",\"2023-04-18T08:11:40.700000\",\"2023-04-18T08:12:00.700000\",\"2023-04-18T08:12:20.700000\",\"2023-04-18T08:12:40.700000\",\"2023-04-18T08:13:00.700000\",\"2023-04-18T08:13:20.700000\",\"2023-04-18T08:13:40.700000\",\"2023-04-18T08:14:00.700000\",\"2023-04-18T08:14:20.700000\",\"2023-04-18T08:14:40.700000\",\"2023-04-18T08:15:00.700000\",\"2023-04-18T08:15:20.700000\",\"2023-04-18T08:15:40.700000\",\"2023-04-18T08:16:00.700000\",\"2023-04-18T08:16:20.700000\",\"2023-04-18T08:16:40.700000\",\"2023-04-18T08:17:00.700000\",\"2023-04-18T08:17:20.700000\",\"2023-04-18T08:17:40.700000\",\"2023-04-18T08:18:00.700000\",\"2023-04-18T08:18:20.700000\",\"2023-04-18T08:18:40.700000\",\"2023-04-18T08:19:00.700000\",\"2023-04-18T08:19:20.700000\",\"2023-04-18T08:19:40.700000\",\"2023-04-18T08:20:00.700000\",\"2023-04-18T08:20:20.700000\",\"2023-04-18T08:20:40.700000\",\"2023-04-18T08:21:00.700000\",\"2023-04-18T08:21:20.700000\",\"2023-04-18T08:21:40.700000\",\"2023-04-18T08:22:00.700000\",\"2023-04-18T08:22:20.700000\",\"2023-04-18T08:22:40.700000\",\"2023-04-18T08:23:00.700000\",\"2023-04-18T08:23:20.700000\",\"2023-04-18T08:23:40.700000\",\"2023-04-18T08:24:00.700000\",\"2023-04-18T08:24:20.700000\",\"2023-04-18T08:24:40.700000\",\"2023-04-18T08:25:00.700000\",\"2023-04-18T08:25:20.700000\",\"2023-04-18T08:25:40.700000\",\"2023-04-18T08:26:00.700000\",\"2023-04-18T08:26:20.700000\",\"2023-04-18T08:26:40.700000\",\"2023-04-18T08:27:00.700000\",\"2023-04-18T08:27:20.700000\",\"2023-04-18T08:27:40.700000\",\"2023-04-18T08:28:00.700000\",\"2023-04-18T08:28:20.700000\",\"2023-04-18T08:28:40.700000\",\"2023-04-18T08:29:00.700000\",\"2023-04-18T08:29:20.700000\",\"2023-04-18T08:29:40.700000\",\"2023-04-18T08:30:00.700000\",\"2023-04-18T08:30:20.700000\",\"2023-04-18T08:30:40.700000\",\"2023-04-18T08:31:00.700000\",\"2023-04-18T08:31:20.700000\",\"2023-04-18T08:31:40.700000\",\"2023-04-18T08:32:00.700000\",\"2023-04-18T08:32:20.700000\",\"2023-04-18T08:32:40.700000\",\"2023-04-18T08:33:00.700000\",\"2023-04-18T08:33:20.700000\",\"2023-04-18T08:33:40.700000\",\"2023-04-18T08:34:00.700000\",\"2023-04-18T08:34:20.700000\",\"2023-04-18T08:34:40.700000\",\"2023-04-18T08:35:00.700000\",\"2023-04-18T08:35:20.700000\",\"2023-04-18T08:35:40.700000\",\"2023-04-18T08:36:00.700000\",\"2023-04-18T08:36:20.700000\",\"2023-04-18T08:36:40.700000\",\"2023-04-18T08:37:00.700000\",\"2023-04-18T08:37:20.700000\",\"2023-04-18T08:37:40.700000\",\"2023-04-18T08:38:00.700000\",\"2023-04-18T08:38:20.700000\",\"2023-04-18T08:38:40.700000\",\"2023-04-18T08:39:00.700000\",\"2023-04-18T08:39:20.700000\",\"2023-04-18T08:39:40.700000\",\"2023-04-18T08:40:00.700000\",\"2023-04-18T08:40:20.700000\",\"2023-04-18T08:40:40.700000\",\"2023-04-18T08:41:00.700000\",\"2023-04-18T08:41:20.700000\",\"2023-04-18T08:41:40.700000\",\"2023-04-18T08:42:00.700000\",\"2023-04-18T08:42:20.700000\",\"2023-04-18T08:42:40.700000\",\"2023-04-18T08:43:00.700000\",\"2023-04-18T08:43:20.700000\",\"2023-04-18T08:43:40.700000\",\"2023-04-18T08:44:00.700000\",\"2023-04-18T08:44:20.700000\",\"2023-04-18T08:44:40.700000\",\"2023-04-18T08:45:00.700000\",\"2023-04-18T08:45:20.700000\",\"2023-04-18T08:45:40.700000\",\"2023-04-18T08:46:00.700000\",\"2023-04-18T08:46:20.700000\",\"2023-04-18T08:46:40.700000\",\"2023-04-18T08:47:00.700000\",\"2023-04-18T08:47:20.700000\",\"2023-04-18T08:47:40.700000\",\"2023-04-18T08:48:00.700000\",\"2023-04-18T08:48:20.700000\",\"2023-04-18T08:48:40.700000\",\"2023-04-18T08:49:00.700000\",\"2023-04-18T08:49:20.700000\",\"2023-04-18T08:49:40.700000\",\"2023-04-18T08:50:00.700000\",\"2023-04-18T08:50:20.700000\",\"2023-04-18T08:50:40.700000\",\"2023-04-18T08:51:00.700000\",\"2023-04-18T08:51:20.700000\",\"2023-04-18T08:51:40.700000\",\"2023-04-18T08:52:00.700000\",\"2023-04-18T08:52:20.700000\",\"2023-04-18T08:52:40.700000\",\"2023-04-18T08:53:00.700000\",\"2023-04-18T08:53:20.700000\",\"2023-04-18T08:53:40.700000\",\"2023-04-18T08:54:00.700000\",\"2023-04-18T08:54:20.700000\",\"2023-04-18T08:54:40.700000\",\"2023-04-18T08:55:00.700000\",\"2023-04-18T08:55:20.700000\",\"2023-04-18T08:55:40.700000\",\"2023-04-18T08:56:00.700000\",\"2023-04-18T08:56:20.700000\",\"2023-04-18T08:56:40.700000\",\"2023-04-18T08:57:00.700000\",\"2023-04-18T08:57:20.700000\",\"2023-04-18T08:57:40.700000\",\"2023-04-18T08:58:00.700000\",\"2023-04-18T08:58:20.700000\",\"2023-04-18T08:58:40.700000\",\"2023-04-18T08:59:00.700000\",\"2023-04-18T08:59:20.700000\",\"2023-04-18T08:59:40.700000\",\"2023-04-18T09:00:00.700000\"],\"y\":[0.6177771365885074,0.6130524411873687,0.6055774155043405,0.6062833791579985,0.6036930273810107,0.6027737838597097,0.5965855783862741,0.5925033568790251,0.5841674614816921,0.5856929187880332,0.582648410942882,0.5787152461805228,0.5746756107970012,0.5663490909238159,0.5621834007128467,0.5581130581781304,0.5538089340311366,0.5507625256899323,0.5473277878990126,0.543243701916522,0.5439664026249547,0.5406132772676683,0.5335052978076531,0.5346645413729944,0.5266770843168027,0.5342032701689041,0.5208474404917681,0.5243292358551033,0.5132274276317016,0.5093614118500541,0.5120734099927625,0.5080804074954681,0.49938866045902713,0.49603441915638175,0.49957583928882376,0.4975559099584755,0.4889717749536723,null,null,0.48763632960143993,0.49310491740319073,0.4888971010405782,0.34767284838993784,0.19112871156927116,0.2045199290245449,0.20878794299941703,0.48484876522211606,0.7695172813366349,0.7654196719358008,0.7643477984233771,0.7607143481450411,0.7536841869848725,0.75282132162651,0.7464962085422272,0.7423484172680683,0.452252860403697,0.4478896693491931,0.4460911417519404,0.4613605814406843,0.38624486182821055,0.6207123069746906,0.7144625817079745,0.5012379951166566,0.4510468324534232,0.4488987921184051,0.3645362733504369,0.43974189446423434,0.41717977952340995,0.43781999454832715,1.1309494857783349,0.9545404651909294,0.9438063183255431,0.9465292685167864,0.9420937895800017,0.9381384257596386,0.9318565663919047,0.9283946101621876,0.8980241899696871,0.8920607796255655,0.8878918491999488,0.883985385121695,0.877910818673261,0.8739772884690336,0.8719524930427961,0.8664616762355093,0.8623118678632061,0.8592368267600452,0.8551622916886631,0.8511082292975886,0.8472290774222447,0.8433440854541753,0.8392584681483858,0.8365753528577836,0.833194822077774,0.8290520147996143,0.8256374711564062,0.8213932767905134,0.8174395168157622,0.8130523023003433,0.8101068732505765,0.8067387740782523,0.8022920904158879,0.7983256329461358,0.794263907984866,0.7904130466230732,0.7870562161531602,0.7822547546550969,0.778380450543337,0.7749257258109324,0.770356269850003,0.3987696644782164,0.19254165872336804,1.1753921461108159,1.39339057264597,1.389020283369736,1.385244773965951,1.4367430908521703,1.3099177995549447,1.3057324280877927,1.3031307033772124,1.2985787817554666,1.2970019881824506,1.2481787407814415,1.2214443255917602,1.218727754424766,1.2152107295092895,1.2093261194089686,1.2119514496298265,1.1668952398661265,1.140785855904145,1.1348005862926038,1.1343764097841562,1.1357455002657562,1.1069000245311211,1.0658549245304196,1.0646135233486211,1.0578148625531958,1.0580322630419117,1.0275207229519958,0.9946155632654089,0.9944374407631802,0.9926220560272146,0.9882363968435228,0.9807650870815215,0.9775318391409004,0.9743641924515108,0.9702713886659722,0.970769828291379,0.9633602915547453,0.959998917489764,0.9622798923530447,0.9589540706289706,0.9678333764004936,1.0139115251691844,1.1058060028154448,1.101583393842607,1.100956574008583,1.0936199185316897,1.0938762789323597,1.089693510976504,1.083235280408341,1.0794554425943068,1.078821338638953,1.070831554356068,1.0770861750948797,1.0628442164005838,1.0685241496772986,1.056196750015474,0.9248106874706218,0.6056046326346073,0.6156340013434027,0.6662569324425168,0.660504982851858,0.5010957763533375,0.6288846487994387,0.6587080949892343,0.5479456188641447,0.6013941648900059,0.6567892117668279,0.6301492041926267],\"type\":\"scatter\"},{\"line\":{\"color\":\"firebrick\",\"dash\":\"dash\"},\"name\":\"mean_buy_slippage\",\"x\":[\"2023-04-18T08:00:20.700000\",\"2023-04-18T08:00:40.700000\",\"2023-04-18T08:01:00.700000\",\"2023-04-18T08:01:20.700000\",\"2023-04-18T08:01:40.700000\",\"2023-04-18T08:02:00.700000\",\"2023-04-18T08:02:20.700000\",\"2023-04-18T08:02:40.700000\",\"2023-04-18T08:03:00.700000\",\"2023-04-18T08:03:20.700000\",\"2023-04-18T08:03:40.700000\",\"2023-04-18T08:04:00.700000\",\"2023-04-18T08:04:20.700000\",\"2023-04-18T08:04:40.700000\",\"2023-04-18T08:05:00.700000\",\"2023-04-18T08:05:20.700000\",\"2023-04-18T08:05:40.700000\",\"2023-04-18T08:06:00.700000\",\"2023-04-18T08:06:20.700000\",\"2023-04-18T08:06:40.700000\",\"2023-04-18T08:07:00.700000\",\"2023-04-18T08:07:20.700000\",\"2023-04-18T08:07:40.700000\",\"2023-04-18T08:08:00.700000\",\"2023-04-18T08:08:20.700000\",\"2023-04-18T08:08:40.700000\",\"2023-04-18T08:09:00.700000\",\"2023-04-18T08:09:20.700000\",\"2023-04-18T08:09:40.700000\",\"2023-04-18T08:10:00.700000\",\"2023-04-18T08:10:20.700000\",\"2023-04-18T08:10:40.700000\",\"2023-04-18T08:11:00.700000\",\"2023-04-18T08:11:20.700000\",\"2023-04-18T08:11:40.700000\",\"2023-04-18T08:12:00.700000\",\"2023-04-18T08:12:20.700000\",\"2023-04-18T08:12:40.700000\",\"2023-04-18T08:13:00.700000\",\"2023-04-18T08:13:20.700000\",\"2023-04-18T08:13:40.700000\",\"2023-04-18T08:14:00.700000\",\"2023-04-18T08:14:20.700000\",\"2023-04-18T08:14:40.700000\",\"2023-04-18T08:15:00.700000\",\"2023-04-18T08:15:20.700000\",\"2023-04-18T08:15:40.700000\",\"2023-04-18T08:16:00.700000\",\"2023-04-18T08:16:20.700000\",\"2023-04-18T08:16:40.700000\",\"2023-04-18T08:17:00.700000\",\"2023-04-18T08:17:20.700000\",\"2023-04-18T08:17:40.700000\",\"2023-04-18T08:18:00.700000\",\"2023-04-18T08:18:20.700000\",\"2023-04-18T08:18:40.700000\",\"2023-04-18T08:19:00.700000\",\"2023-04-18T08:19:20.700000\",\"2023-04-18T08:19:40.700000\",\"2023-04-18T08:20:00.700000\",\"2023-04-18T08:20:20.700000\",\"2023-04-18T08:20:40.700000\",\"2023-04-18T08:21:00.700000\",\"2023-04-18T08:21:20.700000\",\"2023-04-18T08:21:40.700000\",\"2023-04-18T08:22:00.700000\",\"2023-04-18T08:22:20.700000\",\"2023-04-18T08:22:40.700000\",\"2023-04-18T08:23:00.700000\",\"2023-04-18T08:23:20.700000\",\"2023-04-18T08:23:40.700000\",\"2023-04-18T08:24:00.700000\",\"2023-04-18T08:24:20.700000\",\"2023-04-18T08:24:40.700000\",\"2023-04-18T08:25:00.700000\",\"2023-04-18T08:25:20.700000\",\"2023-04-18T08:25:40.700000\",\"2023-04-18T08:26:00.700000\",\"2023-04-18T08:26:20.700000\",\"2023-04-18T08:26:40.700000\",\"2023-04-18T08:27:00.700000\",\"2023-04-18T08:27:20.700000\",\"2023-04-18T08:27:40.700000\",\"2023-04-18T08:28:00.700000\",\"2023-04-18T08:28:20.700000\",\"2023-04-18T08:28:40.700000\",\"2023-04-18T08:29:00.700000\",\"2023-04-18T08:29:20.700000\",\"2023-04-18T08:29:40.700000\",\"2023-04-18T08:30:00.700000\",\"2023-04-18T08:30:20.700000\",\"2023-04-18T08:30:40.700000\",\"2023-04-18T08:31:00.700000\",\"2023-04-18T08:31:20.700000\",\"2023-04-18T08:31:40.700000\",\"2023-04-18T08:32:00.700000\",\"2023-04-18T08:32:20.700000\",\"2023-04-18T08:32:40.700000\",\"2023-04-18T08:33:00.700000\",\"2023-04-18T08:33:20.700000\",\"2023-04-18T08:33:40.700000\",\"2023-04-18T08:34:00.700000\",\"2023-04-18T08:34:20.700000\",\"2023-04-18T08:34:40.700000\",\"2023-04-18T08:35:00.700000\",\"2023-04-18T08:35:20.700000\",\"2023-04-18T08:35:40.700000\",\"2023-04-18T08:36:00.700000\",\"2023-04-18T08:36:20.700000\",\"2023-04-18T08:36:40.700000\",\"2023-04-18T08:37:00.700000\",\"2023-04-18T08:37:20.700000\",\"2023-04-18T08:37:40.700000\",\"2023-04-18T08:38:00.700000\",\"2023-04-18T08:38:20.700000\",\"2023-04-18T08:38:40.700000\",\"2023-04-18T08:39:00.700000\",\"2023-04-18T08:39:20.700000\",\"2023-04-18T08:39:40.700000\",\"2023-04-18T08:40:00.700000\",\"2023-04-18T08:40:20.700000\",\"2023-04-18T08:40:40.700000\",\"2023-04-18T08:41:00.700000\",\"2023-04-18T08:41:20.700000\",\"2023-04-18T08:41:40.700000\",\"2023-04-18T08:42:00.700000\",\"2023-04-18T08:42:20.700000\",\"2023-04-18T08:42:40.700000\",\"2023-04-18T08:43:00.700000\",\"2023-04-18T08:43:20.700000\",\"2023-04-18T08:43:40.700000\",\"2023-04-18T08:44:00.700000\",\"2023-04-18T08:44:20.700000\",\"2023-04-18T08:44:40.700000\",\"2023-04-18T08:45:00.700000\",\"2023-04-18T08:45:20.700000\",\"2023-04-18T08:45:40.700000\",\"2023-04-18T08:46:00.700000\",\"2023-04-18T08:46:20.700000\",\"2023-04-18T08:46:40.700000\",\"2023-04-18T08:47:00.700000\",\"2023-04-18T08:47:20.700000\",\"2023-04-18T08:47:40.700000\",\"2023-04-18T08:48:00.700000\",\"2023-04-18T08:48:20.700000\",\"2023-04-18T08:48:40.700000\",\"2023-04-18T08:49:00.700000\",\"2023-04-18T08:49:20.700000\",\"2023-04-18T08:49:40.700000\",\"2023-04-18T08:50:00.700000\",\"2023-04-18T08:50:20.700000\",\"2023-04-18T08:50:40.700000\",\"2023-04-18T08:51:00.700000\",\"2023-04-18T08:51:20.700000\",\"2023-04-18T08:51:40.700000\",\"2023-04-18T08:52:00.700000\",\"2023-04-18T08:52:20.700000\",\"2023-04-18T08:52:40.700000\",\"2023-04-18T08:53:00.700000\",\"2023-04-18T08:53:20.700000\",\"2023-04-18T08:53:40.700000\",\"2023-04-18T08:54:00.700000\",\"2023-04-18T08:54:20.700000\",\"2023-04-18T08:54:40.700000\",\"2023-04-18T08:55:00.700000\",\"2023-04-18T08:55:20.700000\",\"2023-04-18T08:55:40.700000\",\"2023-04-18T08:56:00.700000\",\"2023-04-18T08:56:20.700000\",\"2023-04-18T08:56:40.700000\",\"2023-04-18T08:57:00.700000\",\"2023-04-18T08:57:20.700000\",\"2023-04-18T08:57:40.700000\",\"2023-04-18T08:58:00.700000\",\"2023-04-18T08:58:20.700000\",\"2023-04-18T08:58:40.700000\",\"2023-04-18T08:59:00.700000\",\"2023-04-18T08:59:20.700000\",\"2023-04-18T08:59:40.700000\",\"2023-04-18T09:00:00.700000\"],\"y\":[0.6177771365885074,0.615414788887938,0.6121356644267388,0.6106725931095538,0.6092766799638452,0.6081928639464892,0.6065346802950299,0.6047807648680292,0.6024903978251028,0.6008106499213959,0.5991595372869856,0.597455846361447,0.5957035205487974,0.5936067755755844,0.5915118839180685,0.5894244573093224,0.5873294265282526,0.5852979320372349,0.5832995033983811,0.5812967133242881,0.5795190794814628,0.5777506339262902,0.5758269236602626,0.574111824398293,0.5722144347950333,0.5707524669247976,0.5689041326124632,0.5673121720139861,0.5654471808283901,0.5635776551957788,0.5619162279311654,0.5602338585425499,0.558390064661231,0.5565560750875589,0.5549280683504522,0.5533343972840084,0.5515948669507561,null,null,null,null,null,null,null,null,null,null,null,null,null,null,null,null,null,null,null,null,null,null,null,null,null,null,null,null,null,null,null,null,null,null,null,null,null,null,null,null,null,null,null,null,null,null,null,null,null,null,null,null,null,null,null,null,null,null,null,null,null,null,null,null,null,null,null,null,null,null,null,null,null,null,null,null,null,null,null,null,null,null,null,null,null,null,null,null,null,null,null,null,null,null,null,null,null,null,null,null,null,null,null,null,null,null,null,null,null,null,null,null,null,null,null,null,null,null,null,null,null,null,null,null,null,null,null,null,null,null,null,null,null,null,null,null,null,null,null,null,null,null,null],\"type\":\"scatter\"},{\"line\":{\"color\":\"blue\"},\"name\":\"sell_slippage\",\"x\":[\"2023-04-18T08:00:20.700000\",\"2023-04-18T08:00:40.700000\",\"2023-04-18T08:01:00.700000\",\"2023-04-18T08:01:20.700000\",\"2023-04-18T08:01:40.700000\",\"2023-04-18T08:02:00.700000\",\"2023-04-18T08:02:20.700000\",\"2023-04-18T08:02:40.700000\",\"2023-04-18T08:03:00.700000\",\"2023-04-18T08:03:20.700000\",\"2023-04-18T08:03:40.700000\",\"2023-04-18T08:04:00.700000\",\"2023-04-18T08:04:20.700000\",\"2023-04-18T08:04:40.700000\",\"2023-04-18T08:05:00.700000\",\"2023-04-18T08:05:20.700000\",\"2023-04-18T08:05:40.700000\",\"2023-04-18T08:06:00.700000\",\"2023-04-18T08:06:20.700000\",\"2023-04-18T08:06:40.700000\",\"2023-04-18T08:07:00.700000\",\"2023-04-18T08:07:20.700000\",\"2023-04-18T08:07:40.700000\",\"2023-04-18T08:08:00.700000\",\"2023-04-18T08:08:20.700000\",\"2023-04-18T08:08:40.700000\",\"2023-04-18T08:09:00.700000\",\"2023-04-18T08:09:20.700000\",\"2023-04-18T08:09:40.700000\",\"2023-04-18T08:10:00.700000\",\"2023-04-18T08:10:20.700000\",\"2023-04-18T08:10:40.700000\",\"2023-04-18T08:11:00.700000\",\"2023-04-18T08:11:20.700000\",\"2023-04-18T08:11:40.700000\",\"2023-04-18T08:12:00.700000\",\"2023-04-18T08:12:20.700000\",\"2023-04-18T08:12:40.700000\",\"2023-04-18T08:13:00.700000\",\"2023-04-18T08:13:20.700000\",\"2023-04-18T08:13:40.700000\",\"2023-04-18T08:14:00.700000\",\"2023-04-18T08:14:20.700000\",\"2023-04-18T08:14:40.700000\",\"2023-04-18T08:15:00.700000\",\"2023-04-18T08:15:20.700000\",\"2023-04-18T08:15:40.700000\",\"2023-04-18T08:16:00.700000\",\"2023-04-18T08:16:20.700000\",\"2023-04-18T08:16:40.700000\",\"2023-04-18T08:17:00.700000\",\"2023-04-18T08:17:20.700000\",\"2023-04-18T08:17:40.700000\",\"2023-04-18T08:18:00.700000\",\"2023-04-18T08:18:20.700000\",\"2023-04-18T08:18:40.700000\",\"2023-04-18T08:19:00.700000\",\"2023-04-18T08:19:20.700000\",\"2023-04-18T08:19:40.700000\",\"2023-04-18T08:20:00.700000\",\"2023-04-18T08:20:20.700000\",\"2023-04-18T08:20:40.700000\",\"2023-04-18T08:21:00.700000\",\"2023-04-18T08:21:20.700000\",\"2023-04-18T08:21:40.700000\",\"2023-04-18T08:22:00.700000\",\"2023-04-18T08:22:20.700000\",\"2023-04-18T08:22:40.700000\",\"2023-04-18T08:23:00.700000\",\"2023-04-18T08:23:20.700000\",\"2023-04-18T08:23:40.700000\",\"2023-04-18T08:24:00.700000\",\"2023-04-18T08:24:20.700000\",\"2023-04-18T08:24:40.700000\",\"2023-04-18T08:25:00.700000\",\"2023-04-18T08:25:20.700000\",\"2023-04-18T08:25:40.700000\",\"2023-04-18T08:26:00.700000\",\"2023-04-18T08:26:20.700000\",\"2023-04-18T08:26:40.700000\",\"2023-04-18T08:27:00.700000\",\"2023-04-18T08:27:20.700000\",\"2023-04-18T08:27:40.700000\",\"2023-04-18T08:28:00.700000\",\"2023-04-18T08:28:20.700000\",\"2023-04-18T08:28:40.700000\",\"2023-04-18T08:29:00.700000\",\"2023-04-18T08:29:20.700000\",\"2023-04-18T08:29:40.700000\",\"2023-04-18T08:30:00.700000\",\"2023-04-18T08:30:20.700000\",\"2023-04-18T08:30:40.700000\",\"2023-04-18T08:31:00.700000\",\"2023-04-18T08:31:20.700000\",\"2023-04-18T08:31:40.700000\",\"2023-04-18T08:32:00.700000\",\"2023-04-18T08:32:20.700000\",\"2023-04-18T08:32:40.700000\",\"2023-04-18T08:33:00.700000\",\"2023-04-18T08:33:20.700000\",\"2023-04-18T08:33:40.700000\",\"2023-04-18T08:34:00.700000\",\"2023-04-18T08:34:20.700000\",\"2023-04-18T08:34:40.700000\",\"2023-04-18T08:35:00.700000\",\"2023-04-18T08:35:20.700000\",\"2023-04-18T08:35:40.700000\",\"2023-04-18T08:36:00.700000\",\"2023-04-18T08:36:20.700000\",\"2023-04-18T08:36:40.700000\",\"2023-04-18T08:37:00.700000\",\"2023-04-18T08:37:20.700000\",\"2023-04-18T08:37:40.700000\",\"2023-04-18T08:38:00.700000\",\"2023-04-18T08:38:20.700000\",\"2023-04-18T08:38:40.700000\",\"2023-04-18T08:39:00.700000\",\"2023-04-18T08:39:20.700000\",\"2023-04-18T08:39:40.700000\",\"2023-04-18T08:40:00.700000\",\"2023-04-18T08:40:20.700000\",\"2023-04-18T08:40:40.700000\",\"2023-04-18T08:41:00.700000\",\"2023-04-18T08:41:20.700000\",\"2023-04-18T08:41:40.700000\",\"2023-04-18T08:42:00.700000\",\"2023-04-18T08:42:20.700000\",\"2023-04-18T08:42:40.700000\",\"2023-04-18T08:43:00.700000\",\"2023-04-18T08:43:20.700000\",\"2023-04-18T08:43:40.700000\",\"2023-04-18T08:44:00.700000\",\"2023-04-18T08:44:20.700000\",\"2023-04-18T08:44:40.700000\",\"2023-04-18T08:45:00.700000\",\"2023-04-18T08:45:20.700000\",\"2023-04-18T08:45:40.700000\",\"2023-04-18T08:46:00.700000\",\"2023-04-18T08:46:20.700000\",\"2023-04-18T08:46:40.700000\",\"2023-04-18T08:47:00.700000\",\"2023-04-18T08:47:20.700000\",\"2023-04-18T08:47:40.700000\",\"2023-04-18T08:48:00.700000\",\"2023-04-18T08:48:20.700000\",\"2023-04-18T08:48:40.700000\",\"2023-04-18T08:49:00.700000\",\"2023-04-18T08:49:20.700000\",\"2023-04-18T08:49:40.700000\",\"2023-04-18T08:50:00.700000\",\"2023-04-18T08:50:20.700000\",\"2023-04-18T08:50:40.700000\",\"2023-04-18T08:51:00.700000\",\"2023-04-18T08:51:20.700000\",\"2023-04-18T08:51:40.700000\",\"2023-04-18T08:52:00.700000\",\"2023-04-18T08:52:20.700000\",\"2023-04-18T08:52:40.700000\",\"2023-04-18T08:53:00.700000\",\"2023-04-18T08:53:20.700000\",\"2023-04-18T08:53:40.700000\",\"2023-04-18T08:54:00.700000\",\"2023-04-18T08:54:20.700000\",\"2023-04-18T08:54:40.700000\",\"2023-04-18T08:55:00.700000\",\"2023-04-18T08:55:20.700000\",\"2023-04-18T08:55:40.700000\",\"2023-04-18T08:56:00.700000\",\"2023-04-18T08:56:20.700000\",\"2023-04-18T08:56:40.700000\",\"2023-04-18T08:57:00.700000\",\"2023-04-18T08:57:20.700000\",\"2023-04-18T08:57:40.700000\",\"2023-04-18T08:58:00.700000\",\"2023-04-18T08:58:20.700000\",\"2023-04-18T08:58:40.700000\",\"2023-04-18T08:59:00.700000\",\"2023-04-18T08:59:20.700000\",\"2023-04-18T08:59:40.700000\",\"2023-04-18T09:00:00.700000\"],\"y\":[1.9538381865986536,1.943751233654937,1.9396932687219526,1.9399860744981707,1.9343329170537211,1.9315234011540665,1.929752238331778,1.9257108320965834,1.9209283337360286,1.918762552431051,1.89246819673415,1.9043027630916731,1.907013764773902,1.901488659969521,1.8916163372642862,1.8650335984372968,1.8716953292835106,1.8533221767074226,1.8705928540346823,1.8866696652945734,1.882755420465451,1.8745272170993397,1.8740484843499772,1.8667781863123476,1.8586740914497095,1.8644294418467797,1.851333071659698,1.8487676806687772,1.8429735619743155,1.8532279001812126,1.8386770062988034,1.779512360469713,1.7972216814436075,1.7984526062349473,1.7999001305358313,1.7941406041835053,1.7748616786971358,null,null,1.7609489184549756,1.7174737934103952,1.716860570147093,1.7514373855491943,1.7925327474947768,1.7842464514863468,1.7819929571645894,1.9187213957974767,2.0221627820391217,2.018153697333945,2.0135511018784684,2.009829174402142,2.0054868578019005,2.0015379782505254,1.9948712909791804,1.9876754429890533,2.1808609097967246,2.1793871000926495,2.1259389774391,2.150354921855016,2.2576540141819104,2.0098421770927217,1.9626484716423922,2.024850299537675,1.9738928528189776,2.0004193183214687,2.023871624822761,1.9906933267909077,1.9838997717244153,1.9889931535493022,2.203182016804681,2.1908778483262674,2.1626492461000173,2.1577526099488886,2.1280521144608597,2.079907157596772,2.1207456088240004,2.1296650092300817,2.082608227636331,2.0137807427755523,2.008994173510018,2.048940555220139,2.3206121616108675,2.277569235715677,2.2141012455905393,2.2075979597960185,2.2004143294428165,2.1946351507989514,2.1881943461905866,2.1813011616217297,2.1744214783548097,2.1678306145465784,2.1608522436269353,2.156641055904069,2.150516442946426,2.143790174082516,2.137267287396429,2.130337684796543,2.123865801511949,2.1178422497670453,2.1122505545647314,2.1063440009101835,2.099143610592661,2.120519826644506,2.187086712480408,2.1828957977828045,2.1782759435193504,2.174166339576242,2.169038790630093,2.1634094675560576,2.156696953157491,1.57286309061227,1.3886432295105762,1.5308077317973205,1.6948277485386143,1.6901306059945043,1.6856525965411735,1.5095425540870169,1.6106865078433998,1.60595402825297,1.6012820047780547,1.5969285596362564,1.5875597688564345,1.5246101637109981,1.5192411377128852,1.5048738748521608,1.5055260659740186,1.5026495134317819,1.4932167951888513,1.4374754631917048,1.4362309762309133,1.429480464603194,1.4203349919940504,1.40269740254233,1.3600665046339384,1.3600278974600533,1.3555616241447335,1.3510679956890879,1.3467433848230945,1.3128750167925447,1.3081575817917628,1.304223661422261,1.3004253101206154,1.2903012637871742,1.2946603063245752,1.2914525182363137,1.2856716845042082,1.2831418960041605,1.280395439257447,1.2768205525228173,1.2738838515129618,1.2717835491405676,1.2683539925895642,1.2639447090235811,1.203163821946617,1.1040255132319898,1.09999462027591,1.0958165366944814,1.0923877459688454,1.0886273779146372,1.0847173272107906,1.0814694607768105,1.0774591256696637,1.0732099253719194,1.0690504380803463,1.06531775539876,1.0612597018732275,1.0582392985312616,1.0546316427661688,1.1346017520620792,1.3331106105171955,1.319511324005742,1.291474319575634,1.274655179810208,1.375610919844865,1.2881012378959096,1.2634855358212687,1.3284892824452308,1.2874216748335536,1.2542574783756422,1.2629132173632966],\"type\":\"scatter\"},{\"line\":{\"color\":\"blue\",\"dash\":\"dash\"},\"name\":\"mean_sell_slippage\",\"x\":[\"2023-04-18T08:00:20.700000\",\"2023-04-18T08:00:40.700000\",\"2023-04-18T08:01:00.700000\",\"2023-04-18T08:01:20.700000\",\"2023-04-18T08:01:40.700000\",\"2023-04-18T08:02:00.700000\",\"2023-04-18T08:02:20.700000\",\"2023-04-18T08:02:40.700000\",\"2023-04-18T08:03:00.700000\",\"2023-04-18T08:03:20.700000\",\"2023-04-18T08:03:40.700000\",\"2023-04-18T08:04:00.700000\",\"2023-04-18T08:04:20.700000\",\"2023-04-18T08:04:40.700000\",\"2023-04-18T08:05:00.700000\",\"2023-04-18T08:05:20.700000\",\"2023-04-18T08:05:40.700000\",\"2023-04-18T08:06:00.700000\",\"2023-04-18T08:06:20.700000\",\"2023-04-18T08:06:40.700000\",\"2023-04-18T08:07:00.700000\",\"2023-04-18T08:07:20.700000\",\"2023-04-18T08:07:40.700000\",\"2023-04-18T08:08:00.700000\",\"2023-04-18T08:08:20.700000\",\"2023-04-18T08:08:40.700000\",\"2023-04-18T08:09:00.700000\",\"2023-04-18T08:09:20.700000\",\"2023-04-18T08:09:40.700000\",\"2023-04-18T08:10:00.700000\",\"2023-04-18T08:10:20.700000\",\"2023-04-18T08:10:40.700000\",\"2023-04-18T08:11:00.700000\",\"2023-04-18T08:11:20.700000\",\"2023-04-18T08:11:40.700000\",\"2023-04-18T08:12:00.700000\",\"2023-04-18T08:12:20.700000\",\"2023-04-18T08:12:40.700000\",\"2023-04-18T08:13:00.700000\",\"2023-04-18T08:13:20.700000\",\"2023-04-18T08:13:40.700000\",\"2023-04-18T08:14:00.700000\",\"2023-04-18T08:14:20.700000\",\"2023-04-18T08:14:40.700000\",\"2023-04-18T08:15:00.700000\",\"2023-04-18T08:15:20.700000\",\"2023-04-18T08:15:40.700000\",\"2023-04-18T08:16:00.700000\",\"2023-04-18T08:16:20.700000\",\"2023-04-18T08:16:40.700000\",\"2023-04-18T08:17:00.700000\",\"2023-04-18T08:17:20.700000\",\"2023-04-18T08:17:40.700000\",\"2023-04-18T08:18:00.700000\",\"2023-04-18T08:18:20.700000\",\"2023-04-18T08:18:40.700000\",\"2023-04-18T08:19:00.700000\",\"2023-04-18T08:19:20.700000\",\"2023-04-18T08:19:40.700000\",\"2023-04-18T08:20:00.700000\",\"2023-04-18T08:20:20.700000\",\"2023-04-18T08:20:40.700000\",\"2023-04-18T08:21:00.700000\",\"2023-04-18T08:21:20.700000\",\"2023-04-18T08:21:40.700000\",\"2023-04-18T08:22:00.700000\",\"2023-04-18T08:22:20.700000\",\"2023-04-18T08:22:40.700000\",\"2023-04-18T08:23:00.700000\",\"2023-04-18T08:23:20.700000\",\"2023-04-18T08:23:40.700000\",\"2023-04-18T08:24:00.700000\",\"2023-04-18T08:24:20.700000\",\"2023-04-18T08:24:40.700000\",\"2023-04-18T08:25:00.700000\",\"2023-04-18T08:25:20.700000\",\"2023-04-18T08:25:40.700000\",\"2023-04-18T08:26:00.700000\",\"2023-04-18T08:26:20.700000\",\"2023-04-18T08:26:40.700000\",\"2023-04-18T08:27:00.700000\",\"2023-04-18T08:27:20.700000\",\"2023-04-18T08:27:40.700000\",\"2023-04-18T08:28:00.700000\",\"2023-04-18T08:28:20.700000\",\"2023-04-18T08:28:40.700000\",\"2023-04-18T08:29:00.700000\",\"2023-04-18T08:29:20.700000\",\"2023-04-18T08:29:40.700000\",\"2023-04-18T08:30:00.700000\",\"2023-04-18T08:30:20.700000\",\"2023-04-18T08:30:40.700000\",\"2023-04-18T08:31:00.700000\",\"2023-04-18T08:31:20.700000\",\"2023-04-18T08:31:40.700000\",\"2023-04-18T08:32:00.700000\",\"2023-04-18T08:32:20.700000\",\"2023-04-18T08:32:40.700000\",\"2023-04-18T08:33:00.700000\",\"2023-04-18T08:33:20.700000\",\"2023-04-18T08:33:40.700000\",\"2023-04-18T08:34:00.700000\",\"2023-04-18T08:34:20.700000\",\"2023-04-18T08:34:40.700000\",\"2023-04-18T08:35:00.700000\",\"2023-04-18T08:35:20.700000\",\"2023-04-18T08:35:40.700000\",\"2023-04-18T08:36:00.700000\",\"2023-04-18T08:36:20.700000\",\"2023-04-18T08:36:40.700000\",\"2023-04-18T08:37:00.700000\",\"2023-04-18T08:37:20.700000\",\"2023-04-18T08:37:40.700000\",\"2023-04-18T08:38:00.700000\",\"2023-04-18T08:38:20.700000\",\"2023-04-18T08:38:40.700000\",\"2023-04-18T08:39:00.700000\",\"2023-04-18T08:39:20.700000\",\"2023-04-18T08:39:40.700000\",\"2023-04-18T08:40:00.700000\",\"2023-04-18T08:40:20.700000\",\"2023-04-18T08:40:40.700000\",\"2023-04-18T08:41:00.700000\",\"2023-04-18T08:41:20.700000\",\"2023-04-18T08:41:40.700000\",\"2023-04-18T08:42:00.700000\",\"2023-04-18T08:42:20.700000\",\"2023-04-18T08:42:40.700000\",\"2023-04-18T08:43:00.700000\",\"2023-04-18T08:43:20.700000\",\"2023-04-18T08:43:40.700000\",\"2023-04-18T08:44:00.700000\",\"2023-04-18T08:44:20.700000\",\"2023-04-18T08:44:40.700000\",\"2023-04-18T08:45:00.700000\",\"2023-04-18T08:45:20.700000\",\"2023-04-18T08:45:40.700000\",\"2023-04-18T08:46:00.700000\",\"2023-04-18T08:46:20.700000\",\"2023-04-18T08:46:40.700000\",\"2023-04-18T08:47:00.700000\",\"2023-04-18T08:47:20.700000\",\"2023-04-18T08:47:40.700000\",\"2023-04-18T08:48:00.700000\",\"2023-04-18T08:48:20.700000\",\"2023-04-18T08:48:40.700000\",\"2023-04-18T08:49:00.700000\",\"2023-04-18T08:49:20.700000\",\"2023-04-18T08:49:40.700000\",\"2023-04-18T08:50:00.700000\",\"2023-04-18T08:50:20.700000\",\"2023-04-18T08:50:40.700000\",\"2023-04-18T08:51:00.700000\",\"2023-04-18T08:51:20.700000\",\"2023-04-18T08:51:40.700000\",\"2023-04-18T08:52:00.700000\",\"2023-04-18T08:52:20.700000\",\"2023-04-18T08:52:40.700000\",\"2023-04-18T08:53:00.700000\",\"2023-04-18T08:53:20.700000\",\"2023-04-18T08:53:40.700000\",\"2023-04-18T08:54:00.700000\",\"2023-04-18T08:54:20.700000\",\"2023-04-18T08:54:40.700000\",\"2023-04-18T08:55:00.700000\",\"2023-04-18T08:55:20.700000\",\"2023-04-18T08:55:40.700000\",\"2023-04-18T08:56:00.700000\",\"2023-04-18T08:56:20.700000\",\"2023-04-18T08:56:40.700000\",\"2023-04-18T08:57:00.700000\",\"2023-04-18T08:57:20.700000\",\"2023-04-18T08:57:40.700000\",\"2023-04-18T08:58:00.700000\",\"2023-04-18T08:58:20.700000\",\"2023-04-18T08:58:40.700000\",\"2023-04-18T08:59:00.700000\",\"2023-04-18T08:59:20.700000\",\"2023-04-18T08:59:40.700000\",\"2023-04-18T09:00:00.700000\"],\"y\":[1.9538381865986536,1.9487947101267953,1.9457608963251811,1.9443171908684285,1.942320336105487,1.940520846946917,1.9389824742876114,1.937323519013733,1.9355018317606547,1.9338279038276944,1.930067930455554,1.9279208331752307,1.9263125971443595,1.924539458774728,1.9223445840073652,1.9187626474092359,1.9159939816371343,1.9125122146965947,1.9103059325564942,1.909124119193398,1.9078684668730197,1.9063529555196708,1.9049484132949015,1.9033579871706283,1.9015706313417915,1.9001421240535217,1.8983343813722688,1.89656414206143,1.8947161910239434,1.8933332479958522,1.8915701434249796,1.8880683377076275,1.88531540872993,1.882760620421254,1.8803931778530991,1.8779972730289438,1.8752098245334896,null,null,null,null,null,null,null,null,null,null,null,null,null,null,null,null,null,null,null,null,null,null,null,null,null,null,null,null,null,null,null,null,null,null,null,null,null,null,null,null,null,null,null,null,null,null,null,null,null,null,null,null,null,null,null,null,null,null,null,null,null,null,null,null,null,null,null,null,null,null,null,null,null,null,null,null,null,null,null,null,null,null,null,null,null,null,null,null,null,null,null,null,null,null,null,null,null,null,null,null,null,null,null,null,null,null,null,null,null,null,null,null,null,null,null,null,null,null,null,null,null,null,null,null,null,null,null,null,null,null,null,null,null,null,null,null,null,null,null,null,null,null,null],\"type\":\"scatter\"}],                        {\"template\":{\"data\":{\"histogram2dcontour\":[{\"type\":\"histogram2dcontour\",\"colorbar\":{\"outlinewidth\":0,\"ticks\":\"\"},\"colorscale\":[[0.0,\"#0d0887\"],[0.1111111111111111,\"#46039f\"],[0.2222222222222222,\"#7201a8\"],[0.3333333333333333,\"#9c179e\"],[0.4444444444444444,\"#bd3786\"],[0.5555555555555556,\"#d8576b\"],[0.6666666666666666,\"#ed7953\"],[0.7777777777777778,\"#fb9f3a\"],[0.8888888888888888,\"#fdca26\"],[1.0,\"#f0f921\"]]}],\"choropleth\":[{\"type\":\"choropleth\",\"colorbar\":{\"outlinewidth\":0,\"ticks\":\"\"}}],\"histogram2d\":[{\"type\":\"histogram2d\",\"colorbar\":{\"outlinewidth\":0,\"ticks\":\"\"},\"colorscale\":[[0.0,\"#0d0887\"],[0.1111111111111111,\"#46039f\"],[0.2222222222222222,\"#7201a8\"],[0.3333333333333333,\"#9c179e\"],[0.4444444444444444,\"#bd3786\"],[0.5555555555555556,\"#d8576b\"],[0.6666666666666666,\"#ed7953\"],[0.7777777777777778,\"#fb9f3a\"],[0.8888888888888888,\"#fdca26\"],[1.0,\"#f0f921\"]]}],\"heatmap\":[{\"type\":\"heatmap\",\"colorbar\":{\"outlinewidth\":0,\"ticks\":\"\"},\"colorscale\":[[0.0,\"#0d0887\"],[0.1111111111111111,\"#46039f\"],[0.2222222222222222,\"#7201a8\"],[0.3333333333333333,\"#9c179e\"],[0.4444444444444444,\"#bd3786\"],[0.5555555555555556,\"#d8576b\"],[0.6666666666666666,\"#ed7953\"],[0.7777777777777778,\"#fb9f3a\"],[0.8888888888888888,\"#fdca26\"],[1.0,\"#f0f921\"]]}],\"heatmapgl\":[{\"type\":\"heatmapgl\",\"colorbar\":{\"outlinewidth\":0,\"ticks\":\"\"},\"colorscale\":[[0.0,\"#0d0887\"],[0.1111111111111111,\"#46039f\"],[0.2222222222222222,\"#7201a8\"],[0.3333333333333333,\"#9c179e\"],[0.4444444444444444,\"#bd3786\"],[0.5555555555555556,\"#d8576b\"],[0.6666666666666666,\"#ed7953\"],[0.7777777777777778,\"#fb9f3a\"],[0.8888888888888888,\"#fdca26\"],[1.0,\"#f0f921\"]]}],\"contourcarpet\":[{\"type\":\"contourcarpet\",\"colorbar\":{\"outlinewidth\":0,\"ticks\":\"\"}}],\"contour\":[{\"type\":\"contour\",\"colorbar\":{\"outlinewidth\":0,\"ticks\":\"\"},\"colorscale\":[[0.0,\"#0d0887\"],[0.1111111111111111,\"#46039f\"],[0.2222222222222222,\"#7201a8\"],[0.3333333333333333,\"#9c179e\"],[0.4444444444444444,\"#bd3786\"],[0.5555555555555556,\"#d8576b\"],[0.6666666666666666,\"#ed7953\"],[0.7777777777777778,\"#fb9f3a\"],[0.8888888888888888,\"#fdca26\"],[1.0,\"#f0f921\"]]}],\"surface\":[{\"type\":\"surface\",\"colorbar\":{\"outlinewidth\":0,\"ticks\":\"\"},\"colorscale\":[[0.0,\"#0d0887\"],[0.1111111111111111,\"#46039f\"],[0.2222222222222222,\"#7201a8\"],[0.3333333333333333,\"#9c179e\"],[0.4444444444444444,\"#bd3786\"],[0.5555555555555556,\"#d8576b\"],[0.6666666666666666,\"#ed7953\"],[0.7777777777777778,\"#fb9f3a\"],[0.8888888888888888,\"#fdca26\"],[1.0,\"#f0f921\"]]}],\"mesh3d\":[{\"type\":\"mesh3d\",\"colorbar\":{\"outlinewidth\":0,\"ticks\":\"\"}}],\"scatter\":[{\"fillpattern\":{\"fillmode\":\"overlay\",\"size\":10,\"solidity\":0.2},\"type\":\"scatter\"}],\"parcoords\":[{\"type\":\"parcoords\",\"line\":{\"colorbar\":{\"outlinewidth\":0,\"ticks\":\"\"}}}],\"scatterpolargl\":[{\"type\":\"scatterpolargl\",\"marker\":{\"colorbar\":{\"outlinewidth\":0,\"ticks\":\"\"}}}],\"bar\":[{\"error_x\":{\"color\":\"#2a3f5f\"},\"error_y\":{\"color\":\"#2a3f5f\"},\"marker\":{\"line\":{\"color\":\"#E5ECF6\",\"width\":0.5},\"pattern\":{\"fillmode\":\"overlay\",\"size\":10,\"solidity\":0.2}},\"type\":\"bar\"}],\"scattergeo\":[{\"type\":\"scattergeo\",\"marker\":{\"colorbar\":{\"outlinewidth\":0,\"ticks\":\"\"}}}],\"scatterpolar\":[{\"type\":\"scatterpolar\",\"marker\":{\"colorbar\":{\"outlinewidth\":0,\"ticks\":\"\"}}}],\"histogram\":[{\"marker\":{\"pattern\":{\"fillmode\":\"overlay\",\"size\":10,\"solidity\":0.2}},\"type\":\"histogram\"}],\"scattergl\":[{\"type\":\"scattergl\",\"marker\":{\"colorbar\":{\"outlinewidth\":0,\"ticks\":\"\"}}}],\"scatter3d\":[{\"type\":\"scatter3d\",\"line\":{\"colorbar\":{\"outlinewidth\":0,\"ticks\":\"\"}},\"marker\":{\"colorbar\":{\"outlinewidth\":0,\"ticks\":\"\"}}}],\"scattermapbox\":[{\"type\":\"scattermapbox\",\"marker\":{\"colorbar\":{\"outlinewidth\":0,\"ticks\":\"\"}}}],\"scatterternary\":[{\"type\":\"scatterternary\",\"marker\":{\"colorbar\":{\"outlinewidth\":0,\"ticks\":\"\"}}}],\"scattercarpet\":[{\"type\":\"scattercarpet\",\"marker\":{\"colorbar\":{\"outlinewidth\":0,\"ticks\":\"\"}}}],\"carpet\":[{\"aaxis\":{\"endlinecolor\":\"#2a3f5f\",\"gridcolor\":\"white\",\"linecolor\":\"white\",\"minorgridcolor\":\"white\",\"startlinecolor\":\"#2a3f5f\"},\"baxis\":{\"endlinecolor\":\"#2a3f5f\",\"gridcolor\":\"white\",\"linecolor\":\"white\",\"minorgridcolor\":\"white\",\"startlinecolor\":\"#2a3f5f\"},\"type\":\"carpet\"}],\"table\":[{\"cells\":{\"fill\":{\"color\":\"#EBF0F8\"},\"line\":{\"color\":\"white\"}},\"header\":{\"fill\":{\"color\":\"#C8D4E3\"},\"line\":{\"color\":\"white\"}},\"type\":\"table\"}],\"barpolar\":[{\"marker\":{\"line\":{\"color\":\"#E5ECF6\",\"width\":0.5},\"pattern\":{\"fillmode\":\"overlay\",\"size\":10,\"solidity\":0.2}},\"type\":\"barpolar\"}],\"pie\":[{\"automargin\":true,\"type\":\"pie\"}]},\"layout\":{\"autotypenumbers\":\"strict\",\"colorway\":[\"#636efa\",\"#EF553B\",\"#00cc96\",\"#ab63fa\",\"#FFA15A\",\"#19d3f3\",\"#FF6692\",\"#B6E880\",\"#FF97FF\",\"#FECB52\"],\"font\":{\"color\":\"#2a3f5f\"},\"hovermode\":\"closest\",\"hoverlabel\":{\"align\":\"left\"},\"paper_bgcolor\":\"white\",\"plot_bgcolor\":\"#E5ECF6\",\"polar\":{\"bgcolor\":\"#E5ECF6\",\"angularaxis\":{\"gridcolor\":\"white\",\"linecolor\":\"white\",\"ticks\":\"\"},\"radialaxis\":{\"gridcolor\":\"white\",\"linecolor\":\"white\",\"ticks\":\"\"}},\"ternary\":{\"bgcolor\":\"#E5ECF6\",\"aaxis\":{\"gridcolor\":\"white\",\"linecolor\":\"white\",\"ticks\":\"\"},\"baxis\":{\"gridcolor\":\"white\",\"linecolor\":\"white\",\"ticks\":\"\"},\"caxis\":{\"gridcolor\":\"white\",\"linecolor\":\"white\",\"ticks\":\"\"}},\"coloraxis\":{\"colorbar\":{\"outlinewidth\":0,\"ticks\":\"\"}},\"colorscale\":{\"sequential\":[[0.0,\"#0d0887\"],[0.1111111111111111,\"#46039f\"],[0.2222222222222222,\"#7201a8\"],[0.3333333333333333,\"#9c179e\"],[0.4444444444444444,\"#bd3786\"],[0.5555555555555556,\"#d8576b\"],[0.6666666666666666,\"#ed7953\"],[0.7777777777777778,\"#fb9f3a\"],[0.8888888888888888,\"#fdca26\"],[1.0,\"#f0f921\"]],\"sequentialminus\":[[0.0,\"#0d0887\"],[0.1111111111111111,\"#46039f\"],[0.2222222222222222,\"#7201a8\"],[0.3333333333333333,\"#9c179e\"],[0.4444444444444444,\"#bd3786\"],[0.5555555555555556,\"#d8576b\"],[0.6666666666666666,\"#ed7953\"],[0.7777777777777778,\"#fb9f3a\"],[0.8888888888888888,\"#fdca26\"],[1.0,\"#f0f921\"]],\"diverging\":[[0,\"#8e0152\"],[0.1,\"#c51b7d\"],[0.2,\"#de77ae\"],[0.3,\"#f1b6da\"],[0.4,\"#fde0ef\"],[0.5,\"#f7f7f7\"],[0.6,\"#e6f5d0\"],[0.7,\"#b8e186\"],[0.8,\"#7fbc41\"],[0.9,\"#4d9221\"],[1,\"#276419\"]]},\"xaxis\":{\"gridcolor\":\"white\",\"linecolor\":\"white\",\"ticks\":\"\",\"title\":{\"standoff\":15},\"zerolinecolor\":\"white\",\"automargin\":true,\"zerolinewidth\":2},\"yaxis\":{\"gridcolor\":\"white\",\"linecolor\":\"white\",\"ticks\":\"\",\"title\":{\"standoff\":15},\"zerolinecolor\":\"white\",\"automargin\":true,\"zerolinewidth\":2},\"scene\":{\"xaxis\":{\"backgroundcolor\":\"#E5ECF6\",\"gridcolor\":\"white\",\"linecolor\":\"white\",\"showbackground\":true,\"ticks\":\"\",\"zerolinecolor\":\"white\",\"gridwidth\":2},\"yaxis\":{\"backgroundcolor\":\"#E5ECF6\",\"gridcolor\":\"white\",\"linecolor\":\"white\",\"showbackground\":true,\"ticks\":\"\",\"zerolinecolor\":\"white\",\"gridwidth\":2},\"zaxis\":{\"backgroundcolor\":\"#E5ECF6\",\"gridcolor\":\"white\",\"linecolor\":\"white\",\"showbackground\":true,\"ticks\":\"\",\"zerolinecolor\":\"white\",\"gridwidth\":2}},\"shapedefaults\":{\"line\":{\"color\":\"#2a3f5f\"}},\"annotationdefaults\":{\"arrowcolor\":\"#2a3f5f\",\"arrowhead\":0,\"arrowwidth\":1},\"geo\":{\"bgcolor\":\"white\",\"landcolor\":\"#E5ECF6\",\"subunitcolor\":\"white\",\"showland\":true,\"showlakes\":true,\"lakecolor\":\"white\"},\"title\":{\"x\":0.05},\"mapbox\":{\"style\":\"light\"}}},\"title\":{\"text\":\"Price Slippage GRAIL-USDT on Gate.io\"},\"xaxis\":{\"title\":{\"text\":\"Datetime_HKT\"},\"dtick\":60000,\"ticklabelmode\":\"period\"},\"yaxis\":{\"title\":{\"text\":\"Slippage(%)\"}}},                        {\"responsive\": true}                    ).then(function(){\n",
       "                            \n",
       "var gd = document.getElementById('e7bbbb5c-d3a8-4617-832c-b5dfe8cc3487');\n",
       "var x = new MutationObserver(function (mutations, observer) {{\n",
       "        var display = window.getComputedStyle(gd).display;\n",
       "        if (!display || display === 'none') {{\n",
       "            console.log([gd, 'removed!']);\n",
       "            Plotly.purge(gd);\n",
       "            observer.disconnect();\n",
       "        }}\n",
       "}});\n",
       "\n",
       "// Listen for the removal of the full notebook cells\n",
       "var notebookContainer = gd.closest('#notebook-container');\n",
       "if (notebookContainer) {{\n",
       "    x.observe(notebookContainer, {childList: true});\n",
       "}}\n",
       "\n",
       "// Listen for the clearing of the current output cell\n",
       "var outputEl = gd.closest('.output');\n",
       "if (outputEl) {{\n",
       "    x.observe(outputEl, {childList: true});\n",
       "}}\n",
       "\n",
       "                        })                };                });            </script>        </div>"
      ]
     },
     "metadata": {},
     "output_type": "display_data"
    },
    {
     "data": {
      "application/vnd.plotly.v1+json": {
       "config": {
        "plotlyServerURL": "https://plot.ly"
       },
       "data": [
        {
         "hovertemplate": "variable=spread<br>Time=%{x}<br>bid-ask spread(%)=%{y}<extra></extra>",
         "legendgroup": "spread",
         "line": {
          "color": "#636efa",
          "dash": "solid"
         },
         "marker": {
          "symbol": "circle"
         },
         "mode": "lines",
         "name": "spread",
         "orientation": "v",
         "showlegend": true,
         "type": "scatter",
         "x": [
          "2023-04-18T08:00:20.700000",
          "2023-04-18T08:00:40.700000",
          "2023-04-18T08:01:00.700000",
          "2023-04-18T08:01:20.700000",
          "2023-04-18T08:01:40.700000",
          "2023-04-18T08:02:00.700000",
          "2023-04-18T08:02:20.700000",
          "2023-04-18T08:02:40.700000",
          "2023-04-18T08:03:00.700000",
          "2023-04-18T08:03:20.700000",
          "2023-04-18T08:03:40.700000",
          "2023-04-18T08:04:00.700000",
          "2023-04-18T08:04:20.700000",
          "2023-04-18T08:04:40.700000",
          "2023-04-18T08:05:00.700000",
          "2023-04-18T08:05:20.700000",
          "2023-04-18T08:05:40.700000",
          "2023-04-18T08:06:00.700000",
          "2023-04-18T08:06:20.700000",
          "2023-04-18T08:06:40.700000",
          "2023-04-18T08:07:00.700000",
          "2023-04-18T08:07:20.700000",
          "2023-04-18T08:07:40.700000",
          "2023-04-18T08:08:00.700000",
          "2023-04-18T08:08:20.700000",
          "2023-04-18T08:08:40.700000",
          "2023-04-18T08:09:00.700000",
          "2023-04-18T08:09:20.700000",
          "2023-04-18T08:09:40.700000",
          "2023-04-18T08:10:00.700000",
          "2023-04-18T08:10:20.700000",
          "2023-04-18T08:10:40.700000",
          "2023-04-18T08:11:00.700000",
          "2023-04-18T08:11:20.700000",
          "2023-04-18T08:11:40.700000",
          "2023-04-18T08:12:00.700000",
          "2023-04-18T08:12:20.700000",
          "2023-04-18T08:12:40.700000",
          "2023-04-18T08:13:00.700000",
          "2023-04-18T08:13:20.700000",
          "2023-04-18T08:13:40.700000",
          "2023-04-18T08:14:00.700000",
          "2023-04-18T08:14:20.700000",
          "2023-04-18T08:14:40.700000",
          "2023-04-18T08:15:00.700000",
          "2023-04-18T08:15:20.700000",
          "2023-04-18T08:15:40.700000",
          "2023-04-18T08:16:00.700000",
          "2023-04-18T08:16:20.700000",
          "2023-04-18T08:16:40.700000",
          "2023-04-18T08:17:00.700000",
          "2023-04-18T08:17:20.700000",
          "2023-04-18T08:17:40.700000",
          "2023-04-18T08:18:00.700000",
          "2023-04-18T08:18:20.700000",
          "2023-04-18T08:18:40.700000",
          "2023-04-18T08:19:00.700000",
          "2023-04-18T08:19:20.700000",
          "2023-04-18T08:19:40.700000",
          "2023-04-18T08:20:00.700000",
          "2023-04-18T08:20:20.700000",
          "2023-04-18T08:20:40.700000",
          "2023-04-18T08:21:00.700000",
          "2023-04-18T08:21:20.700000",
          "2023-04-18T08:21:40.700000",
          "2023-04-18T08:22:00.700000",
          "2023-04-18T08:22:20.700000",
          "2023-04-18T08:22:40.700000",
          "2023-04-18T08:23:00.700000",
          "2023-04-18T08:23:20.700000",
          "2023-04-18T08:23:40.700000",
          "2023-04-18T08:24:00.700000",
          "2023-04-18T08:24:20.700000",
          "2023-04-18T08:24:40.700000",
          "2023-04-18T08:25:00.700000",
          "2023-04-18T08:25:20.700000",
          "2023-04-18T08:25:40.700000",
          "2023-04-18T08:26:00.700000",
          "2023-04-18T08:26:20.700000",
          "2023-04-18T08:26:40.700000",
          "2023-04-18T08:27:00.700000",
          "2023-04-18T08:27:20.700000",
          "2023-04-18T08:27:40.700000",
          "2023-04-18T08:28:00.700000",
          "2023-04-18T08:28:20.700000",
          "2023-04-18T08:28:40.700000",
          "2023-04-18T08:29:00.700000",
          "2023-04-18T08:29:20.700000",
          "2023-04-18T08:29:40.700000",
          "2023-04-18T08:30:00.700000",
          "2023-04-18T08:30:20.700000",
          "2023-04-18T08:30:40.700000",
          "2023-04-18T08:31:00.700000",
          "2023-04-18T08:31:20.700000",
          "2023-04-18T08:31:40.700000",
          "2023-04-18T08:32:00.700000",
          "2023-04-18T08:32:20.700000",
          "2023-04-18T08:32:40.700000",
          "2023-04-18T08:33:00.700000",
          "2023-04-18T08:33:20.700000",
          "2023-04-18T08:33:40.700000",
          "2023-04-18T08:34:00.700000",
          "2023-04-18T08:34:20.700000",
          "2023-04-18T08:34:40.700000",
          "2023-04-18T08:35:00.700000",
          "2023-04-18T08:35:20.700000",
          "2023-04-18T08:35:40.700000",
          "2023-04-18T08:36:00.700000",
          "2023-04-18T08:36:20.700000",
          "2023-04-18T08:36:40.700000",
          "2023-04-18T08:37:00.700000",
          "2023-04-18T08:37:20.700000",
          "2023-04-18T08:37:40.700000",
          "2023-04-18T08:38:00.700000",
          "2023-04-18T08:38:20.700000",
          "2023-04-18T08:38:40.700000",
          "2023-04-18T08:39:00.700000",
          "2023-04-18T08:39:20.700000",
          "2023-04-18T08:39:40.700000",
          "2023-04-18T08:40:00.700000",
          "2023-04-18T08:40:20.700000",
          "2023-04-18T08:40:40.700000",
          "2023-04-18T08:41:00.700000",
          "2023-04-18T08:41:20.700000",
          "2023-04-18T08:41:40.700000",
          "2023-04-18T08:42:00.700000",
          "2023-04-18T08:42:20.700000",
          "2023-04-18T08:42:40.700000",
          "2023-04-18T08:43:00.700000",
          "2023-04-18T08:43:20.700000",
          "2023-04-18T08:43:40.700000",
          "2023-04-18T08:44:00.700000",
          "2023-04-18T08:44:20.700000",
          "2023-04-18T08:44:40.700000",
          "2023-04-18T08:45:00.700000",
          "2023-04-18T08:45:20.700000",
          "2023-04-18T08:45:40.700000",
          "2023-04-18T08:46:00.700000",
          "2023-04-18T08:46:20.700000",
          "2023-04-18T08:46:40.700000",
          "2023-04-18T08:47:00.700000",
          "2023-04-18T08:47:20.700000",
          "2023-04-18T08:47:40.700000",
          "2023-04-18T08:48:00.700000",
          "2023-04-18T08:48:20.700000",
          "2023-04-18T08:48:40.700000",
          "2023-04-18T08:49:00.700000",
          "2023-04-18T08:49:20.700000",
          "2023-04-18T08:49:40.700000",
          "2023-04-18T08:50:00.700000",
          "2023-04-18T08:50:20.700000",
          "2023-04-18T08:50:40.700000",
          "2023-04-18T08:51:00.700000",
          "2023-04-18T08:51:20.700000",
          "2023-04-18T08:51:40.700000",
          "2023-04-18T08:52:00.700000",
          "2023-04-18T08:52:20.700000",
          "2023-04-18T08:52:40.700000",
          "2023-04-18T08:53:00.700000",
          "2023-04-18T08:53:20.700000",
          "2023-04-18T08:53:40.700000",
          "2023-04-18T08:54:00.700000",
          "2023-04-18T08:54:20.700000",
          "2023-04-18T08:54:40.700000",
          "2023-04-18T08:55:00.700000",
          "2023-04-18T08:55:20.700000",
          "2023-04-18T08:55:40.700000",
          "2023-04-18T08:56:00.700000",
          "2023-04-18T08:56:20.700000",
          "2023-04-18T08:56:40.700000",
          "2023-04-18T08:57:00.700000",
          "2023-04-18T08:57:20.700000",
          "2023-04-18T08:57:40.700000",
          "2023-04-18T08:58:00.700000",
          "2023-04-18T08:58:20.700000",
          "2023-04-18T08:58:40.700000",
          "2023-04-18T08:59:00.700000",
          "2023-04-18T08:59:20.700000",
          "2023-04-18T08:59:40.700000",
          "2023-04-18T09:00:00.700000"
         ],
         "xaxis": "x",
         "y": [
          1.218973422781911,
          1.2150356966517448,
          1.2069244396018026,
          1.202014371945007,
          1.196393864713515,
          1.188990945774287,
          1.1807480702271511,
          1.1725548680810804,
          1.165215539683837,
          1.1584156099624174,
          1.1528332189413635,
          1.1446844101685913,
          1.1367704538202363,
          1.1285573849119996,
          1.1202705306109466,
          1.1118712915504578,
          1.1036378879623487,
          1.098183750332722,
          1.0904820600197935,
          1.0828733268833861,
          1.0749375007132997,
          1.0670264425674632,
          1.0638748062543997,
          1.0561677667280496,
          1.050766613997959,
          1.044377487214594,
          1.0381396088289339,
          1.0303642800671062,
          1.0224757752370213,
          1.0156864201289617,
          1.0096203174849607,
          1.0033078298835998,
          0.9953704184991471,
          0.9899130950839132,
          0.9854416802278284,
          0.980736204355768,
          0.9755607236569626,
          null,
          null,
          0.9736821823520169,
          0.9703809322746659,
          0.9647412110041068,
          0.6876693587781476,
          0.36279403109695696,
          0.3812771216113157,
          0.36653447698238173,
          0.9094271467827049,
          1.5351093614323519,
          1.5269892246803514,
          1.5194970134271206,
          1.511430342267977,
          1.5032587120143508,
          1.4963523945801531,
          1.488478679769527,
          1.4809176108528828,
          0.9012236760342481,
          0.8844046052779777,
          0.8887627162922309,
          0.9189505771191169,
          0.7683842088286299,
          1.2368287362362245,
          1.425043866390224,
          0.9987186702518143,
          0.8987300000759922,
          0.8935200449115394,
          0.7260598792291088,
          0.8506436702368049,
          0.8259159843053892,
          0.8414373231410941,
          1.4136101406807027,
          1.8915378652941264,
          1.8839491968367998,
          1.8758391092908013,
          1.8673184741728783,
          1.8592880924706605,
          1.8515813734191797,
          1.843818071515124,
          1.7827906052826514,
          1.776724919637632,
          1.768437201598232,
          1.7603499208837574,
          1.7519541126849012,
          1.7438914855644676,
          1.7366500184752889,
          1.7289566865857333,
          1.7209695452251368,
          1.7144623955134026,
          1.7067383244472587,
          1.698573868877081,
          1.6904410243733012,
          1.6819560145387413,
          1.6732450394747198,
          1.6697195086977592,
          1.6626580197501517,
          1.654431226344839,
          1.6461684570899318,
          1.6379357385339324,
          1.6298302236453261,
          1.6230968385864237,
          1.6162724408537064,
          1.6085851787939662,
          1.600838742434583,
          1.592863493317295,
          1.5847987264567185,
          1.5769837832373257,
          1.5688773398085971,
          1.560566148591077,
          1.552448243935671,
          1.544242792316565,
          1.537235000590408,
          0.2453079910375485,
          0.19463208875116533,
          2.1517865878870834,
          2.7826665715075096,
          2.774079660727995,
          2.7659548910559066,
          2.316472230890782,
          2.6162649154666964,
          2.607551734516946,
          2.598981534672619,
          2.591070695384541,
          2.573149617939744,
          2.4477356831477874,
          2.439146489819009,
          2.431761344654327,
          2.423532189415529,
          2.414466027306286,
          2.3961754278017966,
          2.282297983148173,
          2.274459182798907,
          2.26579578521155,
          2.2607091122627994,
          2.239577813411106,
          2.135601449513992,
          2.1277145405301265,
          2.119733474700684,
          2.1116375356336987,
          2.103738456200825,
          2.0185657395895173,
          1.985184741940257,
          1.9772917439363682,
          1.9696707510270026,
          1.9645282728139342,
          1.9577892449632492,
          1.951292269255131,
          1.9444891409200185,
          1.9370964833334934,
          1.9291073596509505,
          1.92253264456523,
          1.9165617758601752,
          1.9118284739588927,
          1.9049474159315642,
          1.8991747234004301,
          2.0145531182177665,
          2.207263146582523,
          2.1992013285572334,
          2.190845128108615,
          2.183987519341011,
          2.1764870887401813,
          2.16863000288009,
          2.1624393206047956,
          2.1549182513392946,
          2.1464198507438055,
          2.1379720377779736,
          2.1303518310427685,
          2.12187364155848,
          2.115776097913987,
          2.1086549516242656,
          1.8383810997753351,
          1.1981609473617554,
          1.2182922243439924,
          1.2859532986320128,
          1.317615401294423,
          0.9905569196978304,
          1.2434882514681804,
          1.3058872256937242,
          1.0818174414783261,
          1.1891167268811524,
          1.274465954476157,
          1.229150238972991
         ],
         "yaxis": "y"
        },
        {
         "hovertemplate": "variable=mean_spread<br>Time=%{x}<br>bid-ask spread(%)=%{y}<extra></extra>",
         "legendgroup": "mean_spread",
         "line": {
          "color": "#EF553B",
          "dash": "solid"
         },
         "marker": {
          "symbol": "circle"
         },
         "mode": "lines",
         "name": "mean_spread",
         "orientation": "v",
         "showlegend": true,
         "type": "scatter",
         "x": [
          "2023-04-18T08:00:20.700000",
          "2023-04-18T08:00:40.700000",
          "2023-04-18T08:01:00.700000",
          "2023-04-18T08:01:20.700000",
          "2023-04-18T08:01:40.700000",
          "2023-04-18T08:02:00.700000",
          "2023-04-18T08:02:20.700000",
          "2023-04-18T08:02:40.700000",
          "2023-04-18T08:03:00.700000",
          "2023-04-18T08:03:20.700000",
          "2023-04-18T08:03:40.700000",
          "2023-04-18T08:04:00.700000",
          "2023-04-18T08:04:20.700000",
          "2023-04-18T08:04:40.700000",
          "2023-04-18T08:05:00.700000",
          "2023-04-18T08:05:20.700000",
          "2023-04-18T08:05:40.700000",
          "2023-04-18T08:06:00.700000",
          "2023-04-18T08:06:20.700000",
          "2023-04-18T08:06:40.700000",
          "2023-04-18T08:07:00.700000",
          "2023-04-18T08:07:20.700000",
          "2023-04-18T08:07:40.700000",
          "2023-04-18T08:08:00.700000",
          "2023-04-18T08:08:20.700000",
          "2023-04-18T08:08:40.700000",
          "2023-04-18T08:09:00.700000",
          "2023-04-18T08:09:20.700000",
          "2023-04-18T08:09:40.700000",
          "2023-04-18T08:10:00.700000",
          "2023-04-18T08:10:20.700000",
          "2023-04-18T08:10:40.700000",
          "2023-04-18T08:11:00.700000",
          "2023-04-18T08:11:20.700000",
          "2023-04-18T08:11:40.700000",
          "2023-04-18T08:12:00.700000",
          "2023-04-18T08:12:20.700000",
          "2023-04-18T08:12:40.700000",
          "2023-04-18T08:13:00.700000",
          "2023-04-18T08:13:20.700000",
          "2023-04-18T08:13:40.700000",
          "2023-04-18T08:14:00.700000",
          "2023-04-18T08:14:20.700000",
          "2023-04-18T08:14:40.700000",
          "2023-04-18T08:15:00.700000",
          "2023-04-18T08:15:20.700000",
          "2023-04-18T08:15:40.700000",
          "2023-04-18T08:16:00.700000",
          "2023-04-18T08:16:20.700000",
          "2023-04-18T08:16:40.700000",
          "2023-04-18T08:17:00.700000",
          "2023-04-18T08:17:20.700000",
          "2023-04-18T08:17:40.700000",
          "2023-04-18T08:18:00.700000",
          "2023-04-18T08:18:20.700000",
          "2023-04-18T08:18:40.700000",
          "2023-04-18T08:19:00.700000",
          "2023-04-18T08:19:20.700000",
          "2023-04-18T08:19:40.700000",
          "2023-04-18T08:20:00.700000",
          "2023-04-18T08:20:20.700000",
          "2023-04-18T08:20:40.700000",
          "2023-04-18T08:21:00.700000",
          "2023-04-18T08:21:20.700000",
          "2023-04-18T08:21:40.700000",
          "2023-04-18T08:22:00.700000",
          "2023-04-18T08:22:20.700000",
          "2023-04-18T08:22:40.700000",
          "2023-04-18T08:23:00.700000",
          "2023-04-18T08:23:20.700000",
          "2023-04-18T08:23:40.700000",
          "2023-04-18T08:24:00.700000",
          "2023-04-18T08:24:20.700000",
          "2023-04-18T08:24:40.700000",
          "2023-04-18T08:25:00.700000",
          "2023-04-18T08:25:20.700000",
          "2023-04-18T08:25:40.700000",
          "2023-04-18T08:26:00.700000",
          "2023-04-18T08:26:20.700000",
          "2023-04-18T08:26:40.700000",
          "2023-04-18T08:27:00.700000",
          "2023-04-18T08:27:20.700000",
          "2023-04-18T08:27:40.700000",
          "2023-04-18T08:28:00.700000",
          "2023-04-18T08:28:20.700000",
          "2023-04-18T08:28:40.700000",
          "2023-04-18T08:29:00.700000",
          "2023-04-18T08:29:20.700000",
          "2023-04-18T08:29:40.700000",
          "2023-04-18T08:30:00.700000",
          "2023-04-18T08:30:20.700000",
          "2023-04-18T08:30:40.700000",
          "2023-04-18T08:31:00.700000",
          "2023-04-18T08:31:20.700000",
          "2023-04-18T08:31:40.700000",
          "2023-04-18T08:32:00.700000",
          "2023-04-18T08:32:20.700000",
          "2023-04-18T08:32:40.700000",
          "2023-04-18T08:33:00.700000",
          "2023-04-18T08:33:20.700000",
          "2023-04-18T08:33:40.700000",
          "2023-04-18T08:34:00.700000",
          "2023-04-18T08:34:20.700000",
          "2023-04-18T08:34:40.700000",
          "2023-04-18T08:35:00.700000",
          "2023-04-18T08:35:20.700000",
          "2023-04-18T08:35:40.700000",
          "2023-04-18T08:36:00.700000",
          "2023-04-18T08:36:20.700000",
          "2023-04-18T08:36:40.700000",
          "2023-04-18T08:37:00.700000",
          "2023-04-18T08:37:20.700000",
          "2023-04-18T08:37:40.700000",
          "2023-04-18T08:38:00.700000",
          "2023-04-18T08:38:20.700000",
          "2023-04-18T08:38:40.700000",
          "2023-04-18T08:39:00.700000",
          "2023-04-18T08:39:20.700000",
          "2023-04-18T08:39:40.700000",
          "2023-04-18T08:40:00.700000",
          "2023-04-18T08:40:20.700000",
          "2023-04-18T08:40:40.700000",
          "2023-04-18T08:41:00.700000",
          "2023-04-18T08:41:20.700000",
          "2023-04-18T08:41:40.700000",
          "2023-04-18T08:42:00.700000",
          "2023-04-18T08:42:20.700000",
          "2023-04-18T08:42:40.700000",
          "2023-04-18T08:43:00.700000",
          "2023-04-18T08:43:20.700000",
          "2023-04-18T08:43:40.700000",
          "2023-04-18T08:44:00.700000",
          "2023-04-18T08:44:20.700000",
          "2023-04-18T08:44:40.700000",
          "2023-04-18T08:45:00.700000",
          "2023-04-18T08:45:20.700000",
          "2023-04-18T08:45:40.700000",
          "2023-04-18T08:46:00.700000",
          "2023-04-18T08:46:20.700000",
          "2023-04-18T08:46:40.700000",
          "2023-04-18T08:47:00.700000",
          "2023-04-18T08:47:20.700000",
          "2023-04-18T08:47:40.700000",
          "2023-04-18T08:48:00.700000",
          "2023-04-18T08:48:20.700000",
          "2023-04-18T08:48:40.700000",
          "2023-04-18T08:49:00.700000",
          "2023-04-18T08:49:20.700000",
          "2023-04-18T08:49:40.700000",
          "2023-04-18T08:50:00.700000",
          "2023-04-18T08:50:20.700000",
          "2023-04-18T08:50:40.700000",
          "2023-04-18T08:51:00.700000",
          "2023-04-18T08:51:20.700000",
          "2023-04-18T08:51:40.700000",
          "2023-04-18T08:52:00.700000",
          "2023-04-18T08:52:20.700000",
          "2023-04-18T08:52:40.700000",
          "2023-04-18T08:53:00.700000",
          "2023-04-18T08:53:20.700000",
          "2023-04-18T08:53:40.700000",
          "2023-04-18T08:54:00.700000",
          "2023-04-18T08:54:20.700000",
          "2023-04-18T08:54:40.700000",
          "2023-04-18T08:55:00.700000",
          "2023-04-18T08:55:20.700000",
          "2023-04-18T08:55:40.700000",
          "2023-04-18T08:56:00.700000",
          "2023-04-18T08:56:20.700000",
          "2023-04-18T08:56:40.700000",
          "2023-04-18T08:57:00.700000",
          "2023-04-18T08:57:20.700000",
          "2023-04-18T08:57:40.700000",
          "2023-04-18T08:58:00.700000",
          "2023-04-18T08:58:20.700000",
          "2023-04-18T08:58:40.700000",
          "2023-04-18T08:59:00.700000",
          "2023-04-18T08:59:20.700000",
          "2023-04-18T08:59:40.700000",
          "2023-04-18T09:00:00.700000"
         ],
         "xaxis": "x",
         "y": [
          1.218973422781911,
          1.2170045597168277,
          1.2136445196784862,
          1.2107369827451162,
          1.207868359138796,
          1.2047221235780445,
          1.201297258813631,
          1.1977044599720623,
          1.1940945799400373,
          1.1905266829422754,
          1.187100004396738,
          1.1835653715443923,
          1.1799657624886881,
          1.1762937355189247,
          1.172558855191726,
          1.1687658824641467,
          1.164934823964041,
          1.1612264309845233,
          1.1575030430390114,
          1.1537715572312301,
          1.1500175545399,
          1.1462452312684257,
          1.142663908441729,
          1.1390599025369923,
          1.135528170995431,
          1.1320223754653986,
          1.1285452359603445,
          1.1250387732498717,
          1.1215021181459803,
          1.1179749282120797,
          1.1144796181886243,
          1.1110054998040924,
          1.1075014064312152,
          1.1040429266857064,
          1.1006543196440528,
          1.0973232608860448,
          1.094032381501475,
          null,
          null,
          null,
          null,
          null,
          null,
          null,
          null,
          null,
          null,
          null,
          null,
          null,
          null,
          null,
          null,
          null,
          null,
          null,
          null,
          null,
          null,
          null,
          null,
          null,
          null,
          null,
          null,
          null,
          null,
          null,
          null,
          null,
          null,
          null,
          null,
          null,
          null,
          null,
          null,
          null,
          null,
          null,
          null,
          null,
          null,
          null,
          null,
          null,
          null,
          null,
          null,
          null,
          null,
          null,
          null,
          null,
          null,
          null,
          null,
          null,
          null,
          null,
          null,
          null,
          null,
          null,
          null,
          null,
          null,
          null,
          null,
          null,
          null,
          null,
          null,
          null,
          null,
          null,
          null,
          null,
          null,
          null,
          null,
          null,
          null,
          null,
          null,
          null,
          null,
          null,
          null,
          null,
          null,
          null,
          null,
          null,
          null,
          null,
          null,
          null,
          null,
          null,
          null,
          null,
          null,
          null,
          null,
          null,
          null,
          null,
          null,
          null,
          null,
          null,
          null,
          null,
          null,
          null,
          null,
          null,
          null,
          null,
          null,
          null,
          null,
          null,
          null,
          null,
          null,
          null,
          null,
          null,
          null,
          null,
          null,
          null,
          null,
          null,
          null,
          null,
          null,
          null
         ],
         "yaxis": "y"
        }
       ],
       "layout": {
        "legend": {
         "title": {
          "text": "variable"
         },
         "tracegroupgap": 0
        },
        "template": {
         "data": {
          "bar": [
           {
            "error_x": {
             "color": "#2a3f5f"
            },
            "error_y": {
             "color": "#2a3f5f"
            },
            "marker": {
             "line": {
              "color": "#E5ECF6",
              "width": 0.5
             },
             "pattern": {
              "fillmode": "overlay",
              "size": 10,
              "solidity": 0.2
             }
            },
            "type": "bar"
           }
          ],
          "barpolar": [
           {
            "marker": {
             "line": {
              "color": "#E5ECF6",
              "width": 0.5
             },
             "pattern": {
              "fillmode": "overlay",
              "size": 10,
              "solidity": 0.2
             }
            },
            "type": "barpolar"
           }
          ],
          "carpet": [
           {
            "aaxis": {
             "endlinecolor": "#2a3f5f",
             "gridcolor": "white",
             "linecolor": "white",
             "minorgridcolor": "white",
             "startlinecolor": "#2a3f5f"
            },
            "baxis": {
             "endlinecolor": "#2a3f5f",
             "gridcolor": "white",
             "linecolor": "white",
             "minorgridcolor": "white",
             "startlinecolor": "#2a3f5f"
            },
            "type": "carpet"
           }
          ],
          "choropleth": [
           {
            "colorbar": {
             "outlinewidth": 0,
             "ticks": ""
            },
            "type": "choropleth"
           }
          ],
          "contour": [
           {
            "colorbar": {
             "outlinewidth": 0,
             "ticks": ""
            },
            "colorscale": [
             [
              0,
              "#0d0887"
             ],
             [
              0.1111111111111111,
              "#46039f"
             ],
             [
              0.2222222222222222,
              "#7201a8"
             ],
             [
              0.3333333333333333,
              "#9c179e"
             ],
             [
              0.4444444444444444,
              "#bd3786"
             ],
             [
              0.5555555555555556,
              "#d8576b"
             ],
             [
              0.6666666666666666,
              "#ed7953"
             ],
             [
              0.7777777777777778,
              "#fb9f3a"
             ],
             [
              0.8888888888888888,
              "#fdca26"
             ],
             [
              1,
              "#f0f921"
             ]
            ],
            "type": "contour"
           }
          ],
          "contourcarpet": [
           {
            "colorbar": {
             "outlinewidth": 0,
             "ticks": ""
            },
            "type": "contourcarpet"
           }
          ],
          "heatmap": [
           {
            "colorbar": {
             "outlinewidth": 0,
             "ticks": ""
            },
            "colorscale": [
             [
              0,
              "#0d0887"
             ],
             [
              0.1111111111111111,
              "#46039f"
             ],
             [
              0.2222222222222222,
              "#7201a8"
             ],
             [
              0.3333333333333333,
              "#9c179e"
             ],
             [
              0.4444444444444444,
              "#bd3786"
             ],
             [
              0.5555555555555556,
              "#d8576b"
             ],
             [
              0.6666666666666666,
              "#ed7953"
             ],
             [
              0.7777777777777778,
              "#fb9f3a"
             ],
             [
              0.8888888888888888,
              "#fdca26"
             ],
             [
              1,
              "#f0f921"
             ]
            ],
            "type": "heatmap"
           }
          ],
          "heatmapgl": [
           {
            "colorbar": {
             "outlinewidth": 0,
             "ticks": ""
            },
            "colorscale": [
             [
              0,
              "#0d0887"
             ],
             [
              0.1111111111111111,
              "#46039f"
             ],
             [
              0.2222222222222222,
              "#7201a8"
             ],
             [
              0.3333333333333333,
              "#9c179e"
             ],
             [
              0.4444444444444444,
              "#bd3786"
             ],
             [
              0.5555555555555556,
              "#d8576b"
             ],
             [
              0.6666666666666666,
              "#ed7953"
             ],
             [
              0.7777777777777778,
              "#fb9f3a"
             ],
             [
              0.8888888888888888,
              "#fdca26"
             ],
             [
              1,
              "#f0f921"
             ]
            ],
            "type": "heatmapgl"
           }
          ],
          "histogram": [
           {
            "marker": {
             "pattern": {
              "fillmode": "overlay",
              "size": 10,
              "solidity": 0.2
             }
            },
            "type": "histogram"
           }
          ],
          "histogram2d": [
           {
            "colorbar": {
             "outlinewidth": 0,
             "ticks": ""
            },
            "colorscale": [
             [
              0,
              "#0d0887"
             ],
             [
              0.1111111111111111,
              "#46039f"
             ],
             [
              0.2222222222222222,
              "#7201a8"
             ],
             [
              0.3333333333333333,
              "#9c179e"
             ],
             [
              0.4444444444444444,
              "#bd3786"
             ],
             [
              0.5555555555555556,
              "#d8576b"
             ],
             [
              0.6666666666666666,
              "#ed7953"
             ],
             [
              0.7777777777777778,
              "#fb9f3a"
             ],
             [
              0.8888888888888888,
              "#fdca26"
             ],
             [
              1,
              "#f0f921"
             ]
            ],
            "type": "histogram2d"
           }
          ],
          "histogram2dcontour": [
           {
            "colorbar": {
             "outlinewidth": 0,
             "ticks": ""
            },
            "colorscale": [
             [
              0,
              "#0d0887"
             ],
             [
              0.1111111111111111,
              "#46039f"
             ],
             [
              0.2222222222222222,
              "#7201a8"
             ],
             [
              0.3333333333333333,
              "#9c179e"
             ],
             [
              0.4444444444444444,
              "#bd3786"
             ],
             [
              0.5555555555555556,
              "#d8576b"
             ],
             [
              0.6666666666666666,
              "#ed7953"
             ],
             [
              0.7777777777777778,
              "#fb9f3a"
             ],
             [
              0.8888888888888888,
              "#fdca26"
             ],
             [
              1,
              "#f0f921"
             ]
            ],
            "type": "histogram2dcontour"
           }
          ],
          "mesh3d": [
           {
            "colorbar": {
             "outlinewidth": 0,
             "ticks": ""
            },
            "type": "mesh3d"
           }
          ],
          "parcoords": [
           {
            "line": {
             "colorbar": {
              "outlinewidth": 0,
              "ticks": ""
             }
            },
            "type": "parcoords"
           }
          ],
          "pie": [
           {
            "automargin": true,
            "type": "pie"
           }
          ],
          "scatter": [
           {
            "fillpattern": {
             "fillmode": "overlay",
             "size": 10,
             "solidity": 0.2
            },
            "type": "scatter"
           }
          ],
          "scatter3d": [
           {
            "line": {
             "colorbar": {
              "outlinewidth": 0,
              "ticks": ""
             }
            },
            "marker": {
             "colorbar": {
              "outlinewidth": 0,
              "ticks": ""
             }
            },
            "type": "scatter3d"
           }
          ],
          "scattercarpet": [
           {
            "marker": {
             "colorbar": {
              "outlinewidth": 0,
              "ticks": ""
             }
            },
            "type": "scattercarpet"
           }
          ],
          "scattergeo": [
           {
            "marker": {
             "colorbar": {
              "outlinewidth": 0,
              "ticks": ""
             }
            },
            "type": "scattergeo"
           }
          ],
          "scattergl": [
           {
            "marker": {
             "colorbar": {
              "outlinewidth": 0,
              "ticks": ""
             }
            },
            "type": "scattergl"
           }
          ],
          "scattermapbox": [
           {
            "marker": {
             "colorbar": {
              "outlinewidth": 0,
              "ticks": ""
             }
            },
            "type": "scattermapbox"
           }
          ],
          "scatterpolar": [
           {
            "marker": {
             "colorbar": {
              "outlinewidth": 0,
              "ticks": ""
             }
            },
            "type": "scatterpolar"
           }
          ],
          "scatterpolargl": [
           {
            "marker": {
             "colorbar": {
              "outlinewidth": 0,
              "ticks": ""
             }
            },
            "type": "scatterpolargl"
           }
          ],
          "scatterternary": [
           {
            "marker": {
             "colorbar": {
              "outlinewidth": 0,
              "ticks": ""
             }
            },
            "type": "scatterternary"
           }
          ],
          "surface": [
           {
            "colorbar": {
             "outlinewidth": 0,
             "ticks": ""
            },
            "colorscale": [
             [
              0,
              "#0d0887"
             ],
             [
              0.1111111111111111,
              "#46039f"
             ],
             [
              0.2222222222222222,
              "#7201a8"
             ],
             [
              0.3333333333333333,
              "#9c179e"
             ],
             [
              0.4444444444444444,
              "#bd3786"
             ],
             [
              0.5555555555555556,
              "#d8576b"
             ],
             [
              0.6666666666666666,
              "#ed7953"
             ],
             [
              0.7777777777777778,
              "#fb9f3a"
             ],
             [
              0.8888888888888888,
              "#fdca26"
             ],
             [
              1,
              "#f0f921"
             ]
            ],
            "type": "surface"
           }
          ],
          "table": [
           {
            "cells": {
             "fill": {
              "color": "#EBF0F8"
             },
             "line": {
              "color": "white"
             }
            },
            "header": {
             "fill": {
              "color": "#C8D4E3"
             },
             "line": {
              "color": "white"
             }
            },
            "type": "table"
           }
          ]
         },
         "layout": {
          "annotationdefaults": {
           "arrowcolor": "#2a3f5f",
           "arrowhead": 0,
           "arrowwidth": 1
          },
          "autotypenumbers": "strict",
          "coloraxis": {
           "colorbar": {
            "outlinewidth": 0,
            "ticks": ""
           }
          },
          "colorscale": {
           "diverging": [
            [
             0,
             "#8e0152"
            ],
            [
             0.1,
             "#c51b7d"
            ],
            [
             0.2,
             "#de77ae"
            ],
            [
             0.3,
             "#f1b6da"
            ],
            [
             0.4,
             "#fde0ef"
            ],
            [
             0.5,
             "#f7f7f7"
            ],
            [
             0.6,
             "#e6f5d0"
            ],
            [
             0.7,
             "#b8e186"
            ],
            [
             0.8,
             "#7fbc41"
            ],
            [
             0.9,
             "#4d9221"
            ],
            [
             1,
             "#276419"
            ]
           ],
           "sequential": [
            [
             0,
             "#0d0887"
            ],
            [
             0.1111111111111111,
             "#46039f"
            ],
            [
             0.2222222222222222,
             "#7201a8"
            ],
            [
             0.3333333333333333,
             "#9c179e"
            ],
            [
             0.4444444444444444,
             "#bd3786"
            ],
            [
             0.5555555555555556,
             "#d8576b"
            ],
            [
             0.6666666666666666,
             "#ed7953"
            ],
            [
             0.7777777777777778,
             "#fb9f3a"
            ],
            [
             0.8888888888888888,
             "#fdca26"
            ],
            [
             1,
             "#f0f921"
            ]
           ],
           "sequentialminus": [
            [
             0,
             "#0d0887"
            ],
            [
             0.1111111111111111,
             "#46039f"
            ],
            [
             0.2222222222222222,
             "#7201a8"
            ],
            [
             0.3333333333333333,
             "#9c179e"
            ],
            [
             0.4444444444444444,
             "#bd3786"
            ],
            [
             0.5555555555555556,
             "#d8576b"
            ],
            [
             0.6666666666666666,
             "#ed7953"
            ],
            [
             0.7777777777777778,
             "#fb9f3a"
            ],
            [
             0.8888888888888888,
             "#fdca26"
            ],
            [
             1,
             "#f0f921"
            ]
           ]
          },
          "colorway": [
           "#636efa",
           "#EF553B",
           "#00cc96",
           "#ab63fa",
           "#FFA15A",
           "#19d3f3",
           "#FF6692",
           "#B6E880",
           "#FF97FF",
           "#FECB52"
          ],
          "font": {
           "color": "#2a3f5f"
          },
          "geo": {
           "bgcolor": "white",
           "lakecolor": "white",
           "landcolor": "#E5ECF6",
           "showlakes": true,
           "showland": true,
           "subunitcolor": "white"
          },
          "hoverlabel": {
           "align": "left"
          },
          "hovermode": "closest",
          "mapbox": {
           "style": "light"
          },
          "paper_bgcolor": "white",
          "plot_bgcolor": "#E5ECF6",
          "polar": {
           "angularaxis": {
            "gridcolor": "white",
            "linecolor": "white",
            "ticks": ""
           },
           "bgcolor": "#E5ECF6",
           "radialaxis": {
            "gridcolor": "white",
            "linecolor": "white",
            "ticks": ""
           }
          },
          "scene": {
           "xaxis": {
            "backgroundcolor": "#E5ECF6",
            "gridcolor": "white",
            "gridwidth": 2,
            "linecolor": "white",
            "showbackground": true,
            "ticks": "",
            "zerolinecolor": "white"
           },
           "yaxis": {
            "backgroundcolor": "#E5ECF6",
            "gridcolor": "white",
            "gridwidth": 2,
            "linecolor": "white",
            "showbackground": true,
            "ticks": "",
            "zerolinecolor": "white"
           },
           "zaxis": {
            "backgroundcolor": "#E5ECF6",
            "gridcolor": "white",
            "gridwidth": 2,
            "linecolor": "white",
            "showbackground": true,
            "ticks": "",
            "zerolinecolor": "white"
           }
          },
          "shapedefaults": {
           "line": {
            "color": "#2a3f5f"
           }
          },
          "ternary": {
           "aaxis": {
            "gridcolor": "white",
            "linecolor": "white",
            "ticks": ""
           },
           "baxis": {
            "gridcolor": "white",
            "linecolor": "white",
            "ticks": ""
           },
           "bgcolor": "#E5ECF6",
           "caxis": {
            "gridcolor": "white",
            "linecolor": "white",
            "ticks": ""
           }
          },
          "title": {
           "x": 0.05
          },
          "xaxis": {
           "automargin": true,
           "gridcolor": "white",
           "linecolor": "white",
           "ticks": "",
           "title": {
            "standoff": 15
           },
           "zerolinecolor": "white",
           "zerolinewidth": 2
          },
          "yaxis": {
           "automargin": true,
           "gridcolor": "white",
           "linecolor": "white",
           "ticks": "",
           "title": {
            "standoff": 15
           },
           "zerolinecolor": "white",
           "zerolinewidth": 2
          }
         }
        },
        "title": {
         "text": "Bid-Ask spread GRAIL-USDT on Gate.io"
        },
        "xaxis": {
         "anchor": "y",
         "domain": [
          0,
          1
         ],
         "dtick": 60000,
         "ticklabelmode": "period",
         "title": {
          "text": "Time"
         }
        },
        "yaxis": {
         "anchor": "x",
         "domain": [
          0,
          1
         ],
         "title": {
          "text": "bid-ask spread(%)"
         }
        }
       }
      },
      "text/html": [
       "<div>                            <div id=\"de100e03-d700-4fb7-b491-8b53bd21dfe7\" class=\"plotly-graph-div\" style=\"height:525px; width:100%;\"></div>            <script type=\"text/javascript\">                require([\"plotly\"], function(Plotly) {                    window.PLOTLYENV=window.PLOTLYENV || {};                                    if (document.getElementById(\"de100e03-d700-4fb7-b491-8b53bd21dfe7\")) {                    Plotly.newPlot(                        \"de100e03-d700-4fb7-b491-8b53bd21dfe7\",                        [{\"hovertemplate\":\"variable=spread<br>Time=%{x}<br>bid-ask spread(%)=%{y}<extra></extra>\",\"legendgroup\":\"spread\",\"line\":{\"color\":\"#636efa\",\"dash\":\"solid\"},\"marker\":{\"symbol\":\"circle\"},\"mode\":\"lines\",\"name\":\"spread\",\"orientation\":\"v\",\"showlegend\":true,\"x\":[\"2023-04-18T08:00:20.700000\",\"2023-04-18T08:00:40.700000\",\"2023-04-18T08:01:00.700000\",\"2023-04-18T08:01:20.700000\",\"2023-04-18T08:01:40.700000\",\"2023-04-18T08:02:00.700000\",\"2023-04-18T08:02:20.700000\",\"2023-04-18T08:02:40.700000\",\"2023-04-18T08:03:00.700000\",\"2023-04-18T08:03:20.700000\",\"2023-04-18T08:03:40.700000\",\"2023-04-18T08:04:00.700000\",\"2023-04-18T08:04:20.700000\",\"2023-04-18T08:04:40.700000\",\"2023-04-18T08:05:00.700000\",\"2023-04-18T08:05:20.700000\",\"2023-04-18T08:05:40.700000\",\"2023-04-18T08:06:00.700000\",\"2023-04-18T08:06:20.700000\",\"2023-04-18T08:06:40.700000\",\"2023-04-18T08:07:00.700000\",\"2023-04-18T08:07:20.700000\",\"2023-04-18T08:07:40.700000\",\"2023-04-18T08:08:00.700000\",\"2023-04-18T08:08:20.700000\",\"2023-04-18T08:08:40.700000\",\"2023-04-18T08:09:00.700000\",\"2023-04-18T08:09:20.700000\",\"2023-04-18T08:09:40.700000\",\"2023-04-18T08:10:00.700000\",\"2023-04-18T08:10:20.700000\",\"2023-04-18T08:10:40.700000\",\"2023-04-18T08:11:00.700000\",\"2023-04-18T08:11:20.700000\",\"2023-04-18T08:11:40.700000\",\"2023-04-18T08:12:00.700000\",\"2023-04-18T08:12:20.700000\",\"2023-04-18T08:12:40.700000\",\"2023-04-18T08:13:00.700000\",\"2023-04-18T08:13:20.700000\",\"2023-04-18T08:13:40.700000\",\"2023-04-18T08:14:00.700000\",\"2023-04-18T08:14:20.700000\",\"2023-04-18T08:14:40.700000\",\"2023-04-18T08:15:00.700000\",\"2023-04-18T08:15:20.700000\",\"2023-04-18T08:15:40.700000\",\"2023-04-18T08:16:00.700000\",\"2023-04-18T08:16:20.700000\",\"2023-04-18T08:16:40.700000\",\"2023-04-18T08:17:00.700000\",\"2023-04-18T08:17:20.700000\",\"2023-04-18T08:17:40.700000\",\"2023-04-18T08:18:00.700000\",\"2023-04-18T08:18:20.700000\",\"2023-04-18T08:18:40.700000\",\"2023-04-18T08:19:00.700000\",\"2023-04-18T08:19:20.700000\",\"2023-04-18T08:19:40.700000\",\"2023-04-18T08:20:00.700000\",\"2023-04-18T08:20:20.700000\",\"2023-04-18T08:20:40.700000\",\"2023-04-18T08:21:00.700000\",\"2023-04-18T08:21:20.700000\",\"2023-04-18T08:21:40.700000\",\"2023-04-18T08:22:00.700000\",\"2023-04-18T08:22:20.700000\",\"2023-04-18T08:22:40.700000\",\"2023-04-18T08:23:00.700000\",\"2023-04-18T08:23:20.700000\",\"2023-04-18T08:23:40.700000\",\"2023-04-18T08:24:00.700000\",\"2023-04-18T08:24:20.700000\",\"2023-04-18T08:24:40.700000\",\"2023-04-18T08:25:00.700000\",\"2023-04-18T08:25:20.700000\",\"2023-04-18T08:25:40.700000\",\"2023-04-18T08:26:00.700000\",\"2023-04-18T08:26:20.700000\",\"2023-04-18T08:26:40.700000\",\"2023-04-18T08:27:00.700000\",\"2023-04-18T08:27:20.700000\",\"2023-04-18T08:27:40.700000\",\"2023-04-18T08:28:00.700000\",\"2023-04-18T08:28:20.700000\",\"2023-04-18T08:28:40.700000\",\"2023-04-18T08:29:00.700000\",\"2023-04-18T08:29:20.700000\",\"2023-04-18T08:29:40.700000\",\"2023-04-18T08:30:00.700000\",\"2023-04-18T08:30:20.700000\",\"2023-04-18T08:30:40.700000\",\"2023-04-18T08:31:00.700000\",\"2023-04-18T08:31:20.700000\",\"2023-04-18T08:31:40.700000\",\"2023-04-18T08:32:00.700000\",\"2023-04-18T08:32:20.700000\",\"2023-04-18T08:32:40.700000\",\"2023-04-18T08:33:00.700000\",\"2023-04-18T08:33:20.700000\",\"2023-04-18T08:33:40.700000\",\"2023-04-18T08:34:00.700000\",\"2023-04-18T08:34:20.700000\",\"2023-04-18T08:34:40.700000\",\"2023-04-18T08:35:00.700000\",\"2023-04-18T08:35:20.700000\",\"2023-04-18T08:35:40.700000\",\"2023-04-18T08:36:00.700000\",\"2023-04-18T08:36:20.700000\",\"2023-04-18T08:36:40.700000\",\"2023-04-18T08:37:00.700000\",\"2023-04-18T08:37:20.700000\",\"2023-04-18T08:37:40.700000\",\"2023-04-18T08:38:00.700000\",\"2023-04-18T08:38:20.700000\",\"2023-04-18T08:38:40.700000\",\"2023-04-18T08:39:00.700000\",\"2023-04-18T08:39:20.700000\",\"2023-04-18T08:39:40.700000\",\"2023-04-18T08:40:00.700000\",\"2023-04-18T08:40:20.700000\",\"2023-04-18T08:40:40.700000\",\"2023-04-18T08:41:00.700000\",\"2023-04-18T08:41:20.700000\",\"2023-04-18T08:41:40.700000\",\"2023-04-18T08:42:00.700000\",\"2023-04-18T08:42:20.700000\",\"2023-04-18T08:42:40.700000\",\"2023-04-18T08:43:00.700000\",\"2023-04-18T08:43:20.700000\",\"2023-04-18T08:43:40.700000\",\"2023-04-18T08:44:00.700000\",\"2023-04-18T08:44:20.700000\",\"2023-04-18T08:44:40.700000\",\"2023-04-18T08:45:00.700000\",\"2023-04-18T08:45:20.700000\",\"2023-04-18T08:45:40.700000\",\"2023-04-18T08:46:00.700000\",\"2023-04-18T08:46:20.700000\",\"2023-04-18T08:46:40.700000\",\"2023-04-18T08:47:00.700000\",\"2023-04-18T08:47:20.700000\",\"2023-04-18T08:47:40.700000\",\"2023-04-18T08:48:00.700000\",\"2023-04-18T08:48:20.700000\",\"2023-04-18T08:48:40.700000\",\"2023-04-18T08:49:00.700000\",\"2023-04-18T08:49:20.700000\",\"2023-04-18T08:49:40.700000\",\"2023-04-18T08:50:00.700000\",\"2023-04-18T08:50:20.700000\",\"2023-04-18T08:50:40.700000\",\"2023-04-18T08:51:00.700000\",\"2023-04-18T08:51:20.700000\",\"2023-04-18T08:51:40.700000\",\"2023-04-18T08:52:00.700000\",\"2023-04-18T08:52:20.700000\",\"2023-04-18T08:52:40.700000\",\"2023-04-18T08:53:00.700000\",\"2023-04-18T08:53:20.700000\",\"2023-04-18T08:53:40.700000\",\"2023-04-18T08:54:00.700000\",\"2023-04-18T08:54:20.700000\",\"2023-04-18T08:54:40.700000\",\"2023-04-18T08:55:00.700000\",\"2023-04-18T08:55:20.700000\",\"2023-04-18T08:55:40.700000\",\"2023-04-18T08:56:00.700000\",\"2023-04-18T08:56:20.700000\",\"2023-04-18T08:56:40.700000\",\"2023-04-18T08:57:00.700000\",\"2023-04-18T08:57:20.700000\",\"2023-04-18T08:57:40.700000\",\"2023-04-18T08:58:00.700000\",\"2023-04-18T08:58:20.700000\",\"2023-04-18T08:58:40.700000\",\"2023-04-18T08:59:00.700000\",\"2023-04-18T08:59:20.700000\",\"2023-04-18T08:59:40.700000\",\"2023-04-18T09:00:00.700000\"],\"xaxis\":\"x\",\"y\":[1.218973422781911,1.2150356966517448,1.2069244396018026,1.202014371945007,1.196393864713515,1.188990945774287,1.1807480702271511,1.1725548680810804,1.165215539683837,1.1584156099624174,1.1528332189413635,1.1446844101685913,1.1367704538202363,1.1285573849119996,1.1202705306109466,1.1118712915504578,1.1036378879623487,1.098183750332722,1.0904820600197935,1.0828733268833861,1.0749375007132997,1.0670264425674632,1.0638748062543997,1.0561677667280496,1.050766613997959,1.044377487214594,1.0381396088289339,1.0303642800671062,1.0224757752370213,1.0156864201289617,1.0096203174849607,1.0033078298835998,0.9953704184991471,0.9899130950839132,0.9854416802278284,0.980736204355768,0.9755607236569626,null,null,0.9736821823520169,0.9703809322746659,0.9647412110041068,0.6876693587781476,0.36279403109695696,0.3812771216113157,0.36653447698238173,0.9094271467827049,1.5351093614323519,1.5269892246803514,1.5194970134271206,1.511430342267977,1.5032587120143508,1.4963523945801531,1.488478679769527,1.4809176108528828,0.9012236760342481,0.8844046052779777,0.8887627162922309,0.9189505771191169,0.7683842088286299,1.2368287362362245,1.425043866390224,0.9987186702518143,0.8987300000759922,0.8935200449115394,0.7260598792291088,0.8506436702368049,0.8259159843053892,0.8414373231410941,1.4136101406807027,1.8915378652941264,1.8839491968367998,1.8758391092908013,1.8673184741728783,1.8592880924706605,1.8515813734191797,1.843818071515124,1.7827906052826514,1.776724919637632,1.768437201598232,1.7603499208837574,1.7519541126849012,1.7438914855644676,1.7366500184752889,1.7289566865857333,1.7209695452251368,1.7144623955134026,1.7067383244472587,1.698573868877081,1.6904410243733012,1.6819560145387413,1.6732450394747198,1.6697195086977592,1.6626580197501517,1.654431226344839,1.6461684570899318,1.6379357385339324,1.6298302236453261,1.6230968385864237,1.6162724408537064,1.6085851787939662,1.600838742434583,1.592863493317295,1.5847987264567185,1.5769837832373257,1.5688773398085971,1.560566148591077,1.552448243935671,1.544242792316565,1.537235000590408,0.2453079910375485,0.19463208875116533,2.1517865878870834,2.7826665715075096,2.774079660727995,2.7659548910559066,2.316472230890782,2.6162649154666964,2.607551734516946,2.598981534672619,2.591070695384541,2.573149617939744,2.4477356831477874,2.439146489819009,2.431761344654327,2.423532189415529,2.414466027306286,2.3961754278017966,2.282297983148173,2.274459182798907,2.26579578521155,2.2607091122627994,2.239577813411106,2.135601449513992,2.1277145405301265,2.119733474700684,2.1116375356336987,2.103738456200825,2.0185657395895173,1.985184741940257,1.9772917439363682,1.9696707510270026,1.9645282728139342,1.9577892449632492,1.951292269255131,1.9444891409200185,1.9370964833334934,1.9291073596509505,1.92253264456523,1.9165617758601752,1.9118284739588927,1.9049474159315642,1.8991747234004301,2.0145531182177665,2.207263146582523,2.1992013285572334,2.190845128108615,2.183987519341011,2.1764870887401813,2.16863000288009,2.1624393206047956,2.1549182513392946,2.1464198507438055,2.1379720377779736,2.1303518310427685,2.12187364155848,2.115776097913987,2.1086549516242656,1.8383810997753351,1.1981609473617554,1.2182922243439924,1.2859532986320128,1.317615401294423,0.9905569196978304,1.2434882514681804,1.3058872256937242,1.0818174414783261,1.1891167268811524,1.274465954476157,1.229150238972991],\"yaxis\":\"y\",\"type\":\"scatter\"},{\"hovertemplate\":\"variable=mean_spread<br>Time=%{x}<br>bid-ask spread(%)=%{y}<extra></extra>\",\"legendgroup\":\"mean_spread\",\"line\":{\"color\":\"#EF553B\",\"dash\":\"solid\"},\"marker\":{\"symbol\":\"circle\"},\"mode\":\"lines\",\"name\":\"mean_spread\",\"orientation\":\"v\",\"showlegend\":true,\"x\":[\"2023-04-18T08:00:20.700000\",\"2023-04-18T08:00:40.700000\",\"2023-04-18T08:01:00.700000\",\"2023-04-18T08:01:20.700000\",\"2023-04-18T08:01:40.700000\",\"2023-04-18T08:02:00.700000\",\"2023-04-18T08:02:20.700000\",\"2023-04-18T08:02:40.700000\",\"2023-04-18T08:03:00.700000\",\"2023-04-18T08:03:20.700000\",\"2023-04-18T08:03:40.700000\",\"2023-04-18T08:04:00.700000\",\"2023-04-18T08:04:20.700000\",\"2023-04-18T08:04:40.700000\",\"2023-04-18T08:05:00.700000\",\"2023-04-18T08:05:20.700000\",\"2023-04-18T08:05:40.700000\",\"2023-04-18T08:06:00.700000\",\"2023-04-18T08:06:20.700000\",\"2023-04-18T08:06:40.700000\",\"2023-04-18T08:07:00.700000\",\"2023-04-18T08:07:20.700000\",\"2023-04-18T08:07:40.700000\",\"2023-04-18T08:08:00.700000\",\"2023-04-18T08:08:20.700000\",\"2023-04-18T08:08:40.700000\",\"2023-04-18T08:09:00.700000\",\"2023-04-18T08:09:20.700000\",\"2023-04-18T08:09:40.700000\",\"2023-04-18T08:10:00.700000\",\"2023-04-18T08:10:20.700000\",\"2023-04-18T08:10:40.700000\",\"2023-04-18T08:11:00.700000\",\"2023-04-18T08:11:20.700000\",\"2023-04-18T08:11:40.700000\",\"2023-04-18T08:12:00.700000\",\"2023-04-18T08:12:20.700000\",\"2023-04-18T08:12:40.700000\",\"2023-04-18T08:13:00.700000\",\"2023-04-18T08:13:20.700000\",\"2023-04-18T08:13:40.700000\",\"2023-04-18T08:14:00.700000\",\"2023-04-18T08:14:20.700000\",\"2023-04-18T08:14:40.700000\",\"2023-04-18T08:15:00.700000\",\"2023-04-18T08:15:20.700000\",\"2023-04-18T08:15:40.700000\",\"2023-04-18T08:16:00.700000\",\"2023-04-18T08:16:20.700000\",\"2023-04-18T08:16:40.700000\",\"2023-04-18T08:17:00.700000\",\"2023-04-18T08:17:20.700000\",\"2023-04-18T08:17:40.700000\",\"2023-04-18T08:18:00.700000\",\"2023-04-18T08:18:20.700000\",\"2023-04-18T08:18:40.700000\",\"2023-04-18T08:19:00.700000\",\"2023-04-18T08:19:20.700000\",\"2023-04-18T08:19:40.700000\",\"2023-04-18T08:20:00.700000\",\"2023-04-18T08:20:20.700000\",\"2023-04-18T08:20:40.700000\",\"2023-04-18T08:21:00.700000\",\"2023-04-18T08:21:20.700000\",\"2023-04-18T08:21:40.700000\",\"2023-04-18T08:22:00.700000\",\"2023-04-18T08:22:20.700000\",\"2023-04-18T08:22:40.700000\",\"2023-04-18T08:23:00.700000\",\"2023-04-18T08:23:20.700000\",\"2023-04-18T08:23:40.700000\",\"2023-04-18T08:24:00.700000\",\"2023-04-18T08:24:20.700000\",\"2023-04-18T08:24:40.700000\",\"2023-04-18T08:25:00.700000\",\"2023-04-18T08:25:20.700000\",\"2023-04-18T08:25:40.700000\",\"2023-04-18T08:26:00.700000\",\"2023-04-18T08:26:20.700000\",\"2023-04-18T08:26:40.700000\",\"2023-04-18T08:27:00.700000\",\"2023-04-18T08:27:20.700000\",\"2023-04-18T08:27:40.700000\",\"2023-04-18T08:28:00.700000\",\"2023-04-18T08:28:20.700000\",\"2023-04-18T08:28:40.700000\",\"2023-04-18T08:29:00.700000\",\"2023-04-18T08:29:20.700000\",\"2023-04-18T08:29:40.700000\",\"2023-04-18T08:30:00.700000\",\"2023-04-18T08:30:20.700000\",\"2023-04-18T08:30:40.700000\",\"2023-04-18T08:31:00.700000\",\"2023-04-18T08:31:20.700000\",\"2023-04-18T08:31:40.700000\",\"2023-04-18T08:32:00.700000\",\"2023-04-18T08:32:20.700000\",\"2023-04-18T08:32:40.700000\",\"2023-04-18T08:33:00.700000\",\"2023-04-18T08:33:20.700000\",\"2023-04-18T08:33:40.700000\",\"2023-04-18T08:34:00.700000\",\"2023-04-18T08:34:20.700000\",\"2023-04-18T08:34:40.700000\",\"2023-04-18T08:35:00.700000\",\"2023-04-18T08:35:20.700000\",\"2023-04-18T08:35:40.700000\",\"2023-04-18T08:36:00.700000\",\"2023-04-18T08:36:20.700000\",\"2023-04-18T08:36:40.700000\",\"2023-04-18T08:37:00.700000\",\"2023-04-18T08:37:20.700000\",\"2023-04-18T08:37:40.700000\",\"2023-04-18T08:38:00.700000\",\"2023-04-18T08:38:20.700000\",\"2023-04-18T08:38:40.700000\",\"2023-04-18T08:39:00.700000\",\"2023-04-18T08:39:20.700000\",\"2023-04-18T08:39:40.700000\",\"2023-04-18T08:40:00.700000\",\"2023-04-18T08:40:20.700000\",\"2023-04-18T08:40:40.700000\",\"2023-04-18T08:41:00.700000\",\"2023-04-18T08:41:20.700000\",\"2023-04-18T08:41:40.700000\",\"2023-04-18T08:42:00.700000\",\"2023-04-18T08:42:20.700000\",\"2023-04-18T08:42:40.700000\",\"2023-04-18T08:43:00.700000\",\"2023-04-18T08:43:20.700000\",\"2023-04-18T08:43:40.700000\",\"2023-04-18T08:44:00.700000\",\"2023-04-18T08:44:20.700000\",\"2023-04-18T08:44:40.700000\",\"2023-04-18T08:45:00.700000\",\"2023-04-18T08:45:20.700000\",\"2023-04-18T08:45:40.700000\",\"2023-04-18T08:46:00.700000\",\"2023-04-18T08:46:20.700000\",\"2023-04-18T08:46:40.700000\",\"2023-04-18T08:47:00.700000\",\"2023-04-18T08:47:20.700000\",\"2023-04-18T08:47:40.700000\",\"2023-04-18T08:48:00.700000\",\"2023-04-18T08:48:20.700000\",\"2023-04-18T08:48:40.700000\",\"2023-04-18T08:49:00.700000\",\"2023-04-18T08:49:20.700000\",\"2023-04-18T08:49:40.700000\",\"2023-04-18T08:50:00.700000\",\"2023-04-18T08:50:20.700000\",\"2023-04-18T08:50:40.700000\",\"2023-04-18T08:51:00.700000\",\"2023-04-18T08:51:20.700000\",\"2023-04-18T08:51:40.700000\",\"2023-04-18T08:52:00.700000\",\"2023-04-18T08:52:20.700000\",\"2023-04-18T08:52:40.700000\",\"2023-04-18T08:53:00.700000\",\"2023-04-18T08:53:20.700000\",\"2023-04-18T08:53:40.700000\",\"2023-04-18T08:54:00.700000\",\"2023-04-18T08:54:20.700000\",\"2023-04-18T08:54:40.700000\",\"2023-04-18T08:55:00.700000\",\"2023-04-18T08:55:20.700000\",\"2023-04-18T08:55:40.700000\",\"2023-04-18T08:56:00.700000\",\"2023-04-18T08:56:20.700000\",\"2023-04-18T08:56:40.700000\",\"2023-04-18T08:57:00.700000\",\"2023-04-18T08:57:20.700000\",\"2023-04-18T08:57:40.700000\",\"2023-04-18T08:58:00.700000\",\"2023-04-18T08:58:20.700000\",\"2023-04-18T08:58:40.700000\",\"2023-04-18T08:59:00.700000\",\"2023-04-18T08:59:20.700000\",\"2023-04-18T08:59:40.700000\",\"2023-04-18T09:00:00.700000\"],\"xaxis\":\"x\",\"y\":[1.218973422781911,1.2170045597168277,1.2136445196784862,1.2107369827451162,1.207868359138796,1.2047221235780445,1.201297258813631,1.1977044599720623,1.1940945799400373,1.1905266829422754,1.187100004396738,1.1835653715443923,1.1799657624886881,1.1762937355189247,1.172558855191726,1.1687658824641467,1.164934823964041,1.1612264309845233,1.1575030430390114,1.1537715572312301,1.1500175545399,1.1462452312684257,1.142663908441729,1.1390599025369923,1.135528170995431,1.1320223754653986,1.1285452359603445,1.1250387732498717,1.1215021181459803,1.1179749282120797,1.1144796181886243,1.1110054998040924,1.1075014064312152,1.1040429266857064,1.1006543196440528,1.0973232608860448,1.094032381501475,null,null,null,null,null,null,null,null,null,null,null,null,null,null,null,null,null,null,null,null,null,null,null,null,null,null,null,null,null,null,null,null,null,null,null,null,null,null,null,null,null,null,null,null,null,null,null,null,null,null,null,null,null,null,null,null,null,null,null,null,null,null,null,null,null,null,null,null,null,null,null,null,null,null,null,null,null,null,null,null,null,null,null,null,null,null,null,null,null,null,null,null,null,null,null,null,null,null,null,null,null,null,null,null,null,null,null,null,null,null,null,null,null,null,null,null,null,null,null,null,null,null,null,null,null,null,null,null,null,null,null,null,null,null,null,null,null,null,null,null,null,null,null],\"yaxis\":\"y\",\"type\":\"scatter\"}],                        {\"template\":{\"data\":{\"histogram2dcontour\":[{\"type\":\"histogram2dcontour\",\"colorbar\":{\"outlinewidth\":0,\"ticks\":\"\"},\"colorscale\":[[0.0,\"#0d0887\"],[0.1111111111111111,\"#46039f\"],[0.2222222222222222,\"#7201a8\"],[0.3333333333333333,\"#9c179e\"],[0.4444444444444444,\"#bd3786\"],[0.5555555555555556,\"#d8576b\"],[0.6666666666666666,\"#ed7953\"],[0.7777777777777778,\"#fb9f3a\"],[0.8888888888888888,\"#fdca26\"],[1.0,\"#f0f921\"]]}],\"choropleth\":[{\"type\":\"choropleth\",\"colorbar\":{\"outlinewidth\":0,\"ticks\":\"\"}}],\"histogram2d\":[{\"type\":\"histogram2d\",\"colorbar\":{\"outlinewidth\":0,\"ticks\":\"\"},\"colorscale\":[[0.0,\"#0d0887\"],[0.1111111111111111,\"#46039f\"],[0.2222222222222222,\"#7201a8\"],[0.3333333333333333,\"#9c179e\"],[0.4444444444444444,\"#bd3786\"],[0.5555555555555556,\"#d8576b\"],[0.6666666666666666,\"#ed7953\"],[0.7777777777777778,\"#fb9f3a\"],[0.8888888888888888,\"#fdca26\"],[1.0,\"#f0f921\"]]}],\"heatmap\":[{\"type\":\"heatmap\",\"colorbar\":{\"outlinewidth\":0,\"ticks\":\"\"},\"colorscale\":[[0.0,\"#0d0887\"],[0.1111111111111111,\"#46039f\"],[0.2222222222222222,\"#7201a8\"],[0.3333333333333333,\"#9c179e\"],[0.4444444444444444,\"#bd3786\"],[0.5555555555555556,\"#d8576b\"],[0.6666666666666666,\"#ed7953\"],[0.7777777777777778,\"#fb9f3a\"],[0.8888888888888888,\"#fdca26\"],[1.0,\"#f0f921\"]]}],\"heatmapgl\":[{\"type\":\"heatmapgl\",\"colorbar\":{\"outlinewidth\":0,\"ticks\":\"\"},\"colorscale\":[[0.0,\"#0d0887\"],[0.1111111111111111,\"#46039f\"],[0.2222222222222222,\"#7201a8\"],[0.3333333333333333,\"#9c179e\"],[0.4444444444444444,\"#bd3786\"],[0.5555555555555556,\"#d8576b\"],[0.6666666666666666,\"#ed7953\"],[0.7777777777777778,\"#fb9f3a\"],[0.8888888888888888,\"#fdca26\"],[1.0,\"#f0f921\"]]}],\"contourcarpet\":[{\"type\":\"contourcarpet\",\"colorbar\":{\"outlinewidth\":0,\"ticks\":\"\"}}],\"contour\":[{\"type\":\"contour\",\"colorbar\":{\"outlinewidth\":0,\"ticks\":\"\"},\"colorscale\":[[0.0,\"#0d0887\"],[0.1111111111111111,\"#46039f\"],[0.2222222222222222,\"#7201a8\"],[0.3333333333333333,\"#9c179e\"],[0.4444444444444444,\"#bd3786\"],[0.5555555555555556,\"#d8576b\"],[0.6666666666666666,\"#ed7953\"],[0.7777777777777778,\"#fb9f3a\"],[0.8888888888888888,\"#fdca26\"],[1.0,\"#f0f921\"]]}],\"surface\":[{\"type\":\"surface\",\"colorbar\":{\"outlinewidth\":0,\"ticks\":\"\"},\"colorscale\":[[0.0,\"#0d0887\"],[0.1111111111111111,\"#46039f\"],[0.2222222222222222,\"#7201a8\"],[0.3333333333333333,\"#9c179e\"],[0.4444444444444444,\"#bd3786\"],[0.5555555555555556,\"#d8576b\"],[0.6666666666666666,\"#ed7953\"],[0.7777777777777778,\"#fb9f3a\"],[0.8888888888888888,\"#fdca26\"],[1.0,\"#f0f921\"]]}],\"mesh3d\":[{\"type\":\"mesh3d\",\"colorbar\":{\"outlinewidth\":0,\"ticks\":\"\"}}],\"scatter\":[{\"fillpattern\":{\"fillmode\":\"overlay\",\"size\":10,\"solidity\":0.2},\"type\":\"scatter\"}],\"parcoords\":[{\"type\":\"parcoords\",\"line\":{\"colorbar\":{\"outlinewidth\":0,\"ticks\":\"\"}}}],\"scatterpolargl\":[{\"type\":\"scatterpolargl\",\"marker\":{\"colorbar\":{\"outlinewidth\":0,\"ticks\":\"\"}}}],\"bar\":[{\"error_x\":{\"color\":\"#2a3f5f\"},\"error_y\":{\"color\":\"#2a3f5f\"},\"marker\":{\"line\":{\"color\":\"#E5ECF6\",\"width\":0.5},\"pattern\":{\"fillmode\":\"overlay\",\"size\":10,\"solidity\":0.2}},\"type\":\"bar\"}],\"scattergeo\":[{\"type\":\"scattergeo\",\"marker\":{\"colorbar\":{\"outlinewidth\":0,\"ticks\":\"\"}}}],\"scatterpolar\":[{\"type\":\"scatterpolar\",\"marker\":{\"colorbar\":{\"outlinewidth\":0,\"ticks\":\"\"}}}],\"histogram\":[{\"marker\":{\"pattern\":{\"fillmode\":\"overlay\",\"size\":10,\"solidity\":0.2}},\"type\":\"histogram\"}],\"scattergl\":[{\"type\":\"scattergl\",\"marker\":{\"colorbar\":{\"outlinewidth\":0,\"ticks\":\"\"}}}],\"scatter3d\":[{\"type\":\"scatter3d\",\"line\":{\"colorbar\":{\"outlinewidth\":0,\"ticks\":\"\"}},\"marker\":{\"colorbar\":{\"outlinewidth\":0,\"ticks\":\"\"}}}],\"scattermapbox\":[{\"type\":\"scattermapbox\",\"marker\":{\"colorbar\":{\"outlinewidth\":0,\"ticks\":\"\"}}}],\"scatterternary\":[{\"type\":\"scatterternary\",\"marker\":{\"colorbar\":{\"outlinewidth\":0,\"ticks\":\"\"}}}],\"scattercarpet\":[{\"type\":\"scattercarpet\",\"marker\":{\"colorbar\":{\"outlinewidth\":0,\"ticks\":\"\"}}}],\"carpet\":[{\"aaxis\":{\"endlinecolor\":\"#2a3f5f\",\"gridcolor\":\"white\",\"linecolor\":\"white\",\"minorgridcolor\":\"white\",\"startlinecolor\":\"#2a3f5f\"},\"baxis\":{\"endlinecolor\":\"#2a3f5f\",\"gridcolor\":\"white\",\"linecolor\":\"white\",\"minorgridcolor\":\"white\",\"startlinecolor\":\"#2a3f5f\"},\"type\":\"carpet\"}],\"table\":[{\"cells\":{\"fill\":{\"color\":\"#EBF0F8\"},\"line\":{\"color\":\"white\"}},\"header\":{\"fill\":{\"color\":\"#C8D4E3\"},\"line\":{\"color\":\"white\"}},\"type\":\"table\"}],\"barpolar\":[{\"marker\":{\"line\":{\"color\":\"#E5ECF6\",\"width\":0.5},\"pattern\":{\"fillmode\":\"overlay\",\"size\":10,\"solidity\":0.2}},\"type\":\"barpolar\"}],\"pie\":[{\"automargin\":true,\"type\":\"pie\"}]},\"layout\":{\"autotypenumbers\":\"strict\",\"colorway\":[\"#636efa\",\"#EF553B\",\"#00cc96\",\"#ab63fa\",\"#FFA15A\",\"#19d3f3\",\"#FF6692\",\"#B6E880\",\"#FF97FF\",\"#FECB52\"],\"font\":{\"color\":\"#2a3f5f\"},\"hovermode\":\"closest\",\"hoverlabel\":{\"align\":\"left\"},\"paper_bgcolor\":\"white\",\"plot_bgcolor\":\"#E5ECF6\",\"polar\":{\"bgcolor\":\"#E5ECF6\",\"angularaxis\":{\"gridcolor\":\"white\",\"linecolor\":\"white\",\"ticks\":\"\"},\"radialaxis\":{\"gridcolor\":\"white\",\"linecolor\":\"white\",\"ticks\":\"\"}},\"ternary\":{\"bgcolor\":\"#E5ECF6\",\"aaxis\":{\"gridcolor\":\"white\",\"linecolor\":\"white\",\"ticks\":\"\"},\"baxis\":{\"gridcolor\":\"white\",\"linecolor\":\"white\",\"ticks\":\"\"},\"caxis\":{\"gridcolor\":\"white\",\"linecolor\":\"white\",\"ticks\":\"\"}},\"coloraxis\":{\"colorbar\":{\"outlinewidth\":0,\"ticks\":\"\"}},\"colorscale\":{\"sequential\":[[0.0,\"#0d0887\"],[0.1111111111111111,\"#46039f\"],[0.2222222222222222,\"#7201a8\"],[0.3333333333333333,\"#9c179e\"],[0.4444444444444444,\"#bd3786\"],[0.5555555555555556,\"#d8576b\"],[0.6666666666666666,\"#ed7953\"],[0.7777777777777778,\"#fb9f3a\"],[0.8888888888888888,\"#fdca26\"],[1.0,\"#f0f921\"]],\"sequentialminus\":[[0.0,\"#0d0887\"],[0.1111111111111111,\"#46039f\"],[0.2222222222222222,\"#7201a8\"],[0.3333333333333333,\"#9c179e\"],[0.4444444444444444,\"#bd3786\"],[0.5555555555555556,\"#d8576b\"],[0.6666666666666666,\"#ed7953\"],[0.7777777777777778,\"#fb9f3a\"],[0.8888888888888888,\"#fdca26\"],[1.0,\"#f0f921\"]],\"diverging\":[[0,\"#8e0152\"],[0.1,\"#c51b7d\"],[0.2,\"#de77ae\"],[0.3,\"#f1b6da\"],[0.4,\"#fde0ef\"],[0.5,\"#f7f7f7\"],[0.6,\"#e6f5d0\"],[0.7,\"#b8e186\"],[0.8,\"#7fbc41\"],[0.9,\"#4d9221\"],[1,\"#276419\"]]},\"xaxis\":{\"gridcolor\":\"white\",\"linecolor\":\"white\",\"ticks\":\"\",\"title\":{\"standoff\":15},\"zerolinecolor\":\"white\",\"automargin\":true,\"zerolinewidth\":2},\"yaxis\":{\"gridcolor\":\"white\",\"linecolor\":\"white\",\"ticks\":\"\",\"title\":{\"standoff\":15},\"zerolinecolor\":\"white\",\"automargin\":true,\"zerolinewidth\":2},\"scene\":{\"xaxis\":{\"backgroundcolor\":\"#E5ECF6\",\"gridcolor\":\"white\",\"linecolor\":\"white\",\"showbackground\":true,\"ticks\":\"\",\"zerolinecolor\":\"white\",\"gridwidth\":2},\"yaxis\":{\"backgroundcolor\":\"#E5ECF6\",\"gridcolor\":\"white\",\"linecolor\":\"white\",\"showbackground\":true,\"ticks\":\"\",\"zerolinecolor\":\"white\",\"gridwidth\":2},\"zaxis\":{\"backgroundcolor\":\"#E5ECF6\",\"gridcolor\":\"white\",\"linecolor\":\"white\",\"showbackground\":true,\"ticks\":\"\",\"zerolinecolor\":\"white\",\"gridwidth\":2}},\"shapedefaults\":{\"line\":{\"color\":\"#2a3f5f\"}},\"annotationdefaults\":{\"arrowcolor\":\"#2a3f5f\",\"arrowhead\":0,\"arrowwidth\":1},\"geo\":{\"bgcolor\":\"white\",\"landcolor\":\"#E5ECF6\",\"subunitcolor\":\"white\",\"showland\":true,\"showlakes\":true,\"lakecolor\":\"white\"},\"title\":{\"x\":0.05},\"mapbox\":{\"style\":\"light\"}}},\"xaxis\":{\"anchor\":\"y\",\"domain\":[0.0,1.0],\"title\":{\"text\":\"Time\"},\"dtick\":60000,\"ticklabelmode\":\"period\"},\"yaxis\":{\"anchor\":\"x\",\"domain\":[0.0,1.0],\"title\":{\"text\":\"bid-ask spread(%)\"}},\"legend\":{\"title\":{\"text\":\"variable\"},\"tracegroupgap\":0},\"title\":{\"text\":\"Bid-Ask spread GRAIL-USDT on Gate.io\"}},                        {\"responsive\": true}                    ).then(function(){\n",
       "                            \n",
       "var gd = document.getElementById('de100e03-d700-4fb7-b491-8b53bd21dfe7');\n",
       "var x = new MutationObserver(function (mutations, observer) {{\n",
       "        var display = window.getComputedStyle(gd).display;\n",
       "        if (!display || display === 'none') {{\n",
       "            console.log([gd, 'removed!']);\n",
       "            Plotly.purge(gd);\n",
       "            observer.disconnect();\n",
       "        }}\n",
       "}});\n",
       "\n",
       "// Listen for the removal of the full notebook cells\n",
       "var notebookContainer = gd.closest('#notebook-container');\n",
       "if (notebookContainer) {{\n",
       "    x.observe(notebookContainer, {childList: true});\n",
       "}}\n",
       "\n",
       "// Listen for the clearing of the current output cell\n",
       "var outputEl = gd.closest('.output');\n",
       "if (outputEl) {{\n",
       "    x.observe(outputEl, {childList: true});\n",
       "}}\n",
       "\n",
       "                        })                };                });            </script>        </div>"
      ]
     },
     "metadata": {},
     "output_type": "display_data"
    },
    {
     "data": {
      "application/vnd.plotly.v1+json": {
       "config": {
        "plotlyServerURL": "https://plot.ly"
       },
       "data": [
        {
         "line": {
          "color": "firebrick"
         },
         "name": "depth at 50bps",
         "type": "scatter",
         "x": [
          "2023-04-18T08:00:20.700000",
          "2023-04-18T08:00:40.700000",
          "2023-04-18T08:01:00.700000",
          "2023-04-18T08:01:20.700000",
          "2023-04-18T08:01:40.700000",
          "2023-04-18T08:02:00.700000",
          "2023-04-18T08:02:20.700000",
          "2023-04-18T08:02:40.700000",
          "2023-04-18T08:03:00.700000",
          "2023-04-18T08:03:20.700000",
          "2023-04-18T08:03:40.700000",
          "2023-04-18T08:04:00.700000",
          "2023-04-18T08:04:20.700000",
          "2023-04-18T08:04:40.700000",
          "2023-04-18T08:05:00.700000",
          "2023-04-18T08:05:20.700000",
          "2023-04-18T08:05:40.700000",
          "2023-04-18T08:06:00.700000",
          "2023-04-18T08:06:20.700000",
          "2023-04-18T08:06:40.700000",
          "2023-04-18T08:07:00.700000",
          "2023-04-18T08:07:20.700000",
          "2023-04-18T08:07:40.700000",
          "2023-04-18T08:08:00.700000",
          "2023-04-18T08:08:20.700000",
          "2023-04-18T08:08:40.700000",
          "2023-04-18T08:09:00.700000",
          "2023-04-18T08:09:20.700000",
          "2023-04-18T08:09:40.700000",
          "2023-04-18T08:10:00.700000",
          "2023-04-18T08:10:20.700000",
          "2023-04-18T08:10:40.700000",
          "2023-04-18T08:11:00.700000",
          "2023-04-18T08:11:20.700000",
          "2023-04-18T08:11:40.700000",
          "2023-04-18T08:12:00.700000",
          "2023-04-18T08:12:20.700000",
          "2023-04-18T08:12:40.700000",
          "2023-04-18T08:13:00.700000",
          "2023-04-18T08:13:20.700000",
          "2023-04-18T08:13:40.700000",
          "2023-04-18T08:14:00.700000",
          "2023-04-18T08:14:20.700000",
          "2023-04-18T08:14:40.700000",
          "2023-04-18T08:15:00.700000",
          "2023-04-18T08:15:20.700000",
          "2023-04-18T08:15:40.700000",
          "2023-04-18T08:16:00.700000",
          "2023-04-18T08:16:20.700000",
          "2023-04-18T08:16:40.700000",
          "2023-04-18T08:17:00.700000",
          "2023-04-18T08:17:20.700000",
          "2023-04-18T08:17:40.700000",
          "2023-04-18T08:18:00.700000",
          "2023-04-18T08:18:20.700000",
          "2023-04-18T08:18:40.700000",
          "2023-04-18T08:19:00.700000",
          "2023-04-18T08:19:20.700000",
          "2023-04-18T08:19:40.700000",
          "2023-04-18T08:20:00.700000",
          "2023-04-18T08:20:20.700000",
          "2023-04-18T08:20:40.700000",
          "2023-04-18T08:21:00.700000",
          "2023-04-18T08:21:20.700000",
          "2023-04-18T08:21:40.700000",
          "2023-04-18T08:22:00.700000",
          "2023-04-18T08:22:20.700000",
          "2023-04-18T08:22:40.700000",
          "2023-04-18T08:23:00.700000",
          "2023-04-18T08:23:20.700000",
          "2023-04-18T08:23:40.700000",
          "2023-04-18T08:24:00.700000",
          "2023-04-18T08:24:20.700000",
          "2023-04-18T08:24:40.700000",
          "2023-04-18T08:25:00.700000",
          "2023-04-18T08:25:20.700000",
          "2023-04-18T08:25:40.700000",
          "2023-04-18T08:26:00.700000",
          "2023-04-18T08:26:20.700000",
          "2023-04-18T08:26:40.700000",
          "2023-04-18T08:27:00.700000",
          "2023-04-18T08:27:20.700000",
          "2023-04-18T08:27:40.700000",
          "2023-04-18T08:28:00.700000",
          "2023-04-18T08:28:20.700000",
          "2023-04-18T08:28:40.700000",
          "2023-04-18T08:29:00.700000",
          "2023-04-18T08:29:20.700000",
          "2023-04-18T08:29:40.700000",
          "2023-04-18T08:30:00.700000",
          "2023-04-18T08:30:20.700000",
          "2023-04-18T08:30:40.700000",
          "2023-04-18T08:31:00.700000",
          "2023-04-18T08:31:20.700000",
          "2023-04-18T08:31:40.700000",
          "2023-04-18T08:32:00.700000",
          "2023-04-18T08:32:20.700000",
          "2023-04-18T08:32:40.700000",
          "2023-04-18T08:33:00.700000",
          "2023-04-18T08:33:20.700000",
          "2023-04-18T08:33:40.700000",
          "2023-04-18T08:34:00.700000",
          "2023-04-18T08:34:20.700000",
          "2023-04-18T08:34:40.700000",
          "2023-04-18T08:35:00.700000",
          "2023-04-18T08:35:20.700000",
          "2023-04-18T08:35:40.700000",
          "2023-04-18T08:36:00.700000",
          "2023-04-18T08:36:20.700000",
          "2023-04-18T08:36:40.700000",
          "2023-04-18T08:37:00.700000",
          "2023-04-18T08:37:20.700000",
          "2023-04-18T08:37:40.700000",
          "2023-04-18T08:38:00.700000",
          "2023-04-18T08:38:20.700000",
          "2023-04-18T08:38:40.700000",
          "2023-04-18T08:39:00.700000",
          "2023-04-18T08:39:20.700000",
          "2023-04-18T08:39:40.700000",
          "2023-04-18T08:40:00.700000",
          "2023-04-18T08:40:20.700000",
          "2023-04-18T08:40:40.700000",
          "2023-04-18T08:41:00.700000",
          "2023-04-18T08:41:20.700000",
          "2023-04-18T08:41:40.700000",
          "2023-04-18T08:42:00.700000",
          "2023-04-18T08:42:20.700000",
          "2023-04-18T08:42:40.700000",
          "2023-04-18T08:43:00.700000",
          "2023-04-18T08:43:20.700000",
          "2023-04-18T08:43:40.700000",
          "2023-04-18T08:44:00.700000",
          "2023-04-18T08:44:20.700000",
          "2023-04-18T08:44:40.700000",
          "2023-04-18T08:45:00.700000",
          "2023-04-18T08:45:20.700000",
          "2023-04-18T08:45:40.700000",
          "2023-04-18T08:46:00.700000",
          "2023-04-18T08:46:20.700000",
          "2023-04-18T08:46:40.700000",
          "2023-04-18T08:47:00.700000",
          "2023-04-18T08:47:20.700000",
          "2023-04-18T08:47:40.700000",
          "2023-04-18T08:48:00.700000",
          "2023-04-18T08:48:20.700000",
          "2023-04-18T08:48:40.700000",
          "2023-04-18T08:49:00.700000",
          "2023-04-18T08:49:20.700000",
          "2023-04-18T08:49:40.700000",
          "2023-04-18T08:50:00.700000",
          "2023-04-18T08:50:20.700000",
          "2023-04-18T08:50:40.700000",
          "2023-04-18T08:51:00.700000",
          "2023-04-18T08:51:20.700000",
          "2023-04-18T08:51:40.700000",
          "2023-04-18T08:52:00.700000",
          "2023-04-18T08:52:20.700000",
          "2023-04-18T08:52:40.700000",
          "2023-04-18T08:53:00.700000",
          "2023-04-18T08:53:20.700000",
          "2023-04-18T08:53:40.700000",
          "2023-04-18T08:54:00.700000",
          "2023-04-18T08:54:20.700000",
          "2023-04-18T08:54:40.700000",
          "2023-04-18T08:55:00.700000",
          "2023-04-18T08:55:20.700000",
          "2023-04-18T08:55:40.700000",
          "2023-04-18T08:56:00.700000",
          "2023-04-18T08:56:20.700000",
          "2023-04-18T08:56:40.700000",
          "2023-04-18T08:57:00.700000",
          "2023-04-18T08:57:20.700000",
          "2023-04-18T08:57:40.700000",
          "2023-04-18T08:58:00.700000",
          "2023-04-18T08:58:20.700000",
          "2023-04-18T08:58:40.700000",
          "2023-04-18T08:59:00.700000",
          "2023-04-18T08:59:20.700000",
          "2023-04-18T08:59:40.700000",
          "2023-04-18T09:00:00.700000"
         ],
         "y": [
          720.4356177839198,
          720.6311981507533,
          721.8577070100504,
          720.0671491105528,
          719.8112449346729,
          719.8284126868687,
          719.3629774673361,
          720.1036484321605,
          719.5939199547737,
          719.3143616984933,
          718.9999548542712,
          719.4079997939699,
          719.2781509195978,
          722.0712514723621,
          720.8213102814074,
          720.745538170854,
          721.653694517588,
          721.1359166424248,
          721.5292985909092,
          720.7237645736031,
          719.1318918140709,
          718.7733784049077,
          720.3186376130652,
          718.3169224422106,
          719.6045799547744,
          604.695282688442,
          549.3909913265304,
          547.2961776281414,
          549.1360910050247,
          550.0283070502508,
          548.2817127738695,
          548.1098173969855,
          550.3640777336683,
          550.2510514924618,
          543.4399249899498,
          547.02044101005,
          550.9644299748745,
          null,
          null,
          551.583048,
          541.8643783869348,
          547.4681288492461,
          553.3573417839199,
          553.5936125628139,
          551.4724781356784,
          538.5483222487306,
          650.8904756331657,
          782.1973966040603,
          779.6753574114582,
          779.9926228542714,
          779.8378695773192,
          782.6420603768847,
          782.297994582914,
          782.5220100761425,
          782.3221640100497,
          754.4797162828283,
          732.8692333571427,
          738.5003897336684,
          740.7437473366828,
          722.9768998492465,
          763.2532421507532,
          769.3482208040198,
          760.1191072020198,
          758.6214519547731,
          762.4173438643215,
          764.8486879045222,
          557.8497962588826,
          559.4171934696974,
          551.3577536834167,
          351.14629078894427,
          626.1182943834193,
          642.9982965252519,
          640.3813967929285,
          641.3986150653262,
          643.1209468190949,
          652.9550555025119,
          628.0271975053757,
          802.197521286432,
          833.5389309296488,
          834.1008266733668,
          822.1560015303025,
          812.1543492424236,
          811.5133127969543,
          809.0202729831466,
          975.4318611507542,
          979.9824604020101,
          980.4294165828579,
          979.0945136482408,
          979.8733270502515,
          976.7982417386935,
          944.0084269538459,
          942.3714300603019,
          934.1198920656566,
          945.3149235175881,
          945.8664120404046,
          943.9396655252522,
          942.7801487989948,
          945.474714713568,
          951.7911434848486,
          950.9418236633163,
          949.5668775376884,
          946.8922324874367,
          951.5177983216076,
          951.7075641155782,
          952.2009915075378,
          949.2648631269036,
          950.627329819096,
          951.8607697386933,
          953.4387482010053,
          953.3905670402008,
          520.1314653366835,
          506.26918561809043,
          1054.5664210000004,
          2424.9087881306546,
          2374.0175181979685,
          2373.73095789394,
          2193.0586756818184,
          2368.4060539346733,
          2355.988377261306,
          2331.627609236182,
          2324.437602145728,
          2299.5523725959592,
          2127.1753470050253,
          2131.0364997085403,
          2132.162480718591,
          2123.2396346482415,
          2084.8779346231167,
          2097.0281440502517,
          2068.081545435897,
          2059.222757889448,
          2038.3134895929657,
          2040.0721123618098,
          2027.2147258743712,
          2006.9316265778898,
          1968.2911411909527,
          1969.297363614213,
          1963.7588711608037,
          1953.3116058643216,
          1952.6863285175868,
          1847.8314046733676,
          1845.4669155126905,
          1821.5834082676756,
          1847.73248050505,
          1749.2406711457284,
          1744.173824874372,
          1761.3987093567841,
          1743.7599688994972,
          1741.4944712828287,
          1743.7928725202023,
          1743.798917289473,
          1741.0725871005034,
          1741.0077402777792,
          1734.6744714321603,
          1762.7946499641034,
          1737.3699550552753,
          1737.9653822964815,
          1743.0340803869358,
          1745.3337571608058,
          1740.9459413718605,
          1732.863251040404,
          1734.2646953471494,
          1730.1839673654817,
          1730.9577780351754,
          1735.8456889447225,
          1722.0680790050267,
          1729.6879213015072,
          1733.10697717588,
          1749.1434733819103,
          1596.5322658693472,
          1156.8671237839196,
          1205.419978634517,
          1251.6917850000002,
          1267.9839539296477,
          1041.6868695628139,
          1236.6060121909536,
          1285.3111062311564,
          1141.3819217979794,
          1207.9899172914577,
          1276.8373230703523,
          1247.6287555778888
         ]
        },
        {
         "line": {
          "color": "blue"
         },
         "name": "depth at 100bps",
         "type": "scatter",
         "x": [
          "2023-04-18T08:00:20.700000",
          "2023-04-18T08:00:40.700000",
          "2023-04-18T08:01:00.700000",
          "2023-04-18T08:01:20.700000",
          "2023-04-18T08:01:40.700000",
          "2023-04-18T08:02:00.700000",
          "2023-04-18T08:02:20.700000",
          "2023-04-18T08:02:40.700000",
          "2023-04-18T08:03:00.700000",
          "2023-04-18T08:03:20.700000",
          "2023-04-18T08:03:40.700000",
          "2023-04-18T08:04:00.700000",
          "2023-04-18T08:04:20.700000",
          "2023-04-18T08:04:40.700000",
          "2023-04-18T08:05:00.700000",
          "2023-04-18T08:05:20.700000",
          "2023-04-18T08:05:40.700000",
          "2023-04-18T08:06:00.700000",
          "2023-04-18T08:06:20.700000",
          "2023-04-18T08:06:40.700000",
          "2023-04-18T08:07:00.700000",
          "2023-04-18T08:07:20.700000",
          "2023-04-18T08:07:40.700000",
          "2023-04-18T08:08:00.700000",
          "2023-04-18T08:08:20.700000",
          "2023-04-18T08:08:40.700000",
          "2023-04-18T08:09:00.700000",
          "2023-04-18T08:09:20.700000",
          "2023-04-18T08:09:40.700000",
          "2023-04-18T08:10:00.700000",
          "2023-04-18T08:10:20.700000",
          "2023-04-18T08:10:40.700000",
          "2023-04-18T08:11:00.700000",
          "2023-04-18T08:11:20.700000",
          "2023-04-18T08:11:40.700000",
          "2023-04-18T08:12:00.700000",
          "2023-04-18T08:12:20.700000",
          "2023-04-18T08:12:40.700000",
          "2023-04-18T08:13:00.700000",
          "2023-04-18T08:13:20.700000",
          "2023-04-18T08:13:40.700000",
          "2023-04-18T08:14:00.700000",
          "2023-04-18T08:14:20.700000",
          "2023-04-18T08:14:40.700000",
          "2023-04-18T08:15:00.700000",
          "2023-04-18T08:15:20.700000",
          "2023-04-18T08:15:40.700000",
          "2023-04-18T08:16:00.700000",
          "2023-04-18T08:16:20.700000",
          "2023-04-18T08:16:40.700000",
          "2023-04-18T08:17:00.700000",
          "2023-04-18T08:17:20.700000",
          "2023-04-18T08:17:40.700000",
          "2023-04-18T08:18:00.700000",
          "2023-04-18T08:18:20.700000",
          "2023-04-18T08:18:40.700000",
          "2023-04-18T08:19:00.700000",
          "2023-04-18T08:19:20.700000",
          "2023-04-18T08:19:40.700000",
          "2023-04-18T08:20:00.700000",
          "2023-04-18T08:20:20.700000",
          "2023-04-18T08:20:40.700000",
          "2023-04-18T08:21:00.700000",
          "2023-04-18T08:21:20.700000",
          "2023-04-18T08:21:40.700000",
          "2023-04-18T08:22:00.700000",
          "2023-04-18T08:22:20.700000",
          "2023-04-18T08:22:40.700000",
          "2023-04-18T08:23:00.700000",
          "2023-04-18T08:23:20.700000",
          "2023-04-18T08:23:40.700000",
          "2023-04-18T08:24:00.700000",
          "2023-04-18T08:24:20.700000",
          "2023-04-18T08:24:40.700000",
          "2023-04-18T08:25:00.700000",
          "2023-04-18T08:25:20.700000",
          "2023-04-18T08:25:40.700000",
          "2023-04-18T08:26:00.700000",
          "2023-04-18T08:26:20.700000",
          "2023-04-18T08:26:40.700000",
          "2023-04-18T08:27:00.700000",
          "2023-04-18T08:27:20.700000",
          "2023-04-18T08:27:40.700000",
          "2023-04-18T08:28:00.700000",
          "2023-04-18T08:28:20.700000",
          "2023-04-18T08:28:40.700000",
          "2023-04-18T08:29:00.700000",
          "2023-04-18T08:29:20.700000",
          "2023-04-18T08:29:40.700000",
          "2023-04-18T08:30:00.700000",
          "2023-04-18T08:30:20.700000",
          "2023-04-18T08:30:40.700000",
          "2023-04-18T08:31:00.700000",
          "2023-04-18T08:31:20.700000",
          "2023-04-18T08:31:40.700000",
          "2023-04-18T08:32:00.700000",
          "2023-04-18T08:32:20.700000",
          "2023-04-18T08:32:40.700000",
          "2023-04-18T08:33:00.700000",
          "2023-04-18T08:33:20.700000",
          "2023-04-18T08:33:40.700000",
          "2023-04-18T08:34:00.700000",
          "2023-04-18T08:34:20.700000",
          "2023-04-18T08:34:40.700000",
          "2023-04-18T08:35:00.700000",
          "2023-04-18T08:35:20.700000",
          "2023-04-18T08:35:40.700000",
          "2023-04-18T08:36:00.700000",
          "2023-04-18T08:36:20.700000",
          "2023-04-18T08:36:40.700000",
          "2023-04-18T08:37:00.700000",
          "2023-04-18T08:37:20.700000",
          "2023-04-18T08:37:40.700000",
          "2023-04-18T08:38:00.700000",
          "2023-04-18T08:38:20.700000",
          "2023-04-18T08:38:40.700000",
          "2023-04-18T08:39:00.700000",
          "2023-04-18T08:39:20.700000",
          "2023-04-18T08:39:40.700000",
          "2023-04-18T08:40:00.700000",
          "2023-04-18T08:40:20.700000",
          "2023-04-18T08:40:40.700000",
          "2023-04-18T08:41:00.700000",
          "2023-04-18T08:41:20.700000",
          "2023-04-18T08:41:40.700000",
          "2023-04-18T08:42:00.700000",
          "2023-04-18T08:42:20.700000",
          "2023-04-18T08:42:40.700000",
          "2023-04-18T08:43:00.700000",
          "2023-04-18T08:43:20.700000",
          "2023-04-18T08:43:40.700000",
          "2023-04-18T08:44:00.700000",
          "2023-04-18T08:44:20.700000",
          "2023-04-18T08:44:40.700000",
          "2023-04-18T08:45:00.700000",
          "2023-04-18T08:45:20.700000",
          "2023-04-18T08:45:40.700000",
          "2023-04-18T08:46:00.700000",
          "2023-04-18T08:46:20.700000",
          "2023-04-18T08:46:40.700000",
          "2023-04-18T08:47:00.700000",
          "2023-04-18T08:47:20.700000",
          "2023-04-18T08:47:40.700000",
          "2023-04-18T08:48:00.700000",
          "2023-04-18T08:48:20.700000",
          "2023-04-18T08:48:40.700000",
          "2023-04-18T08:49:00.700000",
          "2023-04-18T08:49:20.700000",
          "2023-04-18T08:49:40.700000",
          "2023-04-18T08:50:00.700000",
          "2023-04-18T08:50:20.700000",
          "2023-04-18T08:50:40.700000",
          "2023-04-18T08:51:00.700000",
          "2023-04-18T08:51:20.700000",
          "2023-04-18T08:51:40.700000",
          "2023-04-18T08:52:00.700000",
          "2023-04-18T08:52:20.700000",
          "2023-04-18T08:52:40.700000",
          "2023-04-18T08:53:00.700000",
          "2023-04-18T08:53:20.700000",
          "2023-04-18T08:53:40.700000",
          "2023-04-18T08:54:00.700000",
          "2023-04-18T08:54:20.700000",
          "2023-04-18T08:54:40.700000",
          "2023-04-18T08:55:00.700000",
          "2023-04-18T08:55:20.700000",
          "2023-04-18T08:55:40.700000",
          "2023-04-18T08:56:00.700000",
          "2023-04-18T08:56:20.700000",
          "2023-04-18T08:56:40.700000",
          "2023-04-18T08:57:00.700000",
          "2023-04-18T08:57:20.700000",
          "2023-04-18T08:57:40.700000",
          "2023-04-18T08:58:00.700000",
          "2023-04-18T08:58:20.700000",
          "2023-04-18T08:58:40.700000",
          "2023-04-18T08:59:00.700000",
          "2023-04-18T08:59:20.700000",
          "2023-04-18T08:59:40.700000",
          "2023-04-18T09:00:00.700000"
         ],
         "y": [
          939.0996560150746,
          941.9517503165828,
          943.9652770552758,
          941.7642838040204,
          932.0108699547737,
          857.1165131262634,
          862.5716044020112,
          863.7990821557789,
          863.2854476080403,
          863.0023860703525,
          848.0285271005031,
          819.4420153768853,
          861.9750767437181,
          865.7455692311563,
          865.0375398341703,
          812.7740095075384,
          786.2289866834174,
          818.4712625212121,
          826.0200285252525,
          863.3781489035531,
          862.2834131005025,
          865.8217762576687,
          840.0019287638193,
          861.4622623919595,
          792.0889500552765,
          765.1851391206029,
          765.8502433265306,
          763.7554296281415,
          765.5953430050246,
          774.6169460854265,
          822.3643966130655,
          871.0655083969854,
          855.6198147889442,
          848.6381497035173,
          843.3047495778899,
          846.4638188894473,
          866.7868697135679,
          null,
          null,
          916.6327634782612,
          964.6311234623123,
          963.4061925226127,
          890.4599527939702,
          810.4966500854273,
          816.7264919949749,
          811.5313831979695,
          896.3933962914576,
          974.0943365482227,
          971.2837345260409,
          972.430739758794,
          971.1741737371134,
          974.2779653567834,
          974.1977628391959,
          974.6910878477161,
          979.7489631809043,
          904.9786688131312,
          903.656012443878,
          907.0546444371855,
          905.2397728492462,
          885.0079465527635,
          951.503904336683,
          974.7680735929644,
          890.375142287878,
          847.2921911155775,
          851.0890077286433,
          833.3821019648246,
          649.6708068274105,
          653.076707787878,
          646.7968714120591,
          1485.9713810854266,
          704.109501243523,
          714.345900525252,
          711.7290007929299,
          712.7462190653268,
          714.4685508190947,
          951.1871032311552,
          960.609672467742,
          975.0882710603016,
          1088.406917527638,
          1088.6520862663315,
          1064.6317702020197,
          896.8684512727273,
          895.5721347969547,
          893.0790949831453,
          1059.490683150753,
          1064.0412824020102,
          1064.4882385828564,
          1063.1533356482407,
          1063.9321490502507,
          1063.1988515477385,
          1061.3540899538452,
          1059.7170930603013,
          1051.4655550656555,
          1062.6605865175877,
          1063.2120750404029,
          1061.2853285252522,
          1060.1258117989944,
          1062.8203777135668,
          1069.1368064848482,
          1068.2874866633167,
          1066.9125405376883,
          1064.2378954874373,
          1062.3175541859298,
          1044.9303471155777,
          1045.4237745075384,
          1042.4876461269034,
          1043.8501128190949,
          1045.0835527386932,
          1046.6615312010042,
          1046.613350040201,
          529.5005892562816,
          789.4043586683416,
          2608.258390125627,
          2562.0950181306544,
          2511.2037481979687,
          2510.9171878939405,
          2316.0884185454543,
          2503.5933219346757,
          2491.175645261308,
          2466.8148772361806,
          2459.624870145729,
          2449.2655917070697,
          2442.1212600050253,
          2445.982412708542,
          2447.1083937185945,
          2438.1855476482438,
          2399.8238476231145,
          2417.6272387587924,
          2442.237098435898,
          2433.3783108894454,
          2412.4690425929657,
          2414.227665361809,
          2376.1154053065347,
          2379.031905768845,
          2385.521165065327,
          2385.956126604062,
          2360.5808681608037,
          2350.1336028643213,
          2207.4949249949764,
          2108.2308826080393,
          2105.475101436549,
          2086.182034550506,
          2111.1278841414146,
          2009.6329141457286,
          2004.566067874372,
          2021.790952356783,
          2019.2602240603012,
          2029.2501312828283,
          2031.5485325202008,
          2031.5545772894732,
          2028.8282471005027,
          2028.763400277776,
          2030.4960619045228,
          2052.9176683743594,
          2035.0884310301506,
          2022.8764883467343,
          2185.8361625025136,
          2214.084777648241,
          2155.0169258643227,
          2011.9074987373735,
          1966.1561504922279,
          1959.7353184923863,
          1974.014067145728,
          1977.7647556281393,
          1975.619844321608,
          1972.7342648542729,
          1986.5823265175889,
          1991.6520396482397,
          1775.6625745728643,
          1609.6697109145728,
          1974.5475465939091,
          1865.3235084536084,
          1972.3002619798979,
          1788.597670291457,
          1493.7712559447232,
          1951.0853830603012,
          2027.3143462929281,
          1930.7582373718599,
          1816.0208722562822,
          2024.860738206031
         ]
        },
        {
         "line": {
          "color": "green"
         },
         "name": "depth at 200bps",
         "type": "scatter",
         "x": [
          "2023-04-18T08:00:20.700000",
          "2023-04-18T08:00:40.700000",
          "2023-04-18T08:01:00.700000",
          "2023-04-18T08:01:20.700000",
          "2023-04-18T08:01:40.700000",
          "2023-04-18T08:02:00.700000",
          "2023-04-18T08:02:20.700000",
          "2023-04-18T08:02:40.700000",
          "2023-04-18T08:03:00.700000",
          "2023-04-18T08:03:20.700000",
          "2023-04-18T08:03:40.700000",
          "2023-04-18T08:04:00.700000",
          "2023-04-18T08:04:20.700000",
          "2023-04-18T08:04:40.700000",
          "2023-04-18T08:05:00.700000",
          "2023-04-18T08:05:20.700000",
          "2023-04-18T08:05:40.700000",
          "2023-04-18T08:06:00.700000",
          "2023-04-18T08:06:20.700000",
          "2023-04-18T08:06:40.700000",
          "2023-04-18T08:07:00.700000",
          "2023-04-18T08:07:20.700000",
          "2023-04-18T08:07:40.700000",
          "2023-04-18T08:08:00.700000",
          "2023-04-18T08:08:20.700000",
          "2023-04-18T08:08:40.700000",
          "2023-04-18T08:09:00.700000",
          "2023-04-18T08:09:20.700000",
          "2023-04-18T08:09:40.700000",
          "2023-04-18T08:10:00.700000",
          "2023-04-18T08:10:20.700000",
          "2023-04-18T08:10:40.700000",
          "2023-04-18T08:11:00.700000",
          "2023-04-18T08:11:20.700000",
          "2023-04-18T08:11:40.700000",
          "2023-04-18T08:12:00.700000",
          "2023-04-18T08:12:20.700000",
          "2023-04-18T08:12:40.700000",
          "2023-04-18T08:13:00.700000",
          "2023-04-18T08:13:20.700000",
          "2023-04-18T08:13:40.700000",
          "2023-04-18T08:14:00.700000",
          "2023-04-18T08:14:20.700000",
          "2023-04-18T08:14:40.700000",
          "2023-04-18T08:15:00.700000",
          "2023-04-18T08:15:20.700000",
          "2023-04-18T08:15:40.700000",
          "2023-04-18T08:16:00.700000",
          "2023-04-18T08:16:20.700000",
          "2023-04-18T08:16:40.700000",
          "2023-04-18T08:17:00.700000",
          "2023-04-18T08:17:20.700000",
          "2023-04-18T08:17:40.700000",
          "2023-04-18T08:18:00.700000",
          "2023-04-18T08:18:20.700000",
          "2023-04-18T08:18:40.700000",
          "2023-04-18T08:19:00.700000",
          "2023-04-18T08:19:20.700000",
          "2023-04-18T08:19:40.700000",
          "2023-04-18T08:20:00.700000",
          "2023-04-18T08:20:20.700000",
          "2023-04-18T08:20:40.700000",
          "2023-04-18T08:21:00.700000",
          "2023-04-18T08:21:20.700000",
          "2023-04-18T08:21:40.700000",
          "2023-04-18T08:22:00.700000",
          "2023-04-18T08:22:20.700000",
          "2023-04-18T08:22:40.700000",
          "2023-04-18T08:23:00.700000",
          "2023-04-18T08:23:20.700000",
          "2023-04-18T08:23:40.700000",
          "2023-04-18T08:24:00.700000",
          "2023-04-18T08:24:20.700000",
          "2023-04-18T08:24:40.700000",
          "2023-04-18T08:25:00.700000",
          "2023-04-18T08:25:20.700000",
          "2023-04-18T08:25:40.700000",
          "2023-04-18T08:26:00.700000",
          "2023-04-18T08:26:20.700000",
          "2023-04-18T08:26:40.700000",
          "2023-04-18T08:27:00.700000",
          "2023-04-18T08:27:20.700000",
          "2023-04-18T08:27:40.700000",
          "2023-04-18T08:28:00.700000",
          "2023-04-18T08:28:20.700000",
          "2023-04-18T08:28:40.700000",
          "2023-04-18T08:29:00.700000",
          "2023-04-18T08:29:20.700000",
          "2023-04-18T08:29:40.700000",
          "2023-04-18T08:30:00.700000",
          "2023-04-18T08:30:20.700000",
          "2023-04-18T08:30:40.700000",
          "2023-04-18T08:31:00.700000",
          "2023-04-18T08:31:20.700000",
          "2023-04-18T08:31:40.700000",
          "2023-04-18T08:32:00.700000",
          "2023-04-18T08:32:20.700000",
          "2023-04-18T08:32:40.700000",
          "2023-04-18T08:33:00.700000",
          "2023-04-18T08:33:20.700000",
          "2023-04-18T08:33:40.700000",
          "2023-04-18T08:34:00.700000",
          "2023-04-18T08:34:20.700000",
          "2023-04-18T08:34:40.700000",
          "2023-04-18T08:35:00.700000",
          "2023-04-18T08:35:20.700000",
          "2023-04-18T08:35:40.700000",
          "2023-04-18T08:36:00.700000",
          "2023-04-18T08:36:20.700000",
          "2023-04-18T08:36:40.700000",
          "2023-04-18T08:37:00.700000",
          "2023-04-18T08:37:20.700000",
          "2023-04-18T08:37:40.700000",
          "2023-04-18T08:38:00.700000",
          "2023-04-18T08:38:20.700000",
          "2023-04-18T08:38:40.700000",
          "2023-04-18T08:39:00.700000",
          "2023-04-18T08:39:20.700000",
          "2023-04-18T08:39:40.700000",
          "2023-04-18T08:40:00.700000",
          "2023-04-18T08:40:20.700000",
          "2023-04-18T08:40:40.700000",
          "2023-04-18T08:41:00.700000",
          "2023-04-18T08:41:20.700000",
          "2023-04-18T08:41:40.700000",
          "2023-04-18T08:42:00.700000",
          "2023-04-18T08:42:20.700000",
          "2023-04-18T08:42:40.700000",
          "2023-04-18T08:43:00.700000",
          "2023-04-18T08:43:20.700000",
          "2023-04-18T08:43:40.700000",
          "2023-04-18T08:44:00.700000",
          "2023-04-18T08:44:20.700000",
          "2023-04-18T08:44:40.700000",
          "2023-04-18T08:45:00.700000",
          "2023-04-18T08:45:20.700000",
          "2023-04-18T08:45:40.700000",
          "2023-04-18T08:46:00.700000",
          "2023-04-18T08:46:20.700000",
          "2023-04-18T08:46:40.700000",
          "2023-04-18T08:47:00.700000",
          "2023-04-18T08:47:20.700000",
          "2023-04-18T08:47:40.700000",
          "2023-04-18T08:48:00.700000",
          "2023-04-18T08:48:20.700000",
          "2023-04-18T08:48:40.700000",
          "2023-04-18T08:49:00.700000",
          "2023-04-18T08:49:20.700000",
          "2023-04-18T08:49:40.700000",
          "2023-04-18T08:50:00.700000",
          "2023-04-18T08:50:20.700000",
          "2023-04-18T08:50:40.700000",
          "2023-04-18T08:51:00.700000",
          "2023-04-18T08:51:20.700000",
          "2023-04-18T08:51:40.700000",
          "2023-04-18T08:52:00.700000",
          "2023-04-18T08:52:20.700000",
          "2023-04-18T08:52:40.700000",
          "2023-04-18T08:53:00.700000",
          "2023-04-18T08:53:20.700000",
          "2023-04-18T08:53:40.700000",
          "2023-04-18T08:54:00.700000",
          "2023-04-18T08:54:20.700000",
          "2023-04-18T08:54:40.700000",
          "2023-04-18T08:55:00.700000",
          "2023-04-18T08:55:20.700000",
          "2023-04-18T08:55:40.700000",
          "2023-04-18T08:56:00.700000",
          "2023-04-18T08:56:20.700000",
          "2023-04-18T08:56:40.700000",
          "2023-04-18T08:57:00.700000",
          "2023-04-18T08:57:20.700000",
          "2023-04-18T08:57:40.700000",
          "2023-04-18T08:58:00.700000",
          "2023-04-18T08:58:20.700000",
          "2023-04-18T08:58:40.700000",
          "2023-04-18T08:59:00.700000",
          "2023-04-18T08:59:20.700000",
          "2023-04-18T08:59:40.700000",
          "2023-04-18T09:00:00.700000"
         ],
         "y": [
          2398.6822946331645,
          2404.4537132160813,
          2407.008499889447,
          2404.668793798992,
          2406.1516188693463,
          2399.9430887020217,
          2405.1834086934696,
          2406.803379613066,
          2402.610283668342,
          2405.4852164271383,
          2405.474104613066,
          2400.768197130653,
          2404.582920834173,
          2408.3677997788946,
          2406.9491006482417,
          2405.781691477389,
          2407.745192045225,
          2407.615754048487,
          2408.0093285959615,
          2406.57564817259,
          2405.0823260753764,
          2384.439401423312,
          2389.214705497487,
          2397.778022909547,
          2297.5619667185942,
          2237.254859768844,
          2257.1968007040823,
          2256.07853571357,
          2251.1988849447243,
          2251.463525346736,
          2369.50619663819,
          2300.4104009698494,
          2208.3206603969875,
          2207.72385996985,
          2207.125729160805,
          2204.2289212914566,
          2208.5206866231156,
          null,
          null,
          2301.6330172608696,
          2312.5490780251253,
          2311.037971522614,
          1918.1810727336685,
          1444.3233333969843,
          1468.2765091658289,
          1456.0406632842637,
          1833.2723609597988,
          2375.9283423401016,
          2374.9827376406274,
          2384.2579580653282,
          2382.2328082731965,
          2383.838453949749,
          2382.7527958040205,
          2386.2903637411187,
          2390.6905226281424,
          2145.2180618888883,
          2105.340738142856,
          2414.9240126733694,
          2171.2719731206025,
          1555.486336738693,
          2597.436574035178,
          2363.4319444221087,
          1872.312724409091,
          2579.692245507539,
          2242.1510391859297,
          1851.0265097939696,
          1908.981607106599,
          1964.9360330656573,
          1856.216449246232,
          2574.2916064773863,
          3718.895794393784,
          3746.6479874141396,
          3741.8784594848476,
          3743.793429582912,
          3772.4573759095483,
          4340.838385618091,
          4371.373671344089,
          4529.751816497487,
          4546.311526949745,
          4548.770570180901,
          4529.185871388887,
          4489.62514132323,
          4491.561591928936,
          4501.251434971912,
          4491.142616115578,
          4498.074177552762,
          4500.327774228568,
          4500.912372105526,
          4501.3499249698425,
          4500.3470251959825,
          4487.177931825641,
          4485.044132562814,
          4477.655184676767,
          4501.343779582916,
          4501.090620464647,
          4498.293727282829,
          4498.038222492468,
          4497.888085507541,
          4513.701591676764,
          4511.84235776884,
          4496.537399793969,
          4470.378602944724,
          4472.162754592966,
          4476.435267683422,
          4476.621599904524,
          4473.994044852791,
          4474.022988386936,
          4476.9370751708575,
          4479.544706839197,
          4480.468955216082,
          3199.414557502513,
          2776.7910241809036,
          3329.271878407036,
          4308.9359604723595,
          4258.2260142385785,
          4269.172229601011,
          4403.695679535358,
          4668.093482663314,
          4655.675805989948,
          4631.336475693471,
          4624.146594517586,
          4615.6056885353555,
          4630.671689005028,
          4634.318462070351,
          4624.304338658287,
          4436.818248145729,
          4213.826306572867,
          4231.617788703518,
          4256.192567128204,
          4466.852531778894,
          4554.547157829148,
          4553.148760678393,
          4561.034616160807,
          4577.743153386935,
          4585.97839634171,
          4586.399114786804,
          4561.019044160801,
          4518.767817115575,
          4165.921512814068,
          4163.507070336683,
          4153.157208507612,
          4140.166894964645,
          4462.812928646463,
          4544.998284834169,
          4548.671999829146,
          4546.8977190201,
          4562.640805713568,
          4565.094165191919,
          4574.912508368686,
          4573.476064144737,
          4231.536120170856,
          4191.247482358584,
          4284.212296346731,
          4573.744197866663,
          4620.610709477385,
          4605.0604778995,
          4550.609275768846,
          4576.72363698493,
          4565.871738839193,
          4557.921732545455,
          4455.075543725391,
          4225.996223619286,
          4231.193984140704,
          4232.120724487433,
          4380.9172500904515,
          4564.82087160804,
          4583.988569854272,
          4594.795957371862,
          4279.327639190952,
          3480.036387015078,
          3528.0610646446717,
          3600.4810322010326,
          3467.736903462311,
          3140.6966833015076,
          3236.8971457638177,
          3468.0464259648243,
          3249.904897611112,
          3375.677510452261,
          3515.39650242211,
          3166.576593994973
         ]
        }
       ],
       "layout": {
        "legend": {
         "title": {
          "text": "Legend"
         }
        },
        "template": {
         "data": {
          "bar": [
           {
            "error_x": {
             "color": "#2a3f5f"
            },
            "error_y": {
             "color": "#2a3f5f"
            },
            "marker": {
             "line": {
              "color": "#E5ECF6",
              "width": 0.5
             },
             "pattern": {
              "fillmode": "overlay",
              "size": 10,
              "solidity": 0.2
             }
            },
            "type": "bar"
           }
          ],
          "barpolar": [
           {
            "marker": {
             "line": {
              "color": "#E5ECF6",
              "width": 0.5
             },
             "pattern": {
              "fillmode": "overlay",
              "size": 10,
              "solidity": 0.2
             }
            },
            "type": "barpolar"
           }
          ],
          "carpet": [
           {
            "aaxis": {
             "endlinecolor": "#2a3f5f",
             "gridcolor": "white",
             "linecolor": "white",
             "minorgridcolor": "white",
             "startlinecolor": "#2a3f5f"
            },
            "baxis": {
             "endlinecolor": "#2a3f5f",
             "gridcolor": "white",
             "linecolor": "white",
             "minorgridcolor": "white",
             "startlinecolor": "#2a3f5f"
            },
            "type": "carpet"
           }
          ],
          "choropleth": [
           {
            "colorbar": {
             "outlinewidth": 0,
             "ticks": ""
            },
            "type": "choropleth"
           }
          ],
          "contour": [
           {
            "colorbar": {
             "outlinewidth": 0,
             "ticks": ""
            },
            "colorscale": [
             [
              0,
              "#0d0887"
             ],
             [
              0.1111111111111111,
              "#46039f"
             ],
             [
              0.2222222222222222,
              "#7201a8"
             ],
             [
              0.3333333333333333,
              "#9c179e"
             ],
             [
              0.4444444444444444,
              "#bd3786"
             ],
             [
              0.5555555555555556,
              "#d8576b"
             ],
             [
              0.6666666666666666,
              "#ed7953"
             ],
             [
              0.7777777777777778,
              "#fb9f3a"
             ],
             [
              0.8888888888888888,
              "#fdca26"
             ],
             [
              1,
              "#f0f921"
             ]
            ],
            "type": "contour"
           }
          ],
          "contourcarpet": [
           {
            "colorbar": {
             "outlinewidth": 0,
             "ticks": ""
            },
            "type": "contourcarpet"
           }
          ],
          "heatmap": [
           {
            "colorbar": {
             "outlinewidth": 0,
             "ticks": ""
            },
            "colorscale": [
             [
              0,
              "#0d0887"
             ],
             [
              0.1111111111111111,
              "#46039f"
             ],
             [
              0.2222222222222222,
              "#7201a8"
             ],
             [
              0.3333333333333333,
              "#9c179e"
             ],
             [
              0.4444444444444444,
              "#bd3786"
             ],
             [
              0.5555555555555556,
              "#d8576b"
             ],
             [
              0.6666666666666666,
              "#ed7953"
             ],
             [
              0.7777777777777778,
              "#fb9f3a"
             ],
             [
              0.8888888888888888,
              "#fdca26"
             ],
             [
              1,
              "#f0f921"
             ]
            ],
            "type": "heatmap"
           }
          ],
          "heatmapgl": [
           {
            "colorbar": {
             "outlinewidth": 0,
             "ticks": ""
            },
            "colorscale": [
             [
              0,
              "#0d0887"
             ],
             [
              0.1111111111111111,
              "#46039f"
             ],
             [
              0.2222222222222222,
              "#7201a8"
             ],
             [
              0.3333333333333333,
              "#9c179e"
             ],
             [
              0.4444444444444444,
              "#bd3786"
             ],
             [
              0.5555555555555556,
              "#d8576b"
             ],
             [
              0.6666666666666666,
              "#ed7953"
             ],
             [
              0.7777777777777778,
              "#fb9f3a"
             ],
             [
              0.8888888888888888,
              "#fdca26"
             ],
             [
              1,
              "#f0f921"
             ]
            ],
            "type": "heatmapgl"
           }
          ],
          "histogram": [
           {
            "marker": {
             "pattern": {
              "fillmode": "overlay",
              "size": 10,
              "solidity": 0.2
             }
            },
            "type": "histogram"
           }
          ],
          "histogram2d": [
           {
            "colorbar": {
             "outlinewidth": 0,
             "ticks": ""
            },
            "colorscale": [
             [
              0,
              "#0d0887"
             ],
             [
              0.1111111111111111,
              "#46039f"
             ],
             [
              0.2222222222222222,
              "#7201a8"
             ],
             [
              0.3333333333333333,
              "#9c179e"
             ],
             [
              0.4444444444444444,
              "#bd3786"
             ],
             [
              0.5555555555555556,
              "#d8576b"
             ],
             [
              0.6666666666666666,
              "#ed7953"
             ],
             [
              0.7777777777777778,
              "#fb9f3a"
             ],
             [
              0.8888888888888888,
              "#fdca26"
             ],
             [
              1,
              "#f0f921"
             ]
            ],
            "type": "histogram2d"
           }
          ],
          "histogram2dcontour": [
           {
            "colorbar": {
             "outlinewidth": 0,
             "ticks": ""
            },
            "colorscale": [
             [
              0,
              "#0d0887"
             ],
             [
              0.1111111111111111,
              "#46039f"
             ],
             [
              0.2222222222222222,
              "#7201a8"
             ],
             [
              0.3333333333333333,
              "#9c179e"
             ],
             [
              0.4444444444444444,
              "#bd3786"
             ],
             [
              0.5555555555555556,
              "#d8576b"
             ],
             [
              0.6666666666666666,
              "#ed7953"
             ],
             [
              0.7777777777777778,
              "#fb9f3a"
             ],
             [
              0.8888888888888888,
              "#fdca26"
             ],
             [
              1,
              "#f0f921"
             ]
            ],
            "type": "histogram2dcontour"
           }
          ],
          "mesh3d": [
           {
            "colorbar": {
             "outlinewidth": 0,
             "ticks": ""
            },
            "type": "mesh3d"
           }
          ],
          "parcoords": [
           {
            "line": {
             "colorbar": {
              "outlinewidth": 0,
              "ticks": ""
             }
            },
            "type": "parcoords"
           }
          ],
          "pie": [
           {
            "automargin": true,
            "type": "pie"
           }
          ],
          "scatter": [
           {
            "fillpattern": {
             "fillmode": "overlay",
             "size": 10,
             "solidity": 0.2
            },
            "type": "scatter"
           }
          ],
          "scatter3d": [
           {
            "line": {
             "colorbar": {
              "outlinewidth": 0,
              "ticks": ""
             }
            },
            "marker": {
             "colorbar": {
              "outlinewidth": 0,
              "ticks": ""
             }
            },
            "type": "scatter3d"
           }
          ],
          "scattercarpet": [
           {
            "marker": {
             "colorbar": {
              "outlinewidth": 0,
              "ticks": ""
             }
            },
            "type": "scattercarpet"
           }
          ],
          "scattergeo": [
           {
            "marker": {
             "colorbar": {
              "outlinewidth": 0,
              "ticks": ""
             }
            },
            "type": "scattergeo"
           }
          ],
          "scattergl": [
           {
            "marker": {
             "colorbar": {
              "outlinewidth": 0,
              "ticks": ""
             }
            },
            "type": "scattergl"
           }
          ],
          "scattermapbox": [
           {
            "marker": {
             "colorbar": {
              "outlinewidth": 0,
              "ticks": ""
             }
            },
            "type": "scattermapbox"
           }
          ],
          "scatterpolar": [
           {
            "marker": {
             "colorbar": {
              "outlinewidth": 0,
              "ticks": ""
             }
            },
            "type": "scatterpolar"
           }
          ],
          "scatterpolargl": [
           {
            "marker": {
             "colorbar": {
              "outlinewidth": 0,
              "ticks": ""
             }
            },
            "type": "scatterpolargl"
           }
          ],
          "scatterternary": [
           {
            "marker": {
             "colorbar": {
              "outlinewidth": 0,
              "ticks": ""
             }
            },
            "type": "scatterternary"
           }
          ],
          "surface": [
           {
            "colorbar": {
             "outlinewidth": 0,
             "ticks": ""
            },
            "colorscale": [
             [
              0,
              "#0d0887"
             ],
             [
              0.1111111111111111,
              "#46039f"
             ],
             [
              0.2222222222222222,
              "#7201a8"
             ],
             [
              0.3333333333333333,
              "#9c179e"
             ],
             [
              0.4444444444444444,
              "#bd3786"
             ],
             [
              0.5555555555555556,
              "#d8576b"
             ],
             [
              0.6666666666666666,
              "#ed7953"
             ],
             [
              0.7777777777777778,
              "#fb9f3a"
             ],
             [
              0.8888888888888888,
              "#fdca26"
             ],
             [
              1,
              "#f0f921"
             ]
            ],
            "type": "surface"
           }
          ],
          "table": [
           {
            "cells": {
             "fill": {
              "color": "#EBF0F8"
             },
             "line": {
              "color": "white"
             }
            },
            "header": {
             "fill": {
              "color": "#C8D4E3"
             },
             "line": {
              "color": "white"
             }
            },
            "type": "table"
           }
          ]
         },
         "layout": {
          "annotationdefaults": {
           "arrowcolor": "#2a3f5f",
           "arrowhead": 0,
           "arrowwidth": 1
          },
          "autotypenumbers": "strict",
          "coloraxis": {
           "colorbar": {
            "outlinewidth": 0,
            "ticks": ""
           }
          },
          "colorscale": {
           "diverging": [
            [
             0,
             "#8e0152"
            ],
            [
             0.1,
             "#c51b7d"
            ],
            [
             0.2,
             "#de77ae"
            ],
            [
             0.3,
             "#f1b6da"
            ],
            [
             0.4,
             "#fde0ef"
            ],
            [
             0.5,
             "#f7f7f7"
            ],
            [
             0.6,
             "#e6f5d0"
            ],
            [
             0.7,
             "#b8e186"
            ],
            [
             0.8,
             "#7fbc41"
            ],
            [
             0.9,
             "#4d9221"
            ],
            [
             1,
             "#276419"
            ]
           ],
           "sequential": [
            [
             0,
             "#0d0887"
            ],
            [
             0.1111111111111111,
             "#46039f"
            ],
            [
             0.2222222222222222,
             "#7201a8"
            ],
            [
             0.3333333333333333,
             "#9c179e"
            ],
            [
             0.4444444444444444,
             "#bd3786"
            ],
            [
             0.5555555555555556,
             "#d8576b"
            ],
            [
             0.6666666666666666,
             "#ed7953"
            ],
            [
             0.7777777777777778,
             "#fb9f3a"
            ],
            [
             0.8888888888888888,
             "#fdca26"
            ],
            [
             1,
             "#f0f921"
            ]
           ],
           "sequentialminus": [
            [
             0,
             "#0d0887"
            ],
            [
             0.1111111111111111,
             "#46039f"
            ],
            [
             0.2222222222222222,
             "#7201a8"
            ],
            [
             0.3333333333333333,
             "#9c179e"
            ],
            [
             0.4444444444444444,
             "#bd3786"
            ],
            [
             0.5555555555555556,
             "#d8576b"
            ],
            [
             0.6666666666666666,
             "#ed7953"
            ],
            [
             0.7777777777777778,
             "#fb9f3a"
            ],
            [
             0.8888888888888888,
             "#fdca26"
            ],
            [
             1,
             "#f0f921"
            ]
           ]
          },
          "colorway": [
           "#636efa",
           "#EF553B",
           "#00cc96",
           "#ab63fa",
           "#FFA15A",
           "#19d3f3",
           "#FF6692",
           "#B6E880",
           "#FF97FF",
           "#FECB52"
          ],
          "font": {
           "color": "#2a3f5f"
          },
          "geo": {
           "bgcolor": "white",
           "lakecolor": "white",
           "landcolor": "#E5ECF6",
           "showlakes": true,
           "showland": true,
           "subunitcolor": "white"
          },
          "hoverlabel": {
           "align": "left"
          },
          "hovermode": "closest",
          "mapbox": {
           "style": "light"
          },
          "paper_bgcolor": "white",
          "plot_bgcolor": "#E5ECF6",
          "polar": {
           "angularaxis": {
            "gridcolor": "white",
            "linecolor": "white",
            "ticks": ""
           },
           "bgcolor": "#E5ECF6",
           "radialaxis": {
            "gridcolor": "white",
            "linecolor": "white",
            "ticks": ""
           }
          },
          "scene": {
           "xaxis": {
            "backgroundcolor": "#E5ECF6",
            "gridcolor": "white",
            "gridwidth": 2,
            "linecolor": "white",
            "showbackground": true,
            "ticks": "",
            "zerolinecolor": "white"
           },
           "yaxis": {
            "backgroundcolor": "#E5ECF6",
            "gridcolor": "white",
            "gridwidth": 2,
            "linecolor": "white",
            "showbackground": true,
            "ticks": "",
            "zerolinecolor": "white"
           },
           "zaxis": {
            "backgroundcolor": "#E5ECF6",
            "gridcolor": "white",
            "gridwidth": 2,
            "linecolor": "white",
            "showbackground": true,
            "ticks": "",
            "zerolinecolor": "white"
           }
          },
          "shapedefaults": {
           "line": {
            "color": "#2a3f5f"
           }
          },
          "ternary": {
           "aaxis": {
            "gridcolor": "white",
            "linecolor": "white",
            "ticks": ""
           },
           "baxis": {
            "gridcolor": "white",
            "linecolor": "white",
            "ticks": ""
           },
           "bgcolor": "#E5ECF6",
           "caxis": {
            "gridcolor": "white",
            "linecolor": "white",
            "ticks": ""
           }
          },
          "title": {
           "x": 0.05
          },
          "xaxis": {
           "automargin": true,
           "gridcolor": "white",
           "linecolor": "white",
           "ticks": "",
           "title": {
            "standoff": 15
           },
           "zerolinecolor": "white",
           "zerolinewidth": 2
          },
          "yaxis": {
           "automargin": true,
           "gridcolor": "white",
           "linecolor": "white",
           "ticks": "",
           "title": {
            "standoff": 15
           },
           "zerolinecolor": "white",
           "zerolinewidth": 2
          }
         }
        },
        "title": {
         "text": "Orderbook depth GRAIL-USDT on Gate.io"
        },
        "xaxis": {
         "dtick": 60000,
         "ticklabelmode": "period",
         "title": {
          "text": "Datetime_HKT"
         }
        },
        "yaxis": {
         "title": {
          "text": "Notional"
         }
        }
       }
      },
      "text/html": [
       "<div>                            <div id=\"7c97750c-2ef1-4b81-90e5-2b51ff88a06b\" class=\"plotly-graph-div\" style=\"height:525px; width:100%;\"></div>            <script type=\"text/javascript\">                require([\"plotly\"], function(Plotly) {                    window.PLOTLYENV=window.PLOTLYENV || {};                                    if (document.getElementById(\"7c97750c-2ef1-4b81-90e5-2b51ff88a06b\")) {                    Plotly.newPlot(                        \"7c97750c-2ef1-4b81-90e5-2b51ff88a06b\",                        [{\"line\":{\"color\":\"firebrick\"},\"name\":\"depth at 50bps\",\"x\":[\"2023-04-18T08:00:20.700000\",\"2023-04-18T08:00:40.700000\",\"2023-04-18T08:01:00.700000\",\"2023-04-18T08:01:20.700000\",\"2023-04-18T08:01:40.700000\",\"2023-04-18T08:02:00.700000\",\"2023-04-18T08:02:20.700000\",\"2023-04-18T08:02:40.700000\",\"2023-04-18T08:03:00.700000\",\"2023-04-18T08:03:20.700000\",\"2023-04-18T08:03:40.700000\",\"2023-04-18T08:04:00.700000\",\"2023-04-18T08:04:20.700000\",\"2023-04-18T08:04:40.700000\",\"2023-04-18T08:05:00.700000\",\"2023-04-18T08:05:20.700000\",\"2023-04-18T08:05:40.700000\",\"2023-04-18T08:06:00.700000\",\"2023-04-18T08:06:20.700000\",\"2023-04-18T08:06:40.700000\",\"2023-04-18T08:07:00.700000\",\"2023-04-18T08:07:20.700000\",\"2023-04-18T08:07:40.700000\",\"2023-04-18T08:08:00.700000\",\"2023-04-18T08:08:20.700000\",\"2023-04-18T08:08:40.700000\",\"2023-04-18T08:09:00.700000\",\"2023-04-18T08:09:20.700000\",\"2023-04-18T08:09:40.700000\",\"2023-04-18T08:10:00.700000\",\"2023-04-18T08:10:20.700000\",\"2023-04-18T08:10:40.700000\",\"2023-04-18T08:11:00.700000\",\"2023-04-18T08:11:20.700000\",\"2023-04-18T08:11:40.700000\",\"2023-04-18T08:12:00.700000\",\"2023-04-18T08:12:20.700000\",\"2023-04-18T08:12:40.700000\",\"2023-04-18T08:13:00.700000\",\"2023-04-18T08:13:20.700000\",\"2023-04-18T08:13:40.700000\",\"2023-04-18T08:14:00.700000\",\"2023-04-18T08:14:20.700000\",\"2023-04-18T08:14:40.700000\",\"2023-04-18T08:15:00.700000\",\"2023-04-18T08:15:20.700000\",\"2023-04-18T08:15:40.700000\",\"2023-04-18T08:16:00.700000\",\"2023-04-18T08:16:20.700000\",\"2023-04-18T08:16:40.700000\",\"2023-04-18T08:17:00.700000\",\"2023-04-18T08:17:20.700000\",\"2023-04-18T08:17:40.700000\",\"2023-04-18T08:18:00.700000\",\"2023-04-18T08:18:20.700000\",\"2023-04-18T08:18:40.700000\",\"2023-04-18T08:19:00.700000\",\"2023-04-18T08:19:20.700000\",\"2023-04-18T08:19:40.700000\",\"2023-04-18T08:20:00.700000\",\"2023-04-18T08:20:20.700000\",\"2023-04-18T08:20:40.700000\",\"2023-04-18T08:21:00.700000\",\"2023-04-18T08:21:20.700000\",\"2023-04-18T08:21:40.700000\",\"2023-04-18T08:22:00.700000\",\"2023-04-18T08:22:20.700000\",\"2023-04-18T08:22:40.700000\",\"2023-04-18T08:23:00.700000\",\"2023-04-18T08:23:20.700000\",\"2023-04-18T08:23:40.700000\",\"2023-04-18T08:24:00.700000\",\"2023-04-18T08:24:20.700000\",\"2023-04-18T08:24:40.700000\",\"2023-04-18T08:25:00.700000\",\"2023-04-18T08:25:20.700000\",\"2023-04-18T08:25:40.700000\",\"2023-04-18T08:26:00.700000\",\"2023-04-18T08:26:20.700000\",\"2023-04-18T08:26:40.700000\",\"2023-04-18T08:27:00.700000\",\"2023-04-18T08:27:20.700000\",\"2023-04-18T08:27:40.700000\",\"2023-04-18T08:28:00.700000\",\"2023-04-18T08:28:20.700000\",\"2023-04-18T08:28:40.700000\",\"2023-04-18T08:29:00.700000\",\"2023-04-18T08:29:20.700000\",\"2023-04-18T08:29:40.700000\",\"2023-04-18T08:30:00.700000\",\"2023-04-18T08:30:20.700000\",\"2023-04-18T08:30:40.700000\",\"2023-04-18T08:31:00.700000\",\"2023-04-18T08:31:20.700000\",\"2023-04-18T08:31:40.700000\",\"2023-04-18T08:32:00.700000\",\"2023-04-18T08:32:20.700000\",\"2023-04-18T08:32:40.700000\",\"2023-04-18T08:33:00.700000\",\"2023-04-18T08:33:20.700000\",\"2023-04-18T08:33:40.700000\",\"2023-04-18T08:34:00.700000\",\"2023-04-18T08:34:20.700000\",\"2023-04-18T08:34:40.700000\",\"2023-04-18T08:35:00.700000\",\"2023-04-18T08:35:20.700000\",\"2023-04-18T08:35:40.700000\",\"2023-04-18T08:36:00.700000\",\"2023-04-18T08:36:20.700000\",\"2023-04-18T08:36:40.700000\",\"2023-04-18T08:37:00.700000\",\"2023-04-18T08:37:20.700000\",\"2023-04-18T08:37:40.700000\",\"2023-04-18T08:38:00.700000\",\"2023-04-18T08:38:20.700000\",\"2023-04-18T08:38:40.700000\",\"2023-04-18T08:39:00.700000\",\"2023-04-18T08:39:20.700000\",\"2023-04-18T08:39:40.700000\",\"2023-04-18T08:40:00.700000\",\"2023-04-18T08:40:20.700000\",\"2023-04-18T08:40:40.700000\",\"2023-04-18T08:41:00.700000\",\"2023-04-18T08:41:20.700000\",\"2023-04-18T08:41:40.700000\",\"2023-04-18T08:42:00.700000\",\"2023-04-18T08:42:20.700000\",\"2023-04-18T08:42:40.700000\",\"2023-04-18T08:43:00.700000\",\"2023-04-18T08:43:20.700000\",\"2023-04-18T08:43:40.700000\",\"2023-04-18T08:44:00.700000\",\"2023-04-18T08:44:20.700000\",\"2023-04-18T08:44:40.700000\",\"2023-04-18T08:45:00.700000\",\"2023-04-18T08:45:20.700000\",\"2023-04-18T08:45:40.700000\",\"2023-04-18T08:46:00.700000\",\"2023-04-18T08:46:20.700000\",\"2023-04-18T08:46:40.700000\",\"2023-04-18T08:47:00.700000\",\"2023-04-18T08:47:20.700000\",\"2023-04-18T08:47:40.700000\",\"2023-04-18T08:48:00.700000\",\"2023-04-18T08:48:20.700000\",\"2023-04-18T08:48:40.700000\",\"2023-04-18T08:49:00.700000\",\"2023-04-18T08:49:20.700000\",\"2023-04-18T08:49:40.700000\",\"2023-04-18T08:50:00.700000\",\"2023-04-18T08:50:20.700000\",\"2023-04-18T08:50:40.700000\",\"2023-04-18T08:51:00.700000\",\"2023-04-18T08:51:20.700000\",\"2023-04-18T08:51:40.700000\",\"2023-04-18T08:52:00.700000\",\"2023-04-18T08:52:20.700000\",\"2023-04-18T08:52:40.700000\",\"2023-04-18T08:53:00.700000\",\"2023-04-18T08:53:20.700000\",\"2023-04-18T08:53:40.700000\",\"2023-04-18T08:54:00.700000\",\"2023-04-18T08:54:20.700000\",\"2023-04-18T08:54:40.700000\",\"2023-04-18T08:55:00.700000\",\"2023-04-18T08:55:20.700000\",\"2023-04-18T08:55:40.700000\",\"2023-04-18T08:56:00.700000\",\"2023-04-18T08:56:20.700000\",\"2023-04-18T08:56:40.700000\",\"2023-04-18T08:57:00.700000\",\"2023-04-18T08:57:20.700000\",\"2023-04-18T08:57:40.700000\",\"2023-04-18T08:58:00.700000\",\"2023-04-18T08:58:20.700000\",\"2023-04-18T08:58:40.700000\",\"2023-04-18T08:59:00.700000\",\"2023-04-18T08:59:20.700000\",\"2023-04-18T08:59:40.700000\",\"2023-04-18T09:00:00.700000\"],\"y\":[720.4356177839198,720.6311981507533,721.8577070100504,720.0671491105528,719.8112449346729,719.8284126868687,719.3629774673361,720.1036484321605,719.5939199547737,719.3143616984933,718.9999548542712,719.4079997939699,719.2781509195978,722.0712514723621,720.8213102814074,720.745538170854,721.653694517588,721.1359166424248,721.5292985909092,720.7237645736031,719.1318918140709,718.7733784049077,720.3186376130652,718.3169224422106,719.6045799547744,604.695282688442,549.3909913265304,547.2961776281414,549.1360910050247,550.0283070502508,548.2817127738695,548.1098173969855,550.3640777336683,550.2510514924618,543.4399249899498,547.02044101005,550.9644299748745,null,null,551.583048,541.8643783869348,547.4681288492461,553.3573417839199,553.5936125628139,551.4724781356784,538.5483222487306,650.8904756331657,782.1973966040603,779.6753574114582,779.9926228542714,779.8378695773192,782.6420603768847,782.297994582914,782.5220100761425,782.3221640100497,754.4797162828283,732.8692333571427,738.5003897336684,740.7437473366828,722.9768998492465,763.2532421507532,769.3482208040198,760.1191072020198,758.6214519547731,762.4173438643215,764.8486879045222,557.8497962588826,559.4171934696974,551.3577536834167,351.14629078894427,626.1182943834193,642.9982965252519,640.3813967929285,641.3986150653262,643.1209468190949,652.9550555025119,628.0271975053757,802.197521286432,833.5389309296488,834.1008266733668,822.1560015303025,812.1543492424236,811.5133127969543,809.0202729831466,975.4318611507542,979.9824604020101,980.4294165828579,979.0945136482408,979.8733270502515,976.7982417386935,944.0084269538459,942.3714300603019,934.1198920656566,945.3149235175881,945.8664120404046,943.9396655252522,942.7801487989948,945.474714713568,951.7911434848486,950.9418236633163,949.5668775376884,946.8922324874367,951.5177983216076,951.7075641155782,952.2009915075378,949.2648631269036,950.627329819096,951.8607697386933,953.4387482010053,953.3905670402008,520.1314653366835,506.26918561809043,1054.5664210000004,2424.9087881306546,2374.0175181979685,2373.73095789394,2193.0586756818184,2368.4060539346733,2355.988377261306,2331.627609236182,2324.437602145728,2299.5523725959592,2127.1753470050253,2131.0364997085403,2132.162480718591,2123.2396346482415,2084.8779346231167,2097.0281440502517,2068.081545435897,2059.222757889448,2038.3134895929657,2040.0721123618098,2027.2147258743712,2006.9316265778898,1968.2911411909527,1969.297363614213,1963.7588711608037,1953.3116058643216,1952.6863285175868,1847.8314046733676,1845.4669155126905,1821.5834082676756,1847.73248050505,1749.2406711457284,1744.173824874372,1761.3987093567841,1743.7599688994972,1741.4944712828287,1743.7928725202023,1743.798917289473,1741.0725871005034,1741.0077402777792,1734.6744714321603,1762.7946499641034,1737.3699550552753,1737.9653822964815,1743.0340803869358,1745.3337571608058,1740.9459413718605,1732.863251040404,1734.2646953471494,1730.1839673654817,1730.9577780351754,1735.8456889447225,1722.0680790050267,1729.6879213015072,1733.10697717588,1749.1434733819103,1596.5322658693472,1156.8671237839196,1205.419978634517,1251.6917850000002,1267.9839539296477,1041.6868695628139,1236.6060121909536,1285.3111062311564,1141.3819217979794,1207.9899172914577,1276.8373230703523,1247.6287555778888],\"type\":\"scatter\"},{\"line\":{\"color\":\"blue\"},\"name\":\"depth at 100bps\",\"x\":[\"2023-04-18T08:00:20.700000\",\"2023-04-18T08:00:40.700000\",\"2023-04-18T08:01:00.700000\",\"2023-04-18T08:01:20.700000\",\"2023-04-18T08:01:40.700000\",\"2023-04-18T08:02:00.700000\",\"2023-04-18T08:02:20.700000\",\"2023-04-18T08:02:40.700000\",\"2023-04-18T08:03:00.700000\",\"2023-04-18T08:03:20.700000\",\"2023-04-18T08:03:40.700000\",\"2023-04-18T08:04:00.700000\",\"2023-04-18T08:04:20.700000\",\"2023-04-18T08:04:40.700000\",\"2023-04-18T08:05:00.700000\",\"2023-04-18T08:05:20.700000\",\"2023-04-18T08:05:40.700000\",\"2023-04-18T08:06:00.700000\",\"2023-04-18T08:06:20.700000\",\"2023-04-18T08:06:40.700000\",\"2023-04-18T08:07:00.700000\",\"2023-04-18T08:07:20.700000\",\"2023-04-18T08:07:40.700000\",\"2023-04-18T08:08:00.700000\",\"2023-04-18T08:08:20.700000\",\"2023-04-18T08:08:40.700000\",\"2023-04-18T08:09:00.700000\",\"2023-04-18T08:09:20.700000\",\"2023-04-18T08:09:40.700000\",\"2023-04-18T08:10:00.700000\",\"2023-04-18T08:10:20.700000\",\"2023-04-18T08:10:40.700000\",\"2023-04-18T08:11:00.700000\",\"2023-04-18T08:11:20.700000\",\"2023-04-18T08:11:40.700000\",\"2023-04-18T08:12:00.700000\",\"2023-04-18T08:12:20.700000\",\"2023-04-18T08:12:40.700000\",\"2023-04-18T08:13:00.700000\",\"2023-04-18T08:13:20.700000\",\"2023-04-18T08:13:40.700000\",\"2023-04-18T08:14:00.700000\",\"2023-04-18T08:14:20.700000\",\"2023-04-18T08:14:40.700000\",\"2023-04-18T08:15:00.700000\",\"2023-04-18T08:15:20.700000\",\"2023-04-18T08:15:40.700000\",\"2023-04-18T08:16:00.700000\",\"2023-04-18T08:16:20.700000\",\"2023-04-18T08:16:40.700000\",\"2023-04-18T08:17:00.700000\",\"2023-04-18T08:17:20.700000\",\"2023-04-18T08:17:40.700000\",\"2023-04-18T08:18:00.700000\",\"2023-04-18T08:18:20.700000\",\"2023-04-18T08:18:40.700000\",\"2023-04-18T08:19:00.700000\",\"2023-04-18T08:19:20.700000\",\"2023-04-18T08:19:40.700000\",\"2023-04-18T08:20:00.700000\",\"2023-04-18T08:20:20.700000\",\"2023-04-18T08:20:40.700000\",\"2023-04-18T08:21:00.700000\",\"2023-04-18T08:21:20.700000\",\"2023-04-18T08:21:40.700000\",\"2023-04-18T08:22:00.700000\",\"2023-04-18T08:22:20.700000\",\"2023-04-18T08:22:40.700000\",\"2023-04-18T08:23:00.700000\",\"2023-04-18T08:23:20.700000\",\"2023-04-18T08:23:40.700000\",\"2023-04-18T08:24:00.700000\",\"2023-04-18T08:24:20.700000\",\"2023-04-18T08:24:40.700000\",\"2023-04-18T08:25:00.700000\",\"2023-04-18T08:25:20.700000\",\"2023-04-18T08:25:40.700000\",\"2023-04-18T08:26:00.700000\",\"2023-04-18T08:26:20.700000\",\"2023-04-18T08:26:40.700000\",\"2023-04-18T08:27:00.700000\",\"2023-04-18T08:27:20.700000\",\"2023-04-18T08:27:40.700000\",\"2023-04-18T08:28:00.700000\",\"2023-04-18T08:28:20.700000\",\"2023-04-18T08:28:40.700000\",\"2023-04-18T08:29:00.700000\",\"2023-04-18T08:29:20.700000\",\"2023-04-18T08:29:40.700000\",\"2023-04-18T08:30:00.700000\",\"2023-04-18T08:30:20.700000\",\"2023-04-18T08:30:40.700000\",\"2023-04-18T08:31:00.700000\",\"2023-04-18T08:31:20.700000\",\"2023-04-18T08:31:40.700000\",\"2023-04-18T08:32:00.700000\",\"2023-04-18T08:32:20.700000\",\"2023-04-18T08:32:40.700000\",\"2023-04-18T08:33:00.700000\",\"2023-04-18T08:33:20.700000\",\"2023-04-18T08:33:40.700000\",\"2023-04-18T08:34:00.700000\",\"2023-04-18T08:34:20.700000\",\"2023-04-18T08:34:40.700000\",\"2023-04-18T08:35:00.700000\",\"2023-04-18T08:35:20.700000\",\"2023-04-18T08:35:40.700000\",\"2023-04-18T08:36:00.700000\",\"2023-04-18T08:36:20.700000\",\"2023-04-18T08:36:40.700000\",\"2023-04-18T08:37:00.700000\",\"2023-04-18T08:37:20.700000\",\"2023-04-18T08:37:40.700000\",\"2023-04-18T08:38:00.700000\",\"2023-04-18T08:38:20.700000\",\"2023-04-18T08:38:40.700000\",\"2023-04-18T08:39:00.700000\",\"2023-04-18T08:39:20.700000\",\"2023-04-18T08:39:40.700000\",\"2023-04-18T08:40:00.700000\",\"2023-04-18T08:40:20.700000\",\"2023-04-18T08:40:40.700000\",\"2023-04-18T08:41:00.700000\",\"2023-04-18T08:41:20.700000\",\"2023-04-18T08:41:40.700000\",\"2023-04-18T08:42:00.700000\",\"2023-04-18T08:42:20.700000\",\"2023-04-18T08:42:40.700000\",\"2023-04-18T08:43:00.700000\",\"2023-04-18T08:43:20.700000\",\"2023-04-18T08:43:40.700000\",\"2023-04-18T08:44:00.700000\",\"2023-04-18T08:44:20.700000\",\"2023-04-18T08:44:40.700000\",\"2023-04-18T08:45:00.700000\",\"2023-04-18T08:45:20.700000\",\"2023-04-18T08:45:40.700000\",\"2023-04-18T08:46:00.700000\",\"2023-04-18T08:46:20.700000\",\"2023-04-18T08:46:40.700000\",\"2023-04-18T08:47:00.700000\",\"2023-04-18T08:47:20.700000\",\"2023-04-18T08:47:40.700000\",\"2023-04-18T08:48:00.700000\",\"2023-04-18T08:48:20.700000\",\"2023-04-18T08:48:40.700000\",\"2023-04-18T08:49:00.700000\",\"2023-04-18T08:49:20.700000\",\"2023-04-18T08:49:40.700000\",\"2023-04-18T08:50:00.700000\",\"2023-04-18T08:50:20.700000\",\"2023-04-18T08:50:40.700000\",\"2023-04-18T08:51:00.700000\",\"2023-04-18T08:51:20.700000\",\"2023-04-18T08:51:40.700000\",\"2023-04-18T08:52:00.700000\",\"2023-04-18T08:52:20.700000\",\"2023-04-18T08:52:40.700000\",\"2023-04-18T08:53:00.700000\",\"2023-04-18T08:53:20.700000\",\"2023-04-18T08:53:40.700000\",\"2023-04-18T08:54:00.700000\",\"2023-04-18T08:54:20.700000\",\"2023-04-18T08:54:40.700000\",\"2023-04-18T08:55:00.700000\",\"2023-04-18T08:55:20.700000\",\"2023-04-18T08:55:40.700000\",\"2023-04-18T08:56:00.700000\",\"2023-04-18T08:56:20.700000\",\"2023-04-18T08:56:40.700000\",\"2023-04-18T08:57:00.700000\",\"2023-04-18T08:57:20.700000\",\"2023-04-18T08:57:40.700000\",\"2023-04-18T08:58:00.700000\",\"2023-04-18T08:58:20.700000\",\"2023-04-18T08:58:40.700000\",\"2023-04-18T08:59:00.700000\",\"2023-04-18T08:59:20.700000\",\"2023-04-18T08:59:40.700000\",\"2023-04-18T09:00:00.700000\"],\"y\":[939.0996560150746,941.9517503165828,943.9652770552758,941.7642838040204,932.0108699547737,857.1165131262634,862.5716044020112,863.7990821557789,863.2854476080403,863.0023860703525,848.0285271005031,819.4420153768853,861.9750767437181,865.7455692311563,865.0375398341703,812.7740095075384,786.2289866834174,818.4712625212121,826.0200285252525,863.3781489035531,862.2834131005025,865.8217762576687,840.0019287638193,861.4622623919595,792.0889500552765,765.1851391206029,765.8502433265306,763.7554296281415,765.5953430050246,774.6169460854265,822.3643966130655,871.0655083969854,855.6198147889442,848.6381497035173,843.3047495778899,846.4638188894473,866.7868697135679,null,null,916.6327634782612,964.6311234623123,963.4061925226127,890.4599527939702,810.4966500854273,816.7264919949749,811.5313831979695,896.3933962914576,974.0943365482227,971.2837345260409,972.430739758794,971.1741737371134,974.2779653567834,974.1977628391959,974.6910878477161,979.7489631809043,904.9786688131312,903.656012443878,907.0546444371855,905.2397728492462,885.0079465527635,951.503904336683,974.7680735929644,890.375142287878,847.2921911155775,851.0890077286433,833.3821019648246,649.6708068274105,653.076707787878,646.7968714120591,1485.9713810854266,704.109501243523,714.345900525252,711.7290007929299,712.7462190653268,714.4685508190947,951.1871032311552,960.609672467742,975.0882710603016,1088.406917527638,1088.6520862663315,1064.6317702020197,896.8684512727273,895.5721347969547,893.0790949831453,1059.490683150753,1064.0412824020102,1064.4882385828564,1063.1533356482407,1063.9321490502507,1063.1988515477385,1061.3540899538452,1059.7170930603013,1051.4655550656555,1062.6605865175877,1063.2120750404029,1061.2853285252522,1060.1258117989944,1062.8203777135668,1069.1368064848482,1068.2874866633167,1066.9125405376883,1064.2378954874373,1062.3175541859298,1044.9303471155777,1045.4237745075384,1042.4876461269034,1043.8501128190949,1045.0835527386932,1046.6615312010042,1046.613350040201,529.5005892562816,789.4043586683416,2608.258390125627,2562.0950181306544,2511.2037481979687,2510.9171878939405,2316.0884185454543,2503.5933219346757,2491.175645261308,2466.8148772361806,2459.624870145729,2449.2655917070697,2442.1212600050253,2445.982412708542,2447.1083937185945,2438.1855476482438,2399.8238476231145,2417.6272387587924,2442.237098435898,2433.3783108894454,2412.4690425929657,2414.227665361809,2376.1154053065347,2379.031905768845,2385.521165065327,2385.956126604062,2360.5808681608037,2350.1336028643213,2207.4949249949764,2108.2308826080393,2105.475101436549,2086.182034550506,2111.1278841414146,2009.6329141457286,2004.566067874372,2021.790952356783,2019.2602240603012,2029.2501312828283,2031.5485325202008,2031.5545772894732,2028.8282471005027,2028.763400277776,2030.4960619045228,2052.9176683743594,2035.0884310301506,2022.8764883467343,2185.8361625025136,2214.084777648241,2155.0169258643227,2011.9074987373735,1966.1561504922279,1959.7353184923863,1974.014067145728,1977.7647556281393,1975.619844321608,1972.7342648542729,1986.5823265175889,1991.6520396482397,1775.6625745728643,1609.6697109145728,1974.5475465939091,1865.3235084536084,1972.3002619798979,1788.597670291457,1493.7712559447232,1951.0853830603012,2027.3143462929281,1930.7582373718599,1816.0208722562822,2024.860738206031],\"type\":\"scatter\"},{\"line\":{\"color\":\"green\"},\"name\":\"depth at 200bps\",\"x\":[\"2023-04-18T08:00:20.700000\",\"2023-04-18T08:00:40.700000\",\"2023-04-18T08:01:00.700000\",\"2023-04-18T08:01:20.700000\",\"2023-04-18T08:01:40.700000\",\"2023-04-18T08:02:00.700000\",\"2023-04-18T08:02:20.700000\",\"2023-04-18T08:02:40.700000\",\"2023-04-18T08:03:00.700000\",\"2023-04-18T08:03:20.700000\",\"2023-04-18T08:03:40.700000\",\"2023-04-18T08:04:00.700000\",\"2023-04-18T08:04:20.700000\",\"2023-04-18T08:04:40.700000\",\"2023-04-18T08:05:00.700000\",\"2023-04-18T08:05:20.700000\",\"2023-04-18T08:05:40.700000\",\"2023-04-18T08:06:00.700000\",\"2023-04-18T08:06:20.700000\",\"2023-04-18T08:06:40.700000\",\"2023-04-18T08:07:00.700000\",\"2023-04-18T08:07:20.700000\",\"2023-04-18T08:07:40.700000\",\"2023-04-18T08:08:00.700000\",\"2023-04-18T08:08:20.700000\",\"2023-04-18T08:08:40.700000\",\"2023-04-18T08:09:00.700000\",\"2023-04-18T08:09:20.700000\",\"2023-04-18T08:09:40.700000\",\"2023-04-18T08:10:00.700000\",\"2023-04-18T08:10:20.700000\",\"2023-04-18T08:10:40.700000\",\"2023-04-18T08:11:00.700000\",\"2023-04-18T08:11:20.700000\",\"2023-04-18T08:11:40.700000\",\"2023-04-18T08:12:00.700000\",\"2023-04-18T08:12:20.700000\",\"2023-04-18T08:12:40.700000\",\"2023-04-18T08:13:00.700000\",\"2023-04-18T08:13:20.700000\",\"2023-04-18T08:13:40.700000\",\"2023-04-18T08:14:00.700000\",\"2023-04-18T08:14:20.700000\",\"2023-04-18T08:14:40.700000\",\"2023-04-18T08:15:00.700000\",\"2023-04-18T08:15:20.700000\",\"2023-04-18T08:15:40.700000\",\"2023-04-18T08:16:00.700000\",\"2023-04-18T08:16:20.700000\",\"2023-04-18T08:16:40.700000\",\"2023-04-18T08:17:00.700000\",\"2023-04-18T08:17:20.700000\",\"2023-04-18T08:17:40.700000\",\"2023-04-18T08:18:00.700000\",\"2023-04-18T08:18:20.700000\",\"2023-04-18T08:18:40.700000\",\"2023-04-18T08:19:00.700000\",\"2023-04-18T08:19:20.700000\",\"2023-04-18T08:19:40.700000\",\"2023-04-18T08:20:00.700000\",\"2023-04-18T08:20:20.700000\",\"2023-04-18T08:20:40.700000\",\"2023-04-18T08:21:00.700000\",\"2023-04-18T08:21:20.700000\",\"2023-04-18T08:21:40.700000\",\"2023-04-18T08:22:00.700000\",\"2023-04-18T08:22:20.700000\",\"2023-04-18T08:22:40.700000\",\"2023-04-18T08:23:00.700000\",\"2023-04-18T08:23:20.700000\",\"2023-04-18T08:23:40.700000\",\"2023-04-18T08:24:00.700000\",\"2023-04-18T08:24:20.700000\",\"2023-04-18T08:24:40.700000\",\"2023-04-18T08:25:00.700000\",\"2023-04-18T08:25:20.700000\",\"2023-04-18T08:25:40.700000\",\"2023-04-18T08:26:00.700000\",\"2023-04-18T08:26:20.700000\",\"2023-04-18T08:26:40.700000\",\"2023-04-18T08:27:00.700000\",\"2023-04-18T08:27:20.700000\",\"2023-04-18T08:27:40.700000\",\"2023-04-18T08:28:00.700000\",\"2023-04-18T08:28:20.700000\",\"2023-04-18T08:28:40.700000\",\"2023-04-18T08:29:00.700000\",\"2023-04-18T08:29:20.700000\",\"2023-04-18T08:29:40.700000\",\"2023-04-18T08:30:00.700000\",\"2023-04-18T08:30:20.700000\",\"2023-04-18T08:30:40.700000\",\"2023-04-18T08:31:00.700000\",\"2023-04-18T08:31:20.700000\",\"2023-04-18T08:31:40.700000\",\"2023-04-18T08:32:00.700000\",\"2023-04-18T08:32:20.700000\",\"2023-04-18T08:32:40.700000\",\"2023-04-18T08:33:00.700000\",\"2023-04-18T08:33:20.700000\",\"2023-04-18T08:33:40.700000\",\"2023-04-18T08:34:00.700000\",\"2023-04-18T08:34:20.700000\",\"2023-04-18T08:34:40.700000\",\"2023-04-18T08:35:00.700000\",\"2023-04-18T08:35:20.700000\",\"2023-04-18T08:35:40.700000\",\"2023-04-18T08:36:00.700000\",\"2023-04-18T08:36:20.700000\",\"2023-04-18T08:36:40.700000\",\"2023-04-18T08:37:00.700000\",\"2023-04-18T08:37:20.700000\",\"2023-04-18T08:37:40.700000\",\"2023-04-18T08:38:00.700000\",\"2023-04-18T08:38:20.700000\",\"2023-04-18T08:38:40.700000\",\"2023-04-18T08:39:00.700000\",\"2023-04-18T08:39:20.700000\",\"2023-04-18T08:39:40.700000\",\"2023-04-18T08:40:00.700000\",\"2023-04-18T08:40:20.700000\",\"2023-04-18T08:40:40.700000\",\"2023-04-18T08:41:00.700000\",\"2023-04-18T08:41:20.700000\",\"2023-04-18T08:41:40.700000\",\"2023-04-18T08:42:00.700000\",\"2023-04-18T08:42:20.700000\",\"2023-04-18T08:42:40.700000\",\"2023-04-18T08:43:00.700000\",\"2023-04-18T08:43:20.700000\",\"2023-04-18T08:43:40.700000\",\"2023-04-18T08:44:00.700000\",\"2023-04-18T08:44:20.700000\",\"2023-04-18T08:44:40.700000\",\"2023-04-18T08:45:00.700000\",\"2023-04-18T08:45:20.700000\",\"2023-04-18T08:45:40.700000\",\"2023-04-18T08:46:00.700000\",\"2023-04-18T08:46:20.700000\",\"2023-04-18T08:46:40.700000\",\"2023-04-18T08:47:00.700000\",\"2023-04-18T08:47:20.700000\",\"2023-04-18T08:47:40.700000\",\"2023-04-18T08:48:00.700000\",\"2023-04-18T08:48:20.700000\",\"2023-04-18T08:48:40.700000\",\"2023-04-18T08:49:00.700000\",\"2023-04-18T08:49:20.700000\",\"2023-04-18T08:49:40.700000\",\"2023-04-18T08:50:00.700000\",\"2023-04-18T08:50:20.700000\",\"2023-04-18T08:50:40.700000\",\"2023-04-18T08:51:00.700000\",\"2023-04-18T08:51:20.700000\",\"2023-04-18T08:51:40.700000\",\"2023-04-18T08:52:00.700000\",\"2023-04-18T08:52:20.700000\",\"2023-04-18T08:52:40.700000\",\"2023-04-18T08:53:00.700000\",\"2023-04-18T08:53:20.700000\",\"2023-04-18T08:53:40.700000\",\"2023-04-18T08:54:00.700000\",\"2023-04-18T08:54:20.700000\",\"2023-04-18T08:54:40.700000\",\"2023-04-18T08:55:00.700000\",\"2023-04-18T08:55:20.700000\",\"2023-04-18T08:55:40.700000\",\"2023-04-18T08:56:00.700000\",\"2023-04-18T08:56:20.700000\",\"2023-04-18T08:56:40.700000\",\"2023-04-18T08:57:00.700000\",\"2023-04-18T08:57:20.700000\",\"2023-04-18T08:57:40.700000\",\"2023-04-18T08:58:00.700000\",\"2023-04-18T08:58:20.700000\",\"2023-04-18T08:58:40.700000\",\"2023-04-18T08:59:00.700000\",\"2023-04-18T08:59:20.700000\",\"2023-04-18T08:59:40.700000\",\"2023-04-18T09:00:00.700000\"],\"y\":[2398.6822946331645,2404.4537132160813,2407.008499889447,2404.668793798992,2406.1516188693463,2399.9430887020217,2405.1834086934696,2406.803379613066,2402.610283668342,2405.4852164271383,2405.474104613066,2400.768197130653,2404.582920834173,2408.3677997788946,2406.9491006482417,2405.781691477389,2407.745192045225,2407.615754048487,2408.0093285959615,2406.57564817259,2405.0823260753764,2384.439401423312,2389.214705497487,2397.778022909547,2297.5619667185942,2237.254859768844,2257.1968007040823,2256.07853571357,2251.1988849447243,2251.463525346736,2369.50619663819,2300.4104009698494,2208.3206603969875,2207.72385996985,2207.125729160805,2204.2289212914566,2208.5206866231156,null,null,2301.6330172608696,2312.5490780251253,2311.037971522614,1918.1810727336685,1444.3233333969843,1468.2765091658289,1456.0406632842637,1833.2723609597988,2375.9283423401016,2374.9827376406274,2384.2579580653282,2382.2328082731965,2383.838453949749,2382.7527958040205,2386.2903637411187,2390.6905226281424,2145.2180618888883,2105.340738142856,2414.9240126733694,2171.2719731206025,1555.486336738693,2597.436574035178,2363.4319444221087,1872.312724409091,2579.692245507539,2242.1510391859297,1851.0265097939696,1908.981607106599,1964.9360330656573,1856.216449246232,2574.2916064773863,3718.895794393784,3746.6479874141396,3741.8784594848476,3743.793429582912,3772.4573759095483,4340.838385618091,4371.373671344089,4529.751816497487,4546.311526949745,4548.770570180901,4529.185871388887,4489.62514132323,4491.561591928936,4501.251434971912,4491.142616115578,4498.074177552762,4500.327774228568,4500.912372105526,4501.3499249698425,4500.3470251959825,4487.177931825641,4485.044132562814,4477.655184676767,4501.343779582916,4501.090620464647,4498.293727282829,4498.038222492468,4497.888085507541,4513.701591676764,4511.84235776884,4496.537399793969,4470.378602944724,4472.162754592966,4476.435267683422,4476.621599904524,4473.994044852791,4474.022988386936,4476.9370751708575,4479.544706839197,4480.468955216082,3199.414557502513,2776.7910241809036,3329.271878407036,4308.9359604723595,4258.2260142385785,4269.172229601011,4403.695679535358,4668.093482663314,4655.675805989948,4631.336475693471,4624.146594517586,4615.6056885353555,4630.671689005028,4634.318462070351,4624.304338658287,4436.818248145729,4213.826306572867,4231.617788703518,4256.192567128204,4466.852531778894,4554.547157829148,4553.148760678393,4561.034616160807,4577.743153386935,4585.97839634171,4586.399114786804,4561.019044160801,4518.767817115575,4165.921512814068,4163.507070336683,4153.157208507612,4140.166894964645,4462.812928646463,4544.998284834169,4548.671999829146,4546.8977190201,4562.640805713568,4565.094165191919,4574.912508368686,4573.476064144737,4231.536120170856,4191.247482358584,4284.212296346731,4573.744197866663,4620.610709477385,4605.0604778995,4550.609275768846,4576.72363698493,4565.871738839193,4557.921732545455,4455.075543725391,4225.996223619286,4231.193984140704,4232.120724487433,4380.9172500904515,4564.82087160804,4583.988569854272,4594.795957371862,4279.327639190952,3480.036387015078,3528.0610646446717,3600.4810322010326,3467.736903462311,3140.6966833015076,3236.8971457638177,3468.0464259648243,3249.904897611112,3375.677510452261,3515.39650242211,3166.576593994973],\"type\":\"scatter\"}],                        {\"template\":{\"data\":{\"histogram2dcontour\":[{\"type\":\"histogram2dcontour\",\"colorbar\":{\"outlinewidth\":0,\"ticks\":\"\"},\"colorscale\":[[0.0,\"#0d0887\"],[0.1111111111111111,\"#46039f\"],[0.2222222222222222,\"#7201a8\"],[0.3333333333333333,\"#9c179e\"],[0.4444444444444444,\"#bd3786\"],[0.5555555555555556,\"#d8576b\"],[0.6666666666666666,\"#ed7953\"],[0.7777777777777778,\"#fb9f3a\"],[0.8888888888888888,\"#fdca26\"],[1.0,\"#f0f921\"]]}],\"choropleth\":[{\"type\":\"choropleth\",\"colorbar\":{\"outlinewidth\":0,\"ticks\":\"\"}}],\"histogram2d\":[{\"type\":\"histogram2d\",\"colorbar\":{\"outlinewidth\":0,\"ticks\":\"\"},\"colorscale\":[[0.0,\"#0d0887\"],[0.1111111111111111,\"#46039f\"],[0.2222222222222222,\"#7201a8\"],[0.3333333333333333,\"#9c179e\"],[0.4444444444444444,\"#bd3786\"],[0.5555555555555556,\"#d8576b\"],[0.6666666666666666,\"#ed7953\"],[0.7777777777777778,\"#fb9f3a\"],[0.8888888888888888,\"#fdca26\"],[1.0,\"#f0f921\"]]}],\"heatmap\":[{\"type\":\"heatmap\",\"colorbar\":{\"outlinewidth\":0,\"ticks\":\"\"},\"colorscale\":[[0.0,\"#0d0887\"],[0.1111111111111111,\"#46039f\"],[0.2222222222222222,\"#7201a8\"],[0.3333333333333333,\"#9c179e\"],[0.4444444444444444,\"#bd3786\"],[0.5555555555555556,\"#d8576b\"],[0.6666666666666666,\"#ed7953\"],[0.7777777777777778,\"#fb9f3a\"],[0.8888888888888888,\"#fdca26\"],[1.0,\"#f0f921\"]]}],\"heatmapgl\":[{\"type\":\"heatmapgl\",\"colorbar\":{\"outlinewidth\":0,\"ticks\":\"\"},\"colorscale\":[[0.0,\"#0d0887\"],[0.1111111111111111,\"#46039f\"],[0.2222222222222222,\"#7201a8\"],[0.3333333333333333,\"#9c179e\"],[0.4444444444444444,\"#bd3786\"],[0.5555555555555556,\"#d8576b\"],[0.6666666666666666,\"#ed7953\"],[0.7777777777777778,\"#fb9f3a\"],[0.8888888888888888,\"#fdca26\"],[1.0,\"#f0f921\"]]}],\"contourcarpet\":[{\"type\":\"contourcarpet\",\"colorbar\":{\"outlinewidth\":0,\"ticks\":\"\"}}],\"contour\":[{\"type\":\"contour\",\"colorbar\":{\"outlinewidth\":0,\"ticks\":\"\"},\"colorscale\":[[0.0,\"#0d0887\"],[0.1111111111111111,\"#46039f\"],[0.2222222222222222,\"#7201a8\"],[0.3333333333333333,\"#9c179e\"],[0.4444444444444444,\"#bd3786\"],[0.5555555555555556,\"#d8576b\"],[0.6666666666666666,\"#ed7953\"],[0.7777777777777778,\"#fb9f3a\"],[0.8888888888888888,\"#fdca26\"],[1.0,\"#f0f921\"]]}],\"surface\":[{\"type\":\"surface\",\"colorbar\":{\"outlinewidth\":0,\"ticks\":\"\"},\"colorscale\":[[0.0,\"#0d0887\"],[0.1111111111111111,\"#46039f\"],[0.2222222222222222,\"#7201a8\"],[0.3333333333333333,\"#9c179e\"],[0.4444444444444444,\"#bd3786\"],[0.5555555555555556,\"#d8576b\"],[0.6666666666666666,\"#ed7953\"],[0.7777777777777778,\"#fb9f3a\"],[0.8888888888888888,\"#fdca26\"],[1.0,\"#f0f921\"]]}],\"mesh3d\":[{\"type\":\"mesh3d\",\"colorbar\":{\"outlinewidth\":0,\"ticks\":\"\"}}],\"scatter\":[{\"fillpattern\":{\"fillmode\":\"overlay\",\"size\":10,\"solidity\":0.2},\"type\":\"scatter\"}],\"parcoords\":[{\"type\":\"parcoords\",\"line\":{\"colorbar\":{\"outlinewidth\":0,\"ticks\":\"\"}}}],\"scatterpolargl\":[{\"type\":\"scatterpolargl\",\"marker\":{\"colorbar\":{\"outlinewidth\":0,\"ticks\":\"\"}}}],\"bar\":[{\"error_x\":{\"color\":\"#2a3f5f\"},\"error_y\":{\"color\":\"#2a3f5f\"},\"marker\":{\"line\":{\"color\":\"#E5ECF6\",\"width\":0.5},\"pattern\":{\"fillmode\":\"overlay\",\"size\":10,\"solidity\":0.2}},\"type\":\"bar\"}],\"scattergeo\":[{\"type\":\"scattergeo\",\"marker\":{\"colorbar\":{\"outlinewidth\":0,\"ticks\":\"\"}}}],\"scatterpolar\":[{\"type\":\"scatterpolar\",\"marker\":{\"colorbar\":{\"outlinewidth\":0,\"ticks\":\"\"}}}],\"histogram\":[{\"marker\":{\"pattern\":{\"fillmode\":\"overlay\",\"size\":10,\"solidity\":0.2}},\"type\":\"histogram\"}],\"scattergl\":[{\"type\":\"scattergl\",\"marker\":{\"colorbar\":{\"outlinewidth\":0,\"ticks\":\"\"}}}],\"scatter3d\":[{\"type\":\"scatter3d\",\"line\":{\"colorbar\":{\"outlinewidth\":0,\"ticks\":\"\"}},\"marker\":{\"colorbar\":{\"outlinewidth\":0,\"ticks\":\"\"}}}],\"scattermapbox\":[{\"type\":\"scattermapbox\",\"marker\":{\"colorbar\":{\"outlinewidth\":0,\"ticks\":\"\"}}}],\"scatterternary\":[{\"type\":\"scatterternary\",\"marker\":{\"colorbar\":{\"outlinewidth\":0,\"ticks\":\"\"}}}],\"scattercarpet\":[{\"type\":\"scattercarpet\",\"marker\":{\"colorbar\":{\"outlinewidth\":0,\"ticks\":\"\"}}}],\"carpet\":[{\"aaxis\":{\"endlinecolor\":\"#2a3f5f\",\"gridcolor\":\"white\",\"linecolor\":\"white\",\"minorgridcolor\":\"white\",\"startlinecolor\":\"#2a3f5f\"},\"baxis\":{\"endlinecolor\":\"#2a3f5f\",\"gridcolor\":\"white\",\"linecolor\":\"white\",\"minorgridcolor\":\"white\",\"startlinecolor\":\"#2a3f5f\"},\"type\":\"carpet\"}],\"table\":[{\"cells\":{\"fill\":{\"color\":\"#EBF0F8\"},\"line\":{\"color\":\"white\"}},\"header\":{\"fill\":{\"color\":\"#C8D4E3\"},\"line\":{\"color\":\"white\"}},\"type\":\"table\"}],\"barpolar\":[{\"marker\":{\"line\":{\"color\":\"#E5ECF6\",\"width\":0.5},\"pattern\":{\"fillmode\":\"overlay\",\"size\":10,\"solidity\":0.2}},\"type\":\"barpolar\"}],\"pie\":[{\"automargin\":true,\"type\":\"pie\"}]},\"layout\":{\"autotypenumbers\":\"strict\",\"colorway\":[\"#636efa\",\"#EF553B\",\"#00cc96\",\"#ab63fa\",\"#FFA15A\",\"#19d3f3\",\"#FF6692\",\"#B6E880\",\"#FF97FF\",\"#FECB52\"],\"font\":{\"color\":\"#2a3f5f\"},\"hovermode\":\"closest\",\"hoverlabel\":{\"align\":\"left\"},\"paper_bgcolor\":\"white\",\"plot_bgcolor\":\"#E5ECF6\",\"polar\":{\"bgcolor\":\"#E5ECF6\",\"angularaxis\":{\"gridcolor\":\"white\",\"linecolor\":\"white\",\"ticks\":\"\"},\"radialaxis\":{\"gridcolor\":\"white\",\"linecolor\":\"white\",\"ticks\":\"\"}},\"ternary\":{\"bgcolor\":\"#E5ECF6\",\"aaxis\":{\"gridcolor\":\"white\",\"linecolor\":\"white\",\"ticks\":\"\"},\"baxis\":{\"gridcolor\":\"white\",\"linecolor\":\"white\",\"ticks\":\"\"},\"caxis\":{\"gridcolor\":\"white\",\"linecolor\":\"white\",\"ticks\":\"\"}},\"coloraxis\":{\"colorbar\":{\"outlinewidth\":0,\"ticks\":\"\"}},\"colorscale\":{\"sequential\":[[0.0,\"#0d0887\"],[0.1111111111111111,\"#46039f\"],[0.2222222222222222,\"#7201a8\"],[0.3333333333333333,\"#9c179e\"],[0.4444444444444444,\"#bd3786\"],[0.5555555555555556,\"#d8576b\"],[0.6666666666666666,\"#ed7953\"],[0.7777777777777778,\"#fb9f3a\"],[0.8888888888888888,\"#fdca26\"],[1.0,\"#f0f921\"]],\"sequentialminus\":[[0.0,\"#0d0887\"],[0.1111111111111111,\"#46039f\"],[0.2222222222222222,\"#7201a8\"],[0.3333333333333333,\"#9c179e\"],[0.4444444444444444,\"#bd3786\"],[0.5555555555555556,\"#d8576b\"],[0.6666666666666666,\"#ed7953\"],[0.7777777777777778,\"#fb9f3a\"],[0.8888888888888888,\"#fdca26\"],[1.0,\"#f0f921\"]],\"diverging\":[[0,\"#8e0152\"],[0.1,\"#c51b7d\"],[0.2,\"#de77ae\"],[0.3,\"#f1b6da\"],[0.4,\"#fde0ef\"],[0.5,\"#f7f7f7\"],[0.6,\"#e6f5d0\"],[0.7,\"#b8e186\"],[0.8,\"#7fbc41\"],[0.9,\"#4d9221\"],[1,\"#276419\"]]},\"xaxis\":{\"gridcolor\":\"white\",\"linecolor\":\"white\",\"ticks\":\"\",\"title\":{\"standoff\":15},\"zerolinecolor\":\"white\",\"automargin\":true,\"zerolinewidth\":2},\"yaxis\":{\"gridcolor\":\"white\",\"linecolor\":\"white\",\"ticks\":\"\",\"title\":{\"standoff\":15},\"zerolinecolor\":\"white\",\"automargin\":true,\"zerolinewidth\":2},\"scene\":{\"xaxis\":{\"backgroundcolor\":\"#E5ECF6\",\"gridcolor\":\"white\",\"linecolor\":\"white\",\"showbackground\":true,\"ticks\":\"\",\"zerolinecolor\":\"white\",\"gridwidth\":2},\"yaxis\":{\"backgroundcolor\":\"#E5ECF6\",\"gridcolor\":\"white\",\"linecolor\":\"white\",\"showbackground\":true,\"ticks\":\"\",\"zerolinecolor\":\"white\",\"gridwidth\":2},\"zaxis\":{\"backgroundcolor\":\"#E5ECF6\",\"gridcolor\":\"white\",\"linecolor\":\"white\",\"showbackground\":true,\"ticks\":\"\",\"zerolinecolor\":\"white\",\"gridwidth\":2}},\"shapedefaults\":{\"line\":{\"color\":\"#2a3f5f\"}},\"annotationdefaults\":{\"arrowcolor\":\"#2a3f5f\",\"arrowhead\":0,\"arrowwidth\":1},\"geo\":{\"bgcolor\":\"white\",\"landcolor\":\"#E5ECF6\",\"subunitcolor\":\"white\",\"showland\":true,\"showlakes\":true,\"lakecolor\":\"white\"},\"title\":{\"x\":0.05},\"mapbox\":{\"style\":\"light\"}}},\"xaxis\":{\"dtick\":60000,\"ticklabelmode\":\"period\",\"title\":{\"text\":\"Datetime_HKT\"}},\"title\":{\"text\":\"Orderbook depth GRAIL-USDT on Gate.io\"},\"yaxis\":{\"title\":{\"text\":\"Notional\"}},\"legend\":{\"title\":{\"text\":\"Legend\"}}},                        {\"responsive\": true}                    ).then(function(){\n",
       "                            \n",
       "var gd = document.getElementById('7c97750c-2ef1-4b81-90e5-2b51ff88a06b');\n",
       "var x = new MutationObserver(function (mutations, observer) {{\n",
       "        var display = window.getComputedStyle(gd).display;\n",
       "        if (!display || display === 'none') {{\n",
       "            console.log([gd, 'removed!']);\n",
       "            Plotly.purge(gd);\n",
       "            observer.disconnect();\n",
       "        }}\n",
       "}});\n",
       "\n",
       "// Listen for the removal of the full notebook cells\n",
       "var notebookContainer = gd.closest('#notebook-container');\n",
       "if (notebookContainer) {{\n",
       "    x.observe(notebookContainer, {childList: true});\n",
       "}}\n",
       "\n",
       "// Listen for the clearing of the current output cell\n",
       "var outputEl = gd.closest('.output');\n",
       "if (outputEl) {{\n",
       "    x.observe(outputEl, {childList: true});\n",
       "}}\n",
       "\n",
       "                        })                };                });            </script>        </div>"
      ]
     },
     "metadata": {},
     "output_type": "display_data"
    }
   ],
   "source": [
    "if __name__ == '__main__':\n",
    "    # sample input historical_orderbook(symbol = \"\", start_date= date(), end_date = date(), postgres_db_name = '').main() \n",
    "    df_slip = analytics().get_slippage(inst_type = 'SPOT', symbol=\"GRAIL-USDT\", interval='20',start_time='2022-07-08 23:59:59', end_time='2022-07-20 23:59:59',exchange = \"GT\", notional = 500)\n",
    "    fig = go.Figure()\n",
    "    symbol = \"GRAIL-USDT\"\n",
    "    exchange = \"Gate.io\"\n",
    "    v = pd.to_datetime(df_slip['datetime_HKT']).tolist()\n",
    "\n",
    "    fig.add_trace(go.Scatter(x=v, y=df_slip[\"buy_slippage\"].values.tolist(),\n",
    "                    line=dict(color='firebrick'), name = \"buy_slippage\"\n",
    "                ))\n",
    "    fig.add_trace(go.Scatter(x=v, y=df_slip[\"mean_buy_slippage\"].values.tolist(),\n",
    "                    line=dict(dash='dash', color='firebrick'), name = \"mean_buy_slippage\"\n",
    "                ))\n",
    "    fig.add_trace(go.Scatter(x=v, y=df_slip[\"sell_slippage\"].values.tolist(),\n",
    "                    line=dict(color='blue'), name = \"sell_slippage\"\n",
    "                ))\n",
    "    fig.add_trace(go.Scatter(x=v, y=df_slip[\"mean_sell_slippage\"].values.tolist(),\n",
    "                    line=dict(dash='dash', color='blue'), name = \"mean_sell_slippage\"\n",
    "                ))\n",
    "\n",
    "    fig.update_layout(title = \"Price Slippage \"+symbol+\" on \"+exchange, xaxis_title=\"Datetime_HKT\",\n",
    "        yaxis_title=\"Slippage(%)\")\n",
    "    fig.update_xaxes(\n",
    "        dtick=60*1000,ticklabelmode=\"period\")\n",
    "    fig.show()\n",
    "    # fig.write_image(\"slippage.png\")\n",
    "    s = analytics().get_spread(inst_type = 'SPOT', symbol=\"YFII-USDT\", interval='20',start_time='2022-07-08 23:59:59', end_time='2022-07-20 23:59:59',exchange = \"GT\")\n",
    "    fig = px.line(s[[\"datetime_HKT\",\"spread\",\"mean_spread\"]], x= \"datetime_HKT\", y= s[[\"datetime_HKT\",\"spread\",\"mean_spread\"]].columns,\n",
    "                labels = { \"value\":\"bid-ask spread(%)\", \"spread\":\"\", \"datetime_HKT\":\"Time\"},\n",
    "              title='Bid-Ask spread '+symbol+' on '+exchange)\n",
    "    fig.update_xaxes(\n",
    "        dtick=60*1000,\n",
    "        ticklabelmode=\"period\")\n",
    "    fig.show()\n",
    "    depth = analytics().get_depth(inst_type = 'SPOT', symbol=\"YFII-USDT\", interval='20',start_time='2022-07-08 08:00:00', end_time='2022-07-25 00:00:00',exchange = \"GT\")\n",
    "    fig = go.Figure()\n",
    "    v = pd.to_datetime(depth['datetime_HKT']).tolist()\n",
    "    fig.add_trace(go.Scatter(x=v, y=depth[\"total_volume50\"].values.tolist(),\n",
    "                    line=dict(color='firebrick'), name = \"depth at 50bps\"\n",
    "                ))\n",
    "    fig.add_trace(go.Scatter(x=v, y=depth[\"total_volume100\"].values.tolist(),\n",
    "                    line=dict(color='blue'), name = \"depth at 100bps\"\n",
    "                ))\n",
    "    fig.add_trace(go.Scatter(x=v, y=depth[\"total_volume200\"].values.tolist(),\n",
    "                    line=dict(color='green'), name =\"depth at 200bps\"\n",
    "                ))\n",
    "    \n",
    "    fig.update_xaxes(\n",
    "        dtick=60*1000,\n",
    "        ticklabelmode=\"period\")\n",
    "\n",
    "    fig.update_layout(title = \"Orderbook depth \"+symbol+\" on \"+exchange, xaxis_title=\"Datetime_HKT\",\n",
    "        yaxis_title=\"Notional\",legend_title=\"Legend\")\n",
    "        \n",
    "    fig.show()"
   ]
  }
 ],
 "metadata": {
  "colab": {
   "provenance": []
  },
  "kernelspec": {
   "display_name": "Python 3",
   "language": "python",
   "name": "python3"
  },
  "language_info": {
   "codemirror_mode": {
    "name": "ipython",
    "version": 3
   },
   "file_extension": ".py",
   "mimetype": "text/x-python",
   "name": "python",
   "nbconvert_exporter": "python",
   "pygments_lexer": "ipython3",
   "version": "3.7.10"
  }
 },
 "nbformat": 4,
 "nbformat_minor": 1
}
