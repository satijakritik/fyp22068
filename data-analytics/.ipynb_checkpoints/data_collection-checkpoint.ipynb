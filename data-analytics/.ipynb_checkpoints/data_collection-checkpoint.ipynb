{
 "cells": [
  {
   "cell_type": "code",
   "execution_count": 1,
   "metadata": {
    "id": "bSzTs59i05FS"
   },
   "outputs": [],
   "source": [
    "import requests\n",
    "import json\n",
    "import os\n",
    "import datetime\n",
    "from typing import List, Dict\n",
    "import pandas as pd\n",
    "import pytz\n",
    "import requests\n",
    "import sys,os\n",
    "import time\n",
    "import socket\n",
    "import pandas as pd\n",
    "import numpy as np\n",
    "import pytz\n",
    "from tqdm import tqdm"
   ]
  },
  {
   "cell_type": "code",
   "execution_count": 2,
   "metadata": {
    "colab": {
     "base_uri": "https://localhost:8080/"
    },
    "id": "WtIi6n6Sinrf",
    "outputId": "17e2cc70-6733-4b76-8422-8f517f7bbd68"
   },
   "outputs": [
    {
     "name": "stdout",
     "output_type": "stream",
     "text": [
      "https://download.gatedata.org/spot/orderbooks/202304/GRAIL_USDT-2023041800.csv.gz\n"
     ]
    }
   ],
   "source": [
    "single_date = datetime.datetime.utcfromtimestamp(time.time())\n",
    "symbol = 'GRAIL-USDT'\n",
    "hour = 0\n",
    "column__ = ['timestamp', 'datetime_HKT', 'datetime_GMT', 'market_id', 'market', 'symbol'] + [j+\"_\"+str(i)+\"_\"+z for j in [\"ask\",\"bid\"] for z in [\"px\",\"qty\"] for i in range(0,20)]\n",
    "column__temp = ['timestamp','market_id', 'market', 'symbol'] + [j+\"_\"+str(i)+\"_\"+z for j in [\"ask\",\"bid\"] for z in [\"px\",\"qty\"] for i in range(0,20)]\n",
    "url = \"https://download.gatedata.org\"+\"/spot/orderbooks/\"+ single_date.strftime(\"%Y%m\")+\"/\"+symbol.replace(\"-\",\"_\")+\"-\"+single_date.strftime(\"%Y%m%d\")+\"{:02d}\".format(hour)+\".csv.gz\"\n",
    "print(url)\n",
    "top20 = pd.DataFrame(columns = column__)\n",
    "market_id = 1\n",
    "filename = url.split(\"/\")[-1]\n",
    "with open(filename, \"wb\") as f:\n",
    "    r = requests.get(url)\n",
    "    f.write(r.content)\n",
    "df = pd.read_csv(filename,  compression='gzip')\n",
    "df.columns = [\"timestamp\", \"side\", \"action\",\"price\",\"amount\",\"ignore1\",\"ignore2\"]\n",
    "df.loc[df[\"side\"]==1, \"side\"] = \"sell\"\n",
    "df.loc[df[\"side\"]==2, \"side\"] = \"buy\"\n",
    "df = df.drop(columns={\"ignore1\",\"ignore2\"})\n",
    "\n",
    "init_ord_book = df.loc[df[\"action\"]==\"set\"]\n",
    "remaining_ord_book = df.loc[df[\"action\"]!=\"set\"]\n",
    "temp = remaining_ord_book.groupby(['timestamp'])\n",
    "df_final = pd.DataFrame(columns = ['timestamp', 'side', 'action', 'price', 'amount'])  \n",
    "final_data = []"
   ]
  },
  {
   "cell_type": "code",
   "execution_count": null,
   "metadata": {
    "colab": {
     "base_uri": "https://localhost:8080/"
    },
    "id": "w8oSA6T6i6Z8",
    "outputId": "4850d02e-bf0c-48cf-cc5a-0563c8b80c40"
   },
   "outputs": [
    {
     "name": "stderr",
     "output_type": "stream",
     "text": [
      "  0%|          | 0/24082 [00:00<?, ?it/s]/Users/kritiksatija/opt/anaconda3/lib/python3.7/site-packages/pandas/core/indexing.py:1773: SettingWithCopyWarning: \n",
      "A value is trying to be set on a copy of a slice from a DataFrame.\n",
      "Try using .loc[row_indexer,col_indexer] = value instead\n",
      "\n",
      "See the caveats in the documentation: https://pandas.pydata.org/pandas-docs/stable/user_guide/indexing.html#returning-a-view-versus-a-copy\n",
      "  self._setitem_single_column(ilocs[0], value, pi)\n",
      " 10%|█         | 2417/24082 [00:20<03:41, 97.92it/s] "
     ]
    }
   ],
   "source": [
    "for group_name, df_group in tqdm(temp):\n",
    "    df_temp_dict = df_group.to_dict('records')\n",
    "    for row in df_temp_dict:\n",
    "        if(row[\"action\"]==\"take\"):\n",
    "            init_ord_book.loc[(init_ord_book[\"price\"] == row[\"price\"]) & (init_ord_book[\"side\"]==row[\"side\"]), \"amount\"] -= row[\"amount\"]\n",
    "            init_ord_book = init_ord_book[init_ord_book.amount != 0]\n",
    "        elif(row[\"action\"]==\"make\"):\n",
    "            if(row[\"price\"] in list(init_ord_book.loc[(row[\"side\"] == init_ord_book[\"side\"]), \"price\"]) ):\n",
    "                init_ord_book.loc[(init_ord_book[\"price\"]==row[\"price\"]) & (init_ord_book[\"side\"]==row[\"side\"]), \"amount\"] += row[\"amount\"]\n",
    "            else:\n",
    "                init_ord_book.loc[-1] = row\n",
    "                init_ord_book.index = init_ord_book.index + 1\n",
    "    init_ord_book = init_ord_book[(init_ord_book[\"amount\"] > 0.000000001)]\n",
    "    init_ord_book = init_ord_book.sort_values(by=['side', 'price']).reset_index(drop=True)\n",
    "    top20_bids = init_ord_book.loc[init_ord_book.side == 'buy', ['price', 'amount']].sort_values(by='price', ascending=False).iloc[:20]\n",
    "    bid_px = top20_bids['price'].tolist()\n",
    "    bid_qty = top20_bids['amount'].tolist()\n",
    "    top20_asks = init_ord_book.loc[init_ord_book.side == 'sell', ['price', 'amount']].sort_values(by='price', ascending=True).iloc[:20]\n",
    "    ask_px = top20_asks['price'].tolist()\n",
    "    ask_qty = top20_asks['amount'].tolist()\n",
    "    final_row = [group_name*1000, market_id, \"GT-\"+symbol+\"-SPOT\", symbol] + ask_px + ask_qty + bid_px + bid_qty\n",
    "    final_data.append(final_row)"
   ]
  },
  {
   "cell_type": "code",
   "execution_count": 4,
   "metadata": {
    "colab": {
     "base_uri": "https://localhost:8080/"
    },
    "id": "v7BfA8sVpfB1",
    "outputId": "4828365b-a8c0-41e1-c77b-f5988cb0d2d9"
   },
   "outputs": [
    {
     "name": "stdout",
     "output_type": "stream",
     "text": [
      "          timestamp  market_id              market      symbol  ask_0_px  \\\n",
      "0      1.681776e+12          1  GT-GRAIL-USDT-SPOT  GRAIL-USDT   2477.04   \n",
      "1      1.681776e+12          1  GT-GRAIL-USDT-SPOT  GRAIL-USDT   2477.04   \n",
      "2      1.681776e+12          1  GT-GRAIL-USDT-SPOT  GRAIL-USDT   2477.04   \n",
      "3      1.681776e+12          1  GT-GRAIL-USDT-SPOT  GRAIL-USDT   2477.03   \n",
      "4      1.681776e+12          1  GT-GRAIL-USDT-SPOT  GRAIL-USDT   2477.03   \n",
      "...             ...        ...                 ...         ...       ...   \n",
      "24077  1.681780e+12          1  GT-GRAIL-USDT-SPOT  GRAIL-USDT   2459.06   \n",
      "24078  1.681780e+12          1  GT-GRAIL-USDT-SPOT  GRAIL-USDT   2459.06   \n",
      "24079  1.681780e+12          1  GT-GRAIL-USDT-SPOT  GRAIL-USDT   2459.06   \n",
      "24080  1.681780e+12          1  GT-GRAIL-USDT-SPOT  GRAIL-USDT   2459.06   \n",
      "24081  1.681780e+12          1  GT-GRAIL-USDT-SPOT  GRAIL-USDT   2459.06   \n",
      "\n",
      "       ask_1_px  ask_2_px  ask_3_px  ask_4_px  ask_5_px  ...  bid_10_qty  \\\n",
      "0       2477.05   2477.10   2485.03   2495.60   2500.41  ...      0.0762   \n",
      "1       2477.05   2477.10   2485.03   2495.60   2500.41  ...      0.0762   \n",
      "2       2477.05   2477.10   2485.03   2495.60   2500.41  ...      0.0762   \n",
      "3       2477.04   2477.05   2477.10   2485.03   2495.60  ...      0.0762   \n",
      "4       2477.04   2477.10   2485.03   2495.60   2500.41  ...      0.0762   \n",
      "...         ...       ...       ...       ...       ...  ...         ...   \n",
      "24077   2459.07   2459.14   2482.83   2487.80   2491.53  ...      0.0022   \n",
      "24078   2459.07   2459.14   2482.83   2487.80   2491.53  ...      0.0022   \n",
      "24079   2459.07   2459.14   2482.83   2487.80   2491.53  ...      0.0022   \n",
      "24080   2459.07   2459.14   2477.71   2482.83   2487.80  ...      0.0018   \n",
      "24081   2459.07   2459.14   2477.71   2482.83   2487.80  ...      0.0022   \n",
      "\n",
      "       bid_11_qty  bid_12_qty  bid_13_qty  bid_14_qty  bid_15_qty  bid_16_qty  \\\n",
      "0          0.4537      0.0041      0.0277      0.0053      0.0024      0.0057   \n",
      "1          0.4537      0.0041      0.0277      0.0053      0.0024      0.0057   \n",
      "2          0.4537      0.0041      0.0277      0.0053      0.0100      0.0024   \n",
      "3          0.4537      0.0041      0.0277      0.0053      0.0100      0.0024   \n",
      "4          0.4537      0.0041      0.0277      0.0053      0.0100      0.0024   \n",
      "...           ...         ...         ...         ...         ...         ...   \n",
      "24077      0.0018      0.0028      0.0028      0.0042      0.0327      0.0018   \n",
      "24078      0.0018      0.0028      0.0028      0.0042      0.0327      0.0018   \n",
      "24079      0.0018      0.0028      0.0028      0.0042      0.0327      0.0018   \n",
      "24080      0.0028      0.0028      0.0042      0.0327      0.0018      0.0004   \n",
      "24081      0.0018      0.0028      0.0028      0.0042      0.0327      0.0018   \n",
      "\n",
      "       bid_17_qty  bid_18_qty  bid_19_qty  \n",
      "0          0.0014      0.0012      0.0018  \n",
      "1          0.0014      0.0012      0.0018  \n",
      "2          0.0057      0.0014      0.0012  \n",
      "3          0.0057      0.0014      0.0012  \n",
      "4          0.0057      0.0014      0.0012  \n",
      "...           ...         ...         ...  \n",
      "24077      0.0004      0.0041      0.0054  \n",
      "24078      0.0004      0.0041      0.0054  \n",
      "24079      0.0004      0.0041      0.0054  \n",
      "24080      0.0041      0.0054      0.0122  \n",
      "24081      0.0004      0.0041      0.0054  \n",
      "\n",
      "[24082 rows x 84 columns]\n"
     ]
    }
   ],
   "source": [
    "df = pd.DataFrame(final_data, columns = column__temp)\n",
    " \n",
    "print(df )"
   ]
  },
  {
   "cell_type": "code",
   "execution_count": 5,
   "metadata": {
    "id": "awJ8fOq74R62"
   },
   "outputs": [],
   "source": [
    "df[\"date\"] = 1"
   ]
  },
  {
   "cell_type": "code",
   "execution_count": 6,
   "metadata": {
    "colab": {
     "base_uri": "https://localhost:8080/",
     "height": 17
    },
    "id": "pE6bTUPEGGY3",
    "outputId": "1186edc5-502b-484b-d50a-ef15e384c4af"
   },
   "outputs": [],
   "source": [
    "df[[\"date\",\"timestamp\",\"bid_0_px\",\"bid_0_qty\",\"ask_0_px\",\"ask_0_qty\"]].to_csv(\"test1\"+symbol+\".csv\")"
   ]
  },
  {
   "cell_type": "code",
   "execution_count": 7,
   "metadata": {
    "colab": {
     "base_uri": "https://localhost:8080/",
     "height": 17
    },
    "id": "5yVsPukK6B6c",
    "outputId": "ba187838-c9d1-47be-f89f-531361183d89"
   },
   "outputs": [],
   "source": [
    "df.to_csv(\"orderbook\"+symbol+\".csv\")\n"
   ]
  }
 ],
 "metadata": {
  "colab": {
   "provenance": []
  },
  "kernelspec": {
   "display_name": "Python 3",
   "language": "python",
   "name": "python3"
  },
  "language_info": {
   "codemirror_mode": {
    "name": "ipython",
    "version": 3
   },
   "file_extension": ".py",
   "mimetype": "text/x-python",
   "name": "python",
   "nbconvert_exporter": "python",
   "pygments_lexer": "ipython3",
   "version": "3.7.10"
  },
  "vscode": {
   "interpreter": {
    "hash": "aee8b7b246df8f9039afb4144a1f6fd8d2ca17a180786b69acc140d282b71a49"
   }
  }
 },
 "nbformat": 4,
 "nbformat_minor": 1
}
